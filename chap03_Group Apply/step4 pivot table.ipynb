{
 "cells": [
  {
   "cell_type": "markdown",
   "metadata": {},
   "source": [
    "# pivot table\n",
    " - 사용자가 행, 열 그리고 교차셀에 변수를 지정하여 테이블 생성"
   ]
  },
  {
   "cell_type": "code",
   "execution_count": 1,
   "metadata": {},
   "outputs": [],
   "source": [
    "import pandas as pd\n"
   ]
  },
  {
   "cell_type": "code",
   "execution_count": 3,
   "metadata": {},
   "outputs": [
    {
     "name": "stdout",
     "output_type": "stream",
     "text": [
      "<class 'pandas.core.frame.DataFrame'>\n",
      "RangeIndex: 8 entries, 0 to 7\n",
      "Data columns (total 4 columns):\n",
      " #   Column   Non-Null Count  Dtype \n",
      "---  ------   --------------  ----- \n",
      " 0   year     8 non-null      int64 \n",
      " 1   quarter  8 non-null      object\n",
      " 2   size     8 non-null      object\n",
      " 3   price    8 non-null      int64 \n",
      "dtypes: int64(2), object(2)\n",
      "memory usage: 384.0+ bytes\n"
     ]
    },
    {
     "data": {
      "text/plain": [
       "<matplotlib.axes._subplots.AxesSubplot at 0x228edf505c8>"
      ]
     },
     "execution_count": 3,
     "metadata": {},
     "output_type": "execute_result"
    },
    {
     "data": {
      "image/png": "[encoded data removed]",
      "text/plain": [
       "<Figure size 432x288 with 1 Axes>"
      ]
     },
     "metadata": {
      "needs_background": "light"
     },
     "output_type": "display_data"
    },
    {
     "data": {
      "image/png": "[encoded data removed]",
      "text/plain": [
       "<Figure size 432x288 with 1 Axes>"
      ]
     },
     "metadata": {
      "needs_background": "light"
     },
     "output_type": "display_data"
    }
   ],
   "source": [
    "\n",
    "pivo = pd.read_csv('C:\\\\IITT\\\\4_Python-II\\\\workplace\\\\data\\\\pivot_data.csv')\n",
    "pivo.info()\n",
    "pivo.head()\n",
    "'''\n",
    "교차셀 : 매출액 price\n",
    "행 : 년도 year, 분기 quarter\n",
    "열 : 매출규모 size\n",
    "통계함수 : sum\n",
    "'''\n",
    "\n",
    "\n",
    "ptable = pd.pivot_table(pivo,index=['year','quarter'], \n",
    "                        columns='size', \n",
    "                        values='price',\n",
    "                        aggfunc = 'sum')\n",
    "'''\n",
    "size          LARGE  SMALL\n",
    "year quarter              \n",
    "2016 1Q        2000   1000\n",
    "     2Q        2500   1200\n",
    "2017 3Q        2200   1300\n",
    "     4Q        2800   2300\n",
    "'''\n",
    "ptable.shape # (4.2)\n",
    "\n",
    "# 시각화\n",
    "ptable.plot(kind='barh')\n",
    "ptable.plot(kind='barh', stacked=True)\n",
    "\n"
   ]
  },
  {
   "cell_type": "markdown",
   "metadata": {},
   "source": [
    "# 실습하기"
   ]
  },
  {
   "cell_type": "code",
   "execution_count": 4,
   "metadata": {},
   "outputs": [
    {
     "name": "stdout",
     "output_type": "stream",
     "text": [
      "<class 'pandas.core.frame.DataFrame'>\n",
      "RangeIndex: 31 entries, 0 to 30\n",
      "Data columns (total 3 columns):\n",
      " #   Column  Non-Null Count  Dtype  \n",
      "---  ------  --------------  -----  \n",
      " 0   critic  31 non-null     object \n",
      " 1   title   31 non-null     object \n",
      " 2   rating  31 non-null     float64\n",
      "dtypes: float64(1), object(2)\n",
      "memory usage: 872.0+ bytes\n"
     ]
    },
    {
     "data": {
      "text/plain": [
       "title\n",
       "Just My      2.375000\n",
       "Lady         2.875000\n",
       "Snakes       3.833333\n",
       "Superman     4.083333\n",
       "The Night    3.300000\n",
       "You Me       2.500000\n",
       "dtype: float64"
      ]
     },
     "execution_count": 4,
     "metadata": {},
     "output_type": "execute_result"
    }
   ],
   "source": [
    "\n",
    "movie = pd.read_csv('C:\\\\IITT\\\\4_Python-II\\\\workplace\\\\data\\\\movie_rating.csv')\n",
    "movie.info() # 31 x 3\n",
    "pd.pivot_table(movie, index='critic', columns='title', values='rating', aggfunc='sum')\n",
    "'''\n",
    "title    Just My  Lady  Snakes  Superman  The Night  You Me\n",
    "critic                                                     \n",
    "Claudia      3.0   NaN     3.5       4.0        4.5     2.5\n",
    "Gene         1.5   3.0     3.5       5.0        3.0     3.5\n",
    "Jack         NaN   3.0     4.0       5.0        3.0     3.5\n",
    "Lisa         3.0   2.5     3.5       3.5        3.0     2.5\n",
    "Mick         2.0   3.0     4.0       3.0        3.0     2.0\n",
    "Toby         NaN   NaN     4.5       4.0        NaN     1.0\n",
    "'''\n",
    "\n",
    "\n",
    "movie_tab = movie.pivot(index='critic', columns='title', values='rating')\n",
    "\n",
    "# 평가자 기준 평점 평균\n",
    "movie_tab.mean(axis=1) # 행 단위\n",
    "# [해석] Jack 비평가의 평점이 후한 편이다\n",
    "\n",
    "# 영화 기준 평점 평균\n",
    "movie_tab.mean(axis=0) # 열 단위\n",
    "# [해석] Superman 영화의 평점이 좋다\n"
   ]
  }
 ],
 "metadata": {
  "kernelspec": {
   "display_name": "Python 3",
   "language": "python",
   "name": "python3"
  },
  "language_info": {
   "codemirror_mode": {
    "name": "ipython",
    "version": 3
   },
   "file_extension": ".py",
   "mimetype": "text/x-python",
   "name": "python",
   "nbconvert_exporter": "python",
   "pygments_lexer": "ipython3",
   "version": "3.7.6"
  }
 },
 "nbformat": 4,
 "nbformat_minor": 4
}
