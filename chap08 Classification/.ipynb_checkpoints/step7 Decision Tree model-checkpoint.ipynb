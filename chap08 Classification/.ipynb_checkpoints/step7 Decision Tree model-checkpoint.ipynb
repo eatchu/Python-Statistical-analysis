{
 "cells": [
  {
   "cell_type": "markdown",
   "metadata": {},
   "source": [
    "# Decision Tree model\n",
    " - 중요변수 선정 기준 : GINI, Entropy\n",
    " - GINI : 불확실성을 개선하는데 기여하는 척도\n",
    " - Entropy : 불확실성을 나타내는 척도\n",
    " - both 작을수록 불확실성도 낮다."
   ]
  },
  {
   "cell_type": "code",
   "execution_count": 1,
   "metadata": {},
   "outputs": [
    {
     "name": "stderr",
     "output_type": "stream",
     "text": [
      "C:\\Users\\user\\anaconda3\\lib\\site-packages\\sklearn\\utils\\deprecation.py:144: FutureWarning: The sklearn.tree.export module is  deprecated in version 0.22 and will be removed in version 0.24. The corresponding classes / functions should instead be imported from sklearn.tree. Anything that cannot be imported from sklearn.tree is now part of the private API.\n",
      "  warnings.warn(message, FutureWarning)\n"
     ]
    }
   ],
   "source": [
    "# 패키지설치\n",
    "\n",
    "from sklearn.model_selection import train_test_split\n",
    "from sklearn.datasets import load_iris, load_wine\n",
    "from sklearn.tree import DecisionTreeClassifier, export_graphviz  # tree model\n",
    "from sklearn.metrics import accuracy_score, confusion_matrix\n",
    "# tree 시각화 관련\n",
    "from sklearn.tree.export import export_text  # tree 구조 텍스트\n",
    "from sklearn import tree\n"
   ]
  },
  {
   "cell_type": "code",
   "execution_count": 3,
   "metadata": {},
   "outputs": [],
   "source": [
    "iris = load_iris()\n",
    "iris.target_names  # array(['setosa', 'versicolor', 'virginica'], dtype='<U10')\n",
    "name = iris.feature_names\n",
    "\n",
    "\n",
    "X = iris.data\n",
    "y = iris.target\n",
    "\n",
    "X.shape  # (150, 4)\n",
    "y.shape  # (150,)\n",
    "\n",
    "x_train, x_test, y_train, y_test = train_test_split(X, y, test_size=0.3, random_state=1)\n",
    "\n",
    "# help(DecisionTreeClassifier)\n",
    "\n",
    "# model 생성\n",
    "dtc = DecisionTreeClassifier(criterion='gini', random_state=123, max_depth=3)\n",
    "model = dtc.fit(X=x_train, y=y_train)\n",
    "\n",
    "\n",
    "dtc2 = DecisionTreeClassifier(criterion='entropy') # default max_Depth=6\n",
    "model2 = dtc2.fit(X=x_train, y=y_train)\n"
   ]
  },
  {
   "cell_type": "code",
   "execution_count": 6,
   "metadata": {},
   "outputs": [
    {
     "name": "stdout",
     "output_type": "stream",
     "text": [
      "|--- petal length (cm) <= 2.60\n",
      "|   |--- class: 0\n",
      "|--- petal length (cm) >  2.60\n",
      "|   |--- petal width (cm) <= 1.65\n",
      "|   |   |--- petal length (cm) <= 5.00\n",
      "|   |   |   |--- class: 1\n",
      "|   |   |--- petal length (cm) >  5.00\n",
      "|   |   |   |--- class: 2\n",
      "|   |--- petal width (cm) >  1.65\n",
      "|   |   |--- petal length (cm) <= 4.85\n",
      "|   |   |   |--- class: 2\n",
      "|   |   |--- petal length (cm) >  4.85\n",
      "|   |   |   |--- class: 2\n",
      "\n"
     ]
    },
    {
     "data": {
      "image/png": "[encoded data removed]",
      "text/plain": [
       "<Figure size 432x288 with 1 Axes>"
      ]
     },
     "metadata": {
      "needs_background": "light"
     },
     "output_type": "display_data"
    }
   ],
   "source": [
    "# tree 모델 시각화\n",
    "tree.plot_tree(model)\n",
    "tree.plot_tree(model2)\n",
    "\n",
    "print(export_text(model, name))"
   ]
  },
  {
   "cell_type": "code",
   "execution_count": 7,
   "metadata": {},
   "outputs": [
    {
     "data": {
      "text/plain": [
       "array([[14,  0,  0],\n",
       "       [ 0, 17,  1],\n",
       "       [ 0,  1, 12]], dtype=int64)"
      ]
     },
     "execution_count": 7,
     "metadata": {},
     "output_type": "execute_result"
    }
   ],
   "source": [
    "y_pred = model.predict(x_test)\n",
    "y_true = y_test\n",
    "\n",
    "acc = accuracy_score(y_true,y_pred)\n",
    "acc # 0.9555555555555556\n",
    "con_max = confusion_matrix(y_true, y_pred)\n",
    "con_max\n",
    "\n",
    "\n",
    "y_pred2 = model2.predict(x_test)\n",
    "y_true2 = y_test\n",
    "\n",
    "acc2 = accuracy_score(y_true2,y_pred2)\n",
    "acc2 # 0.9555555555555556  max_depth=6\n",
    "con_max2 = confusion_matrix(y_true2, y_pred2)\n",
    "con_max2\n"
   ]
  },
  {
   "cell_type": "code",
   "execution_count": null,
   "metadata": {},
   "outputs": [],
   "source": [
    "\n",
    "##########################\n",
    "### model overfitting ###\n",
    "#########################\n",
    "\n",
    "wine = load_wine()\n",
    "\n",
    "X = wine.data\n",
    "y = wine.target\n",
    "\n",
    "x_train, x_test, y_train, y_test = train_test_split(X, y, test_size=0.3, random_state=123)\n",
    "\n",
    "\n",
    "\n",
    "# model 1 : max_depth=5\n",
    "dt = DecisionTreeClassifier()\n",
    "model = dt.fit(x_train,y_train)\n",
    "\n",
    "train_score = model.score(x_train,y_train)\n",
    "test_score = model.score(x_test,y_test)\n",
    "\n",
    "print(train_score,test_score)\n",
    "# 1.0 , 0.9074074074074074\n",
    "\n",
    "tree.plot_tree(model)\n",
    "print(export_text(model))\n",
    "\n",
    "\n",
    "\n",
    "# model 2 : max_depth=3\n",
    "dt = DecisionTreeClassifier(max_depth=3)\n",
    "model = dt.fit(x_train,y_train)\n",
    "\n",
    "train_score = model.score(x_train,y_train)\n",
    "test_score = model.score(x_test,y_test)\n",
    "\n",
    "print(train_score,test_score)\n",
    "# 0.9838709677419355 , 0.9629629629629629\n",
    "\n",
    "tree.plot_tree(model)\n",
    "print(export_text(model))\n",
    "\n",
    "\n",
    "export_graphviz(model, out_file='DT_tree_graph.dot',\n",
    "                max_depth=3,\n",
    "                class_names=True)\n"
   ]
  }
 ],
 "metadata": {
  "kernelspec": {
   "display_name": "Python 3",
   "language": "python",
   "name": "python3"
  },
  "language_info": {
   "codemirror_mode": {
    "name": "ipython",
    "version": 3
   },
   "file_extension": ".py",
   "mimetype": "text/x-python",
   "name": "python",
   "nbconvert_exporter": "python",
   "pygments_lexer": "ipython3",
   "version": "3.7.6"
  }
 },
 "nbformat": 4,
 "nbformat_minor": 4
}
