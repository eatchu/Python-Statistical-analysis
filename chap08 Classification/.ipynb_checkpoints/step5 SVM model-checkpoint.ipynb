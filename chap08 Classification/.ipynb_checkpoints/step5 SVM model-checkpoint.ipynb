{
 "cells": [
  {
   "cell_type": "markdown",
   "metadata": {},
   "source": [
    "# SVM model\n",
    " - 선형 SVM, 비선형 SVM\n",
    " - Hyper paramter(kernel, C, gamma)"
   ]
  },
  {
   "cell_type": "code",
   "execution_count": 1,
   "metadata": {},
   "outputs": [],
   "source": [
    "# 패키지 설치\n",
    "\n",
    "import pandas as pd # csv file read\n",
    "from sklearn.model_selection import train_test_split # split \n",
    "from sklearn.svm import SVC  # model class\n",
    "from sklearn.metrics import accuracy_score, confusion_matrix, f1_score # model 평가  \n",
    "\n"
   ]
  },
  {
   "cell_type": "code",
   "execution_count": 2,
   "metadata": {},
   "outputs": [
    {
     "name": "stdout",
     "output_type": "stream",
     "text": [
      "<class 'pandas.core.frame.DataFrame'>\n",
      "RangeIndex: 150 entries, 0 to 149\n",
      "Data columns (total 5 columns):\n",
      " #   Column        Non-Null Count  Dtype  \n",
      "---  ------        --------------  -----  \n",
      " 0   Sepal.Length  150 non-null    float64\n",
      " 1   Sepal.Width   150 non-null    float64\n",
      " 2   Petal.Length  150 non-null    float64\n",
      " 3   Petal.Width   150 non-null    float64\n",
      " 4   Species       150 non-null    object \n",
      "dtypes: float64(4), object(1)\n",
      "memory usage: 6.0+ KB\n",
      "0.95\n",
      "0.9833333333333333\n"
     ]
    }
   ],
   "source": [
    "\n",
    "# 1. dataset load\n",
    "iris = pd.read_csv(\"C:/IITT/4_Python-II/workplace/data/iris.csv\")\n",
    "iris.info()\n",
    "\n",
    "\n",
    "# 2. x,y변수 선택 \n",
    "cols = list(iris.columns)\n",
    "cols\n",
    "\n",
    "x_cols = cols[:4] # ['Sepal.Length', 'Sepal.Width', 'Petal.Length', 'Petal.Width']\n",
    "y_col = cols[-1] # 'Species'\n",
    "\n",
    "\n",
    "# 3. train(60)/test(40) split\n",
    "train, test = train_test_split(iris, test_size=0.4)\n",
    "\n",
    "# 4. SVM model 생성 \n",
    "svc = SVC(C=1.0, gamma='auto', kernel='rbf') # 비선형 SVM model \n",
    "# default : C= 1.0, kernel='rbf'\n",
    "\n",
    "svc2 = SVC(C=1.0, kernel='linear') # 선형 SVM model\n",
    "\n",
    "model = svc.fit(X=train[x_cols], y=train[y_col])\n",
    "model2 = svc2.fit(X=train[x_cols], y=train[y_col])\n",
    "\n",
    "# 5. model 평가 \n",
    "y_pred = model.predict(X = test[x_cols])\n",
    "y_true = test[y_col]\n",
    "\n",
    "# 비선형 SVM\n",
    "acc = accuracy_score(y_true, y_pred)\n",
    "print(acc)  # 0.9666666666666667 -> 0.95\n",
    "\n",
    "# 선형 SVM\n",
    "y_pred2 = model2.predict(X = test[x_cols])\n",
    "y_true2 = test[y_col]\n",
    "\n",
    "acc2 = accuracy_score(y_true2, y_pred2)\n",
    "print(acc2) # 0.9666666666666667 -> 0.96\n",
    "\n"
   ]
  },
  {
   "cell_type": "markdown",
   "metadata": {},
   "source": [
    "# Grid Search\n",
    "- hyper parameter(kernel, C, gamma)"
   ]
  },
  {
   "cell_type": "code",
   "execution_count": 3,
   "metadata": {},
   "outputs": [
    {
     "name": "stdout",
     "output_type": "stream",
     "text": [
      "best score = 1.0\n",
      "best parameter= {'kernal': 'linear', 'gamma': 0.001, 'C': 10}\n"
     ]
    }
   ],
   "source": [
    "# Cost, gamma\n",
    "params = [0.001, 0.01, 0.1, 1, 10, 100] # e-3 ~ e+2\n",
    "kernel = ['linear', 'rbf'] # kernel \n",
    "best_score = 0 # best score \n",
    "best_parameter = {} # dict \n",
    "\n",
    "for k in kernel : \n",
    "    for gamma in params : \n",
    "        for C in params : \n",
    "            svc = SVC(kernel = k, gamma = gamma, C = C)\n",
    "            model = svc.fit(train[x_cols], train[y_col])\n",
    "            score = model.score(test[x_cols], test[y_col])\n",
    "            \n",
    "            if score > best_score :\n",
    "               best_score = score \n",
    "               best_parameter = {'kernal':k,'gamma':gamma,'C':C}\n",
    "               \n",
    "\n",
    "print('best score =', best_score)       \n",
    "print('best parameter=', best_parameter)        \n",
    "# best score = 0.9666666666666667\n",
    "# best parameter= {'kernal': 'linear', 'gamma': 0.001, 'C': 1}\n",
    "\n"
   ]
  }
 ],
 "metadata": {
  "kernelspec": {
   "display_name": "Python 3",
   "language": "python",
   "name": "python3"
  },
  "language_info": {
   "codemirror_mode": {
    "name": "ipython",
    "version": 3
   },
   "file_extension": ".py",
   "mimetype": "text/x-python",
   "name": "python",
   "nbconvert_exporter": "python",
   "pygments_lexer": "ipython3",
   "version": "3.7.6"
  }
 },
 "nbformat": 4,
 "nbformat_minor": 4
}
