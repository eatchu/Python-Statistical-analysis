{
 "cells": [
  {
   "cell_type": "markdown",
   "metadata": {},
   "source": [
    "# 집단 간 평균차이 검정 (t-test)\n",
    "1. 한 집단 평균차이 검정\n",
    "2. 두 집단 평균차이 검정\n",
    "3. 대응 두 집단 평균차이 검정"
   ]
  },
  {
   "cell_type": "code",
   "execution_count": 1,
   "metadata": {},
   "outputs": [],
   "source": [
    "# 패키지 설치\n",
    "from scipy import stats\n",
    "import numpy as np\n",
    "import pandas as pd\n"
   ]
  },
  {
   "cell_type": "markdown",
   "metadata": {},
   "source": [
    "# 1. 한 집단 평균차이 검정"
   ]
  },
  {
   "cell_type": "code",
   "execution_count": 5,
   "metadata": {},
   "outputs": [
    {
     "name": "stdout",
     "output_type": "stream",
     "text": [
      "모집단 평균 :  175.70725377478652\n",
      "statistic=1.58794, pvalue=0.11336\n"
     ]
    }
   ],
   "source": [
    "# 대한민국 남자 평균 키(모평균) : 175.5cm\n",
    "\n",
    "# 모집단 생성 -> 표준 추출(300명)\n",
    "sample_data = np.random.uniform(172,180,size=300)\n",
    "sample_data\n",
    "\n",
    "# 기술통계\n",
    "print('모집단 평균 : ',sample_data.mean())\n",
    "    \n",
    "   \n",
    "grp_test = stats.ttest_1samp(sample_data,175.5) # 모집단 vs 모평균\n",
    "print('statistic=%.5f, pvalue=%.5f'%(grp_test))\n"
   ]
  },
  {
   "cell_type": "markdown",
   "metadata": {},
   "source": [
    "# 2. 두 집단 평균차이 검정"
   ]
  },
  {
   "cell_type": "code",
   "execution_count": 11,
   "metadata": {},
   "outputs": [
    {
     "name": "stdout",
     "output_type": "stream",
     "text": [
      "statistic=-1.14543, pvalue=0.25674\n",
      "**************************************************\n",
      "여자집단 평균: 69.82632837067528\n",
      "남자집단 평균: 73.55732014794785\n",
      "**************************************************\n",
      "statistic=-0.94686, pvalue=0.34467\n",
      "교육 방법에 따른 점수 평균의 차이는 없다\n"
     ]
    }
   ],
   "source": [
    "female_score = np.random.uniform(50,100, size=30) # 여자집단 변수생성\n",
    "male_score = np.random.uniform(45,95,size=30) # 남자집단 변수생성\n",
    "two_sample = stats.ttest_ind(female_score,male_score)\n",
    "print('statistic=%.5f, pvalue=%.5f'%(two_sample))\n",
    "\n",
    "\n",
    "# 기술통계\n",
    "print('*'*50)\n",
    "print('여자집단 평균:',female_score.mean())\n",
    "print('남자집단 평균:',male_score.mean() )\n",
    "\n",
    "# csv file load\n",
    "two_sample = pd.read_csv('C:/IITT/4_Python-II/workplace/data/two_sample.csv')\n",
    "two_sample.info() # 240x5\n",
    "\n",
    "sample_data = two_sample[['method','score']]\n",
    "sample_data['method'].value_counts()\n",
    "'''\n",
    "2    120\n",
    "1    120\n",
    "'''\n",
    "\n",
    "# 교육방법에 따른 subset\n",
    "method1 = sample_data[sample_data['method']==1]\n",
    "method2 = sample_data[sample_data['method']==2]\n",
    "\n",
    "score1 = method1.score\n",
    "score2 = method2.score\n",
    "\n",
    "# 결측치 평균 대체\n",
    "score1 = score1.fillna(score1.mean())\n",
    "score2 = score2.fillna(score2.mean())\n",
    "\n",
    "\n",
    "sample = stats.ttest_ind(score1,score2)\n",
    "print('*'*50)\n",
    "print('statistic=%.5f, pvalue=%.5f'%(sample))\n",
    "print('교육 방법에 따른 점수 평균의 차이는 없다' if sample.pvalue>=0.05 else '교육 방법에 따른 점수 평균의 차이는 있다')"
   ]
  },
  {
   "cell_type": "markdown",
   "metadata": {},
   "source": [
    "# 3. 대응 두 집단 평균차이 검정"
   ]
  },
  {
   "cell_type": "code",
   "execution_count": 12,
   "metadata": {},
   "outputs": [
    {
     "name": "stdout",
     "output_type": "stream",
     "text": [
      "statistic=1.52575, pvalue=0.13790\n"
     ]
    }
   ],
   "source": [
    "# 복용전 65 -> 복용후 60\n",
    "before = np.random.randint(65, size=30) * 0.5\n",
    "after = np.random.randint(60, size=30) * 0.5\n",
    "\n",
    "paired_test = stats.ttest_rel(before,after)\n",
    "print('statistic=%.5f, pvalue=%.5f'%(paired_test))\n"
   ]
  }
 ],
 "metadata": {
  "kernelspec": {
   "display_name": "Python 3",
   "language": "python",
   "name": "python3"
  },
  "language_info": {
   "codemirror_mode": {
    "name": "ipython",
    "version": 3
   },
   "file_extension": ".py",
   "mimetype": "text/x-python",
   "name": "python",
   "nbconvert_exporter": "python",
   "pygments_lexer": "ipython3",
   "version": "3.7.6"
  }
 },
 "nbformat": 4,
 "nbformat_minor": 4
}
