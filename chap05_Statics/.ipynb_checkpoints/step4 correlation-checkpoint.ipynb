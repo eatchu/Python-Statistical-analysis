{
 "cells": [
  {
   "cell_type": "markdown",
   "metadata": {},
   "source": [
    "# 공분산과 상관계수\n",
    "@ 공통점 : 변수간의 상관성 분석\n",
    "\n",
    "1. 공분산 : 두 확률변수 간의 분산(평균에서 퍼짐 정도)를 나타내는 통계\n",
    "  - 두 확률변수 : X,Y -> X표본평균(ux), Y표본평균(uy)\n",
    "     - cov(X,Y) = sum((X-ux)*(Y-uy)) / n  \n",
    "     - cov(X,Y) > 0 : X증가 -> Y증가\n",
    "     - cov(X,Y) < 0 : X증가 -> Y감소\n",
    "     - cov(X,Y) = 0 : 두 변수는 선형관계가 아님\n",
    "   - 문제점 : 값이 큰 변수에 영향을 받는다\n",
    "2. 상관계수 : 공분산을 각각의 표준편차로 나누어서 정규화한 통계\n",
    "  - 부호는 공분산과 동일하고, -1 ~ +1 (절대값이 1을 넘지 않음)\n",
    "    - Cor(X,Y) = Cov(X,Y) / std(X) * std(Y)"
   ]
  },
  {
   "cell_type": "code",
   "execution_count": 1,
   "metadata": {},
   "outputs": [],
   "source": [
    "# 패키지 설치\n",
    "import numpy as pn\n",
    "import pandas as pd\n"
   ]
  },
  {
   "cell_type": "markdown",
   "metadata": {},
   "source": [
    "# 1. 공분산\n",
    "\n",
    "- Cov(X,Y) = sum((X-ux)*(Y-uy)) / n"
   ]
  },
  {
   "cell_type": "code",
   "execution_count": 6,
   "metadata": {},
   "outputs": [
    {
     "name": "stdout",
     "output_type": "stream",
     "text": [
      "*****correlation*****\n",
      "               sid     score        iq   academy      game        tv\n",
      "sid      1.000000 -0.014399 -0.007048 -0.004398  0.018806  0.024565\n",
      "score   -0.014399  1.000000  0.882220  0.896265 -0.298193 -0.819752\n",
      "iq      -0.007048  0.882220  1.000000  0.671783 -0.031516 -0.585033\n",
      "academy -0.004398  0.896265  0.671783  1.000000 -0.351315 -0.948551\n",
      "game     0.018806 -0.298193 -0.031516 -0.351315  1.000000  0.239217\n",
      "tv       0.024565 -0.819752 -0.585033 -0.948551  0.239217  1.000000\n",
      "50.99528888888886 7.072444444444438\n"
     ]
    }
   ],
   "source": [
    "\n",
    "score_iq = pd.read_csv('C:/IITT/4_Python-II/workplace/data/score_iq.csv')\n",
    "# score_iq.info() # 150 x 6\n",
    "\n",
    "cor = score_iq.corr()\n",
    "print('*****correlation*****\\n',cor)\n",
    "# score - iq, academy 칼럼의 상관성이 가장 높게 나옴\n",
    "\n",
    "# 변수 설정\n",
    "X =  score_iq['score']\n",
    "Y1 =  score_iq['iq']\n",
    "Y2 =  score_iq['academy']\n",
    "\n",
    "# 공분산 함수 정의\n",
    "def Cov(X,Y):\n",
    "    ux = X.mean()\n",
    "    uy = Y.mean()\n",
    "    cov_re = sum((X-ux)*(Y-uy))/len(X)\n",
    "    return cov_re\n",
    "\n",
    "cov1 = Cov(X,Y1) # score vs iq\n",
    "cov2 = Cov(X,Y2) # score vs academy\n",
    "\n",
    "print(cov1, cov2) # 50.99528888888886, 7.072444444444438\n"
   ]
  },
  {
   "cell_type": "markdown",
   "metadata": {},
   "source": [
    "# 2. 상관계수\n",
    "\n",
    "- Cor(X,Y) = Cov(X,Y) / std(X) * std(Y)"
   ]
  },
  {
   "cell_type": "code",
   "execution_count": 8,
   "metadata": {},
   "outputs": [
    {
     "name": "stdout",
     "output_type": "stream",
     "text": [
      "0.8763388756493802 0.8902895813918037\n"
     ]
    }
   ],
   "source": [
    "# 상관계수 함수 정의\n",
    "def Cor(X,Y):\n",
    "    cov = Cov(X,Y)\n",
    "    std_x = X.std()\n",
    "    std_y = Y.std()\n",
    "    cor_re = cov / (std_x*std_y)\n",
    "    return cor_re\n",
    "cor1 = Cor(X,Y1)\n",
    "cor2 = Cor(X,Y2)\n",
    "print(cor1, cor2) # 0.8763388756493802, 0.8902895813918037\n"
   ]
  }
 ],
 "metadata": {
  "kernelspec": {
   "display_name": "Python 3",
   "language": "python",
   "name": "python3"
  },
  "language_info": {
   "codemirror_mode": {
    "name": "ipython",
    "version": 3
   },
   "file_extension": ".py",
   "mimetype": "text/x-python",
   "name": "python",
   "nbconvert_exporter": "python",
   "pygments_lexer": "ipython3",
   "version": "3.7.6"
  }
 },
 "nbformat": 4,
 "nbformat_minor": 4
}
