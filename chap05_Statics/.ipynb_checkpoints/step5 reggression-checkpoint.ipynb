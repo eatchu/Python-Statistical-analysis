{
 "cells": [
  {
   "cell_type": "markdown",
   "metadata": {},
   "source": [
    "# 회귀모델\n",
    "- scipy 패키지의 stats 모듈의 함수\n",
    "   - 통계적인 방식의 회귀분석\n",
    "\n",
    "1. 단순선형회귀모델\n",
    "2. 다중선형회귀모델"
   ]
  },
  {
   "cell_type": "code",
   "execution_count": 4,
   "metadata": {},
   "outputs": [],
   "source": [
    "# 패키지 설치\n",
    "import pandas as pd\n",
    "from scipy import stats"
   ]
  },
  {
   "cell_type": "markdown",
   "metadata": {},
   "source": [
    "# 1. 단순선형회귀모델\n",
    "\n",
    "- x -> y"
   ]
  },
  {
   "cell_type": "code",
   "execution_count": 5,
   "metadata": {},
   "outputs": [
    {
     "name": "stdout",
     "output_type": "stream",
     "text": [
      "x 기울기= 0.6514309527270075\n",
      "y 절편= -2.8564471221974657\n"
     ]
    },
    {
     "data": {
      "text/plain": [
       "0    3\n",
       "1    2\n",
       "2    4\n",
       "3    2\n",
       "4    2\n",
       "5    3\n",
       "6    4\n",
       "7    2\n",
       "8    3\n",
       "9    3\n",
       "Name: c, dtype: int64"
      ]
     },
     "execution_count": 5,
     "metadata": {},
     "output_type": "execute_result"
    }
   ],
   "source": [
    "\n",
    "score_iq = pd.read_csv(\"C:/IITT/4_Python-II/workplace/data/score_iq.csv\")\n",
    "# score_iq.info() # 150 x 6\n",
    "\n",
    "\n",
    "# iq를 독립변수로 잡아 성적과의 관계를 알아본다\n",
    "\n",
    "# 변수선택\n",
    "x = score_iq.iq\n",
    "y = score_iq['score']\n",
    "\n",
    "# 회귀모델 생성\n",
    "model = stats.linregress(x,y)\n",
    "model\n",
    "'''\n",
    "slope=0.6514309527270075 : 기울기\n",
    "intercept=-2.8564471221974657 : 절편\n",
    "rvalue=0.8822203446134699 : 설명력\n",
    "pvalue=2.8476895206683644e-50 : x의 유의성 검정\n",
    "stderr=0.028577934409305443 : 표본 오차\n",
    "'''\n",
    "\n",
    "print('x 기울기=',model.slope) # x 기울기= 0.6514309527270075\n",
    "print('y 절편=',model.intercept) # y 절편= -2.8564471221974657\n",
    "\n",
    "score_iq.head() \n",
    "'''\n",
    "     sid  score(y)   iq(x)   academy  game  tv\n",
    "0  10001     90      140        2     1   0\n",
    "'''\n",
    "\n",
    "# y = x*a + b\n",
    "X = 140  # iq\n",
    "y_pred = X * model.slope + model.intercept\n",
    "y_pred # 88.34388625958358\n",
    "\n",
    "Y = 90\n",
    "err = Y-y_pred\n",
    "err # 1.6561137404164157\n",
    "\n",
    "\n",
    "##### product.csv #####\n",
    "product = pd.read_csv('C:/IITT/4_Python-II/workplace/data/product.csv')\n",
    "# product.info()\n",
    "\n",
    "product.corr()\n",
    "\n",
    "# x : 제품적절성 -> y : 제품만족도\n",
    "model2 = stats.linregress(product['b'],product['c'])\n",
    "model2\n",
    "'''\n",
    "(slope=0.7392761785971821, \n",
    "intercept=0.7788583344701907, \n",
    "rvalue=0.766852699640837, \n",
    "pvalue=2.235344857549548e-52, \n",
    "stderr=0.03822605528717565)\n",
    "'''\n",
    "\n",
    "product.head(1) # b(X)=4, c(Y)=3\n",
    "\n",
    "X = 4\n",
    "y_pred = X * model2.slope + model2.intercept\n",
    "y_pred # 3.735963048858919\n",
    "\n",
    "Y = 3\n",
    "err = (Y-y_pred)**2\n",
    "err # 0.5416416092857157\n",
    "\n",
    "X = product['b']\n",
    "y_pred = X * model2.slope + model2.intercept # 예측치\n",
    "Y = product['c'] # 관측치\n",
    "\n",
    "len(y_pred) # 264\n",
    "y_pred[:10]\n",
    "Y[:10]\n"
   ]
  },
  {
   "cell_type": "markdown",
   "metadata": {},
   "source": [
    "# 2. 회귀모델 시각화"
   ]
  },
  {
   "cell_type": "code",
   "execution_count": 9,
   "metadata": {},
   "outputs": [
    {
     "data": {
      "image/png": "[encoded data removed]",
      "text/plain": [
       "<Figure size 432x288 with 1 Axes>"
      ]
     },
     "metadata": {
      "needs_background": "light"
     },
     "output_type": "display_data"
    }
   ],
   "source": [
    "from pylab import plot, legend, show\n",
    "\n",
    "plot(product['b'],product['c'],'b.') # (x적절성,y만족성) : 산점도\n",
    "plot(product['b'],y_pred,'r.-') # 회귀선\n",
    "legend(['x,y scatter','regress model line'])\n",
    "show()"
   ]
  },
  {
   "cell_type": "markdown",
   "metadata": {},
   "source": [
    "# 3. 다중선형회귀모델\n",
    "- y ~ x1 + x2 + ..."
   ]
  },
  {
   "cell_type": "code",
   "execution_count": 6,
   "metadata": {},
   "outputs": [
    {
     "name": "stdout",
     "output_type": "stream",
     "text": [
      "<class 'pandas.core.frame.DataFrame'>\n",
      "RangeIndex: 6497 entries, 0 to 6496\n",
      "Data columns (total 13 columns):\n",
      " #   Column                Non-Null Count  Dtype  \n",
      "---  ------                --------------  -----  \n",
      " 0   type                  6497 non-null   object \n",
      " 1   fixed acidity         6497 non-null   float64\n",
      " 2   volatile acidity      6497 non-null   float64\n",
      " 3   citric acid           6497 non-null   float64\n",
      " 4   residual sugar        6497 non-null   float64\n",
      " 5   chlorides             6497 non-null   float64\n",
      " 6   free sulfur dioxide   6497 non-null   float64\n",
      " 7   total sulfur dioxide  6497 non-null   float64\n",
      " 8   density               6497 non-null   float64\n",
      " 9   pH                    6497 non-null   float64\n",
      " 10  sulphates             6497 non-null   float64\n",
      " 11  alcohol               6497 non-null   float64\n",
      " 12  quality               6497 non-null   int64  \n",
      "dtypes: float64(11), int64(1), object(1)\n",
      "memory usage: 660.0+ KB\n",
      "<class 'pandas.core.frame.DataFrame'>\n",
      "RangeIndex: 6497 entries, 0 to 6496\n",
      "Data columns (total 13 columns):\n",
      " #   Column                Non-Null Count  Dtype  \n",
      "---  ------                --------------  -----  \n",
      " 0   type                  6497 non-null   object \n",
      " 1   fixed_acidity         6497 non-null   float64\n",
      " 2   volatile_acidity      6497 non-null   float64\n",
      " 3   citric_acid           6497 non-null   float64\n",
      " 4   residual_sugar        6497 non-null   float64\n",
      " 5   chlorides             6497 non-null   float64\n",
      " 6   free_sulfur_dioxide   6497 non-null   float64\n",
      " 7   total_sulfur_dioxide  6497 non-null   float64\n",
      " 8   density               6497 non-null   float64\n",
      " 9   pH                    6497 non-null   float64\n",
      " 10  sulphates             6497 non-null   float64\n",
      " 11  alcohol               6497 non-null   float64\n",
      " 12  quality               6497 non-null   int64  \n",
      "dtypes: float64(11), int64(1), object(1)\n",
      "memory usage: 660.0+ KB\n"
     ]
    },
    {
     "data": {
      "image/png": "[encoded data removed]",
      "text/plain": [
       "<Figure size 432x288 with 1 Axes>"
      ]
     },
     "metadata": {
      "needs_background": "light"
     },
     "output_type": "display_data"
    }
   ],
   "source": [
    "from statsmodels.formula.api import ols # function\n",
    "\n",
    "wine = pd.read_csv('C:/IITT/4_Python-II/workplace/data/winequality-both.csv') \n",
    "wine.info()\n",
    "\n",
    "# 칼럼명 변경\n",
    "wine.columns = wine.columns.str.replace(' ','_')\n",
    "wine.info()\n",
    "\n",
    "# quality vs other\n",
    "cor = wine.corr()\n",
    "cor['quality']\n",
    "formula = \"quality ~ alcohol + chlorides + volatile_acidity\"\n",
    "\n",
    "model = ols(formula, data=wine).fit()\n",
    "model # object info\n",
    "model.summary() # 분석결과\n",
    "\n",
    "'''\n",
    "Adj. R-squared:                  0.259 -> 설명력\n",
    "F-statistic:                     758.6\n",
    "Prob (F-statistic):               0.00 < 0.05 : 모델 유의성 검정\n",
    "'''\n",
    "\n",
    "\n",
    "# 기울기, 절편\n",
    "model.params\n",
    "'''\n",
    "Intercept           2.909941 : 절편\n",
    "alcohol             0.319578 : x1\n",
    "chlorides           0.159258 : x2\n",
    "volatile_acidity   -1.334944 : x3\n",
    "'''\n",
    "\n",
    "\n",
    "\n",
    "# Y 예측치\n",
    "y_pred = model.fittedvalues # y_pred 예측치를 별도로 가지고 있음\n",
    "y_true = wine['quality']\n",
    "\n",
    "err = (y_true - y_pred)**2\n",
    "err # 각각의 예측치와 관측치에 대한 오차율을 볼 수 있음\n",
    "\n",
    "y_true.mean() # 5.818377712790519\n",
    "y_pred.mean() # 5.81837771279059\n",
    "\n",
    "# 차트 확인 \n",
    "import matplotlib.pyplot as plt\n",
    "\n",
    "plt.plot(y_true[:50], 'b', label='real values')\n",
    "plt.plot(y_pred[:50], 'r', label='y prediction')\n",
    "plt.yticks(range(0,10))\n",
    "plt.legend(loc='best')\n",
    "plt.show()\n"
   ]
  }
 ],
 "metadata": {
  "kernelspec": {
   "display_name": "Python 3",
   "language": "python",
   "name": "python3"
  },
  "language_info": {
   "codemirror_mode": {
    "name": "ipython",
    "version": 3
   },
   "file_extension": ".py",
   "mimetype": "text/x-python",
   "name": "python",
   "nbconvert_exporter": "python",
   "pygments_lexer": "ipython3",
   "version": "3.7.6"
  }
 },
 "nbformat": 4,
 "nbformat_minor": 4
}
