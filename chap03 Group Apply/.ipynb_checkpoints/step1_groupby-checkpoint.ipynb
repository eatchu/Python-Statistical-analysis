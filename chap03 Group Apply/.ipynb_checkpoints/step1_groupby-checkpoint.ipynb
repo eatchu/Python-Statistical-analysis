{
 "cells": [
  {
   "cell_type": "markdown",
   "metadata": {},
   "source": [
    "# DataFrame 객체 대상 그룹화\n",
    "- 형식) DF.groupby('집단변수').수학/통계 관련 함수() -> int타입의 칼럼에 적용 가능"
   ]
  },
  {
   "cell_type": "code",
   "execution_count": 2,
   "metadata": {},
   "outputs": [
    {
     "name": "stdout",
     "output_type": "stream",
     "text": [
      "<class 'pandas.core.frame.DataFrame'>\n",
      "RangeIndex: 244 entries, 0 to 243\n",
      "Data columns (total 7 columns):\n",
      " #   Column      Non-Null Count  Dtype  \n",
      "---  ------      --------------  -----  \n",
      " 0   total_bill  244 non-null    float64\n",
      " 1   tip         244 non-null    float64\n",
      " 2   sex         244 non-null    object \n",
      " 3   smoker      244 non-null    object \n",
      " 4   day         244 non-null    object \n",
      " 5   time        244 non-null    object \n",
      " 6   size        244 non-null    int64  \n",
      "dtypes: float64(2), int64(1), object(4)\n",
      "memory usage: 13.5+ KB\n"
     ]
    },
    {
     "data": {
      "text/html": [
       "<div>\n",
       "<style scoped>\n",
       "    .dataframe tbody tr th:only-of-type {\n",
       "        vertical-align: middle;\n",
       "    }\n",
       "\n",
       "    .dataframe tbody tr th {\n",
       "        vertical-align: top;\n",
       "    }\n",
       "\n",
       "    .dataframe thead th {\n",
       "        text-align: right;\n",
       "    }\n",
       "</style>\n",
       "<table border=\"1\" class=\"dataframe\">\n",
       "  <thead>\n",
       "    <tr style=\"text-align: right;\">\n",
       "      <th></th>\n",
       "      <th>total_bill</th>\n",
       "      <th>tip</th>\n",
       "      <th>smoker</th>\n",
       "      <th>day</th>\n",
       "      <th>time</th>\n",
       "      <th>size</th>\n",
       "      <th>tip_pct</th>\n",
       "      <th>gender</th>\n",
       "    </tr>\n",
       "  </thead>\n",
       "  <tbody>\n",
       "    <tr>\n",
       "      <th>0</th>\n",
       "      <td>16.99</td>\n",
       "      <td>1.01</td>\n",
       "      <td>No</td>\n",
       "      <td>Sun</td>\n",
       "      <td>Dinner</td>\n",
       "      <td>2</td>\n",
       "      <td>0.059447</td>\n",
       "      <td>Female</td>\n",
       "    </tr>\n",
       "    <tr>\n",
       "      <th>1</th>\n",
       "      <td>10.34</td>\n",
       "      <td>1.66</td>\n",
       "      <td>No</td>\n",
       "      <td>Sun</td>\n",
       "      <td>Dinner</td>\n",
       "      <td>3</td>\n",
       "      <td>0.160542</td>\n",
       "      <td>Male</td>\n",
       "    </tr>\n",
       "    <tr>\n",
       "      <th>2</th>\n",
       "      <td>21.01</td>\n",
       "      <td>3.50</td>\n",
       "      <td>No</td>\n",
       "      <td>Sun</td>\n",
       "      <td>Dinner</td>\n",
       "      <td>3</td>\n",
       "      <td>0.166587</td>\n",
       "      <td>Male</td>\n",
       "    </tr>\n",
       "    <tr>\n",
       "      <th>3</th>\n",
       "      <td>23.68</td>\n",
       "      <td>3.31</td>\n",
       "      <td>No</td>\n",
       "      <td>Sun</td>\n",
       "      <td>Dinner</td>\n",
       "      <td>2</td>\n",
       "      <td>0.139780</td>\n",
       "      <td>Male</td>\n",
       "    </tr>\n",
       "    <tr>\n",
       "      <th>4</th>\n",
       "      <td>24.59</td>\n",
       "      <td>3.61</td>\n",
       "      <td>No</td>\n",
       "      <td>Sun</td>\n",
       "      <td>Dinner</td>\n",
       "      <td>4</td>\n",
       "      <td>0.146808</td>\n",
       "      <td>Female</td>\n",
       "    </tr>\n",
       "  </tbody>\n",
       "</table>\n",
       "</div>"
      ],
      "text/plain": [
       "   total_bill   tip smoker  day    time  size   tip_pct  gender\n",
       "0       16.99  1.01     No  Sun  Dinner     2  0.059447  Female\n",
       "1       10.34  1.66     No  Sun  Dinner     3  0.160542    Male\n",
       "2       21.01  3.50     No  Sun  Dinner     3  0.166587    Male\n",
       "3       23.68  3.31     No  Sun  Dinner     2  0.139780    Male\n",
       "4       24.59  3.61     No  Sun  Dinner     4  0.146808  Female"
      ]
     },
     "execution_count": 2,
     "metadata": {},
     "output_type": "execute_result"
    }
   ],
   "source": [
    "import pandas as pd\n",
    "\n",
    "tips = pd.read_csv('C:\\\\IITT\\\\4_Python-II\\\\workplace\\\\data\\\\tips.csv')\n",
    "tips.info() # 244 x 7\n",
    "tips.head()\n",
    "\n",
    "# 팁 비율 : 파생 변수 생성 (사칙연산)\n",
    "tips['tip_pct'] = tips['tip']/tips['total_bill']\n",
    "tips.head()\n",
    "\n",
    "# 칼럼명 변경하기\n",
    "# 변수 복제\n",
    "tips['gender'] = tips['sex']\n",
    "# 변수 제거\n",
    "del tips['sex']\n",
    "tips.head()\n",
    "\n",
    "# tips = tips.rename({'sex':'gender'}, axis='columns') 특정 칼럼명 변경\n"
   ]
  },
  {
   "cell_type": "markdown",
   "metadata": {},
   "source": [
    "# 1. 집단변수 1개 -> 전체 칼럼 그룹화"
   ]
  },
  {
   "cell_type": "code",
   "execution_count": 3,
   "metadata": {},
   "outputs": [
    {
     "name": "stdout",
     "output_type": "stream",
     "text": [
      "*****성별 빈도수 확인*****\n",
      "gender\n",
      "Female     87\n",
      "Male      157\n",
      "dtype: int64\n",
      "\n",
      "*****성별에 따른 각 칼럼 합계*****\n",
      "        total_bill     tip  size    tip_pct\n",
      "gender                                     \n",
      "Female     1570.95  246.51   214  14.484694\n",
      "Male       3256.82  485.07   413  24.751136\n",
      "\n",
      "*****성별에 따른 각 칼럼 평균*****\n",
      "        total_bill       tip      size   tip_pct\n",
      "gender                                          \n",
      "Female   18.056897  2.833448  2.459770  0.166491\n",
      "Male     20.744076  3.089618  2.630573  0.157651\n",
      "\n",
      "*****성별에 따른 그룹별 요약 통계량*****\n",
      "       total_bill                                                         \\\n",
      "            count       mean       std   min    25%    50%    75%    max   \n",
      "gender                                                                     \n",
      "Female       87.0  18.056897  8.009209  3.07  12.75  16.40  21.52  44.30   \n",
      "Male        157.0  20.744076  9.246469  7.25  14.00  18.35  24.71  50.81   \n",
      "\n",
      "          tip            ... size      tip_pct                                \\\n",
      "        count      mean  ...  75%  max   count      mean       std       min   \n",
      "gender                   ...                                                   \n",
      "Female   87.0  2.833448  ...  3.0  6.0    87.0  0.166491  0.053632  0.056433   \n",
      "Male    157.0  3.089618  ...  3.0  6.0   157.0  0.157651  0.064778  0.035638   \n",
      "\n",
      "                                                \n",
      "             25%       50%       75%       max  \n",
      "gender                                          \n",
      "Female  0.140416  0.155581  0.194266  0.416667  \n",
      "Male    0.121389  0.153492  0.186240  0.710345  \n",
      "\n",
      "[2 rows x 32 columns]\n",
      "\n",
      "*****그래프*****\n",
      "Female         AxesSubplot(0.1,0.15;0.363636x0.75)\n",
      "Male      AxesSubplot(0.536364,0.15;0.363636x0.75)\n",
      "dtype: object\n"
     ]
    },
    {
     "data": {
      "image/png": "[encoded data removed]",
      "text/plain": [
       "<Figure size 432x288 with 2 Axes>"
      ]
     },
     "metadata": {
      "needs_background": "light"
     },
     "output_type": "display_data"
    }
   ],
   "source": [
    "gender_grp = tips.groupby('gender')\n",
    "\n",
    "# 그룹객체.함수()\n",
    "# 각 그룹에 대한 빈도수 확인\n",
    "print('*****성별 빈도수 확인*****')\n",
    "print(gender_grp.size()) \n",
    "\n",
    "# 각 그룹에 대한 통계량 확인\n",
    "print('\\n*****성별에 따른 각 칼럼 합계*****')\n",
    "print(gender_grp.sum())\n",
    "print('\\n*****성별에 따른 각 칼럼 평균*****')\n",
    "print(gender_grp.mean())\n",
    "\n",
    "len(dir(gender_grp)) # 호출가능한 멤버함수 확인 167개\n",
    "\n",
    "\n",
    "# 그룹별 요약 통계량\n",
    "print('\\n*****성별에 따른 그룹별 요약 통계량*****')\n",
    "print(gender_grp.describe()) # 수치 제공\n",
    "\n",
    "print('\\n*****그래프*****')\n",
    "print(gender_grp.boxplot()) # 그래프 제공\n"
   ]
  },
  {
   "cell_type": "markdown",
   "metadata": {},
   "source": [
    "# 2. 집단변수 1개 -> 특정 칼럼 그룹화"
   ]
  },
  {
   "cell_type": "code",
   "execution_count": 4,
   "metadata": {},
   "outputs": [
    {
     "name": "stdout",
     "output_type": "stream",
     "text": [
      "흡연유무 빈도수\n",
      "smoker\n",
      "No     151\n",
      "Yes     93\n",
      "Name: tip, dtype: int64\n",
      "흡연유무에 따른 tip\n",
      "smoker\n",
      "No     2.991854\n",
      "Yes    3.008710\n",
      "Name: tip, dtype: float64\n"
     ]
    }
   ],
   "source": [
    "smoker_grp = tips['tip'].groupby(tips['smoker'])\n",
    "print('흡연유무 빈도수')\n",
    "print(smoker_grp.size()) # no:151 yes:93\n",
    "\n",
    "print('흡연유무에 따른 tip')\n",
    "print(smoker_grp.mean())"
   ]
  },
  {
   "cell_type": "markdown",
   "metadata": {},
   "source": [
    "# 3. 집단변수 2개 -> 전체 칼럼 그룹화"
   ]
  },
  {
   "cell_type": "code",
   "execution_count": 5,
   "metadata": {},
   "outputs": [
    {
     "name": "stdout",
     "output_type": "stream",
     "text": [
      "gender  smoker\n",
      "Female  No        54\n",
      "        Yes       33\n",
      "Male    No        97\n",
      "        Yes       60\n",
      "dtype: int64\n",
      "\n",
      "\n",
      "              total_bill                                                      \\\n",
      "                   count       mean       std   min      25%    50%      75%   \n",
      "gender smoker                                                                  \n",
      "Female No           54.0  18.105185  7.286455  7.25  12.6500  16.69  20.8625   \n",
      "       Yes          33.0  17.977879  9.189751  3.07  12.7600  16.27  22.1200   \n",
      "Male   No           97.0  19.791237  8.726566  7.51  13.8100  18.24  22.8200   \n",
      "       Yes          60.0  22.284500  9.911845  7.25  15.2725  20.39  28.5725   \n",
      "\n",
      "                       tip            ... size      tip_pct            \\\n",
      "                 max count      mean  ...  75%  max   count      mean   \n",
      "gender smoker                         ...                               \n",
      "Female No      35.83  54.0  2.773519  ...  3.0  6.0    54.0  0.156921   \n",
      "       Yes     44.30  33.0  2.931515  ...  2.0  4.0    33.0  0.182150   \n",
      "Male   No      48.33  97.0  3.113402  ...  3.0  6.0    97.0  0.160669   \n",
      "       Yes     50.81  60.0  3.051167  ...  3.0  5.0    60.0  0.152771   \n",
      "\n",
      "                                                                           \n",
      "                    std       min       25%       50%       75%       max  \n",
      "gender smoker                                                              \n",
      "Female No      0.036421  0.056797  0.139708  0.149691  0.181630  0.252672  \n",
      "       Yes     0.071595  0.056433  0.152439  0.173913  0.198216  0.416667  \n",
      "Male   No      0.041849  0.071804  0.131810  0.157604  0.186220  0.291990  \n",
      "       Yes     0.090588  0.035638  0.101845  0.141015  0.191697  0.710345  \n",
      "\n",
      "[4 rows x 32 columns]\n",
      "\n",
      "\n",
      "smoker      No     Yes\n",
      "gender                \n",
      "Female  149.77   96.74\n",
      "Male    302.00  183.07\n"
     ]
    }
   ],
   "source": [
    "gender_smoker_grp = tips.groupby(['gender','smoker'])\n",
    "\n",
    "# 그룹 빈도수\n",
    "\n",
    "print(gender_smoker_grp.size())\n",
    "'''\n",
    "gender  smoker\n",
    "Female  No        54\n",
    "        Yes       33\n",
    "Male    No        97\n",
    "        Yes       60\n",
    "'''\n",
    "# 특정 변수 통계량\n",
    "print('\\n')\n",
    "print(gender_smoker_grp.describe() )# 4x32\n",
    "gender_smoker_grp['tip'].describe() #4x8\n",
    "'''\n",
    "               count      mean       std   min  25%   50%     75%   max\n",
    "gender smoker                                                          \n",
    "Female No       54.0  2.773519  1.128425  1.00  2.0  2.68  3.4375   5.2\n",
    "       Yes      33.0  2.931515  1.219916  1.00  2.0  2.88  3.5000   6.5\n",
    "Male   No       97.0  3.113402  1.489559  1.25  2.0  2.74  3.7100   9.0\n",
    "       Yes      60.0  3.051167  1.500120  1.00  2.0  3.00  3.8200  10.0\n",
    "[해설] 여성은 흡연자, 남성은 비흡연자가 팁 지불에 후하다.\n",
    "'''\n",
    "\n",
    "# 4. 집단변수 2개 -> 특정 칼럼 그룹화\n",
    "gender_smoker_tip = tips['tip'].groupby([tips['gender'],tips['smoker']])\n",
    "# groupby(['행','열'])\n",
    "gender_smoker_tip.size().shape # 1d (4,)\n",
    "\n",
    "# 집단별 tip의 합\n",
    "gender_smoker_tip.sum().shape # 1d (4,)\n",
    "\n",
    "# 1d -> 2d\n",
    "gender_smoker_tip.sum().unstack().shape # 2d (2,2)\n",
    "grp_2d = gender_smoker_tip.sum().unstack()\n",
    "\n",
    "# 2d -> 1d\n",
    "grp_2d.stack().shape # 1d (4,)\n",
    "\n",
    "\n",
    "# 성별 vs 흡연유무 -> 교차분할표(빈도수)\n",
    "grp_2d_size = gender_smoker_tip.sum().unstack()\n",
    "print('\\n')\n",
    "print(grp_2d_size)"
   ]
  },
  {
   "cell_type": "code",
   "execution_count": 6,
   "metadata": {},
   "outputs": [
    {
     "data": {
      "text/plain": [
       "Species\n",
       "setosa        250.3\n",
       "versicolor    296.8\n",
       "virginica     329.4\n",
       "Name: Sepal.Length, dtype: float64"
      ]
     },
     "execution_count": 6,
     "metadata": {},
     "output_type": "execute_result"
    }
   ],
   "source": [
    "# 문제) iris data를 사용하여 그룹화 시키기\n",
    "iris = pd.read_csv('C:\\\\IITT\\\\4_Python-II\\\\workplace\\\\data\\\\iris.csv')\n",
    "iris.groupby('Species').sum()\n",
    "\n",
    "# 특정 변수 그룹화하기\n",
    "iris['Sepal.Length'].groupby(iris['Species']).sum()\n",
    "\n"
   ]
  }
 ],
 "metadata": {
  "kernelspec": {
   "display_name": "Python 3",
   "language": "python",
   "name": "python3"
  },
  "language_info": {
   "codemirror_mode": {
    "name": "ipython",
    "version": 3
   },
   "file_extension": ".py",
   "mimetype": "text/x-python",
   "name": "python",
   "nbconvert_exporter": "python",
   "pygments_lexer": "ipython3",
   "version": "3.7.6"
  }
 },
 "nbformat": 4,
 "nbformat_minor": 4
}
