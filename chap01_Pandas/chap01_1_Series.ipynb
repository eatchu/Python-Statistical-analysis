{
 "cells": [
  {
   "cell_type": "markdown",
   "metadata": {},
   "source": [
    "\n",
    "# step01_Series.py\n",
    "\n",
    "Series 객체 특징 : pandas 패키지 제공 class\n",
    " - 1차원 배열구조\n",
    " - 수학/통계 함수 제공\n",
    " - 범위 수정, 블럭 연산\n",
    " - indexing/slicing 기능 \n",
    " - 시계열 데이터 생성 "
   ]
  },
  {
   "cell_type": "markdown",
   "metadata": {},
   "source": [
    "+ object.index -> 객체의 인덱스 정보 출력\n",
    "\n",
    "+ object.values -> 객체의 값 출력"
   ]
  },
  {
   "cell_type": "code",
   "execution_count": 5,
   "metadata": {},
   "outputs": [],
   "source": [
    "from pandas import Series"
   ]
  },
  {
   "cell_type": "markdown",
   "metadata": {},
   "source": [
    "# 1. Series 객체 생성"
   ]
  },
  {
   "cell_type": "code",
   "execution_count": 20,
   "metadata": {
    "scrolled": true
   },
   "outputs": [
    {
     "name": "stdout",
     "output_type": "stream",
     "text": [
      "list= [4000, 3000, 3500, 2000] \n",
      " series=\n",
      " 0    4000\n",
      "1    3000\n",
      "2    3500\n",
      "3    2000\n",
      "dtype: int64\n"
     ]
    }
   ],
   "source": [
    "# 1) list 이용\n",
    "\n",
    "lst = [4000, 3000, 3500, 2000]\n",
    "ser = Series(lst) # list -> seires\n",
    "print('list=',lst,'\\n','series=\\n',ser) # index 자동 생성"
   ]
  },
  {
   "cell_type": "code",
   "execution_count": 5,
   "metadata": {},
   "outputs": [
    {
     "name": "stdout",
     "output_type": "stream",
     "text": [
      "RangeIndex(start=0, stop=4, step=1)\n",
      "[4000 3000 3500 2000]\n",
      "4000\n"
     ]
    }
   ],
   "source": [
    "print(ser.index) # 색인 정보\n",
    "print(ser.values) # 값\n",
    "print(ser[0])"
   ]
  },
  {
   "cell_type": "code",
   "execution_count": 6,
   "metadata": {
    "scrolled": true
   },
   "outputs": [
    {
     "name": "stdout",
     "output_type": "stream",
     "text": [
      "a    4000\n",
      "b    3000\n",
      "c    3500\n",
      "d    2000\n",
      "dtype: int64\n",
      "Index(['a', 'b', 'c', 'd'], dtype='object')\n",
      "[4000 3000 3500 2000]\n"
     ]
    }
   ],
   "source": [
    "# 직접 index 설정하기\n",
    "ser1_2 = Series([4000,3000,3500,2000], index=['a','b','c','d'])\n",
    "print(ser1_2)\n",
    "print(ser1_2.index)\n",
    "print(ser1_2.values)"
   ]
  },
  {
   "cell_type": "code",
   "execution_count": 21,
   "metadata": {},
   "outputs": [
    {
     "name": "stdout",
     "output_type": "stream",
     "text": [
      "0    4000\n",
      "1    3000\n",
      "2    3500\n",
      "3    2000\n",
      "Name: 숫자, dtype: int64\n",
      "인덱스\n",
      "0    4000\n",
      "1    3000\n",
      "2    3500\n",
      "3    2000\n",
      "Name: 숫자, dtype: int64\n"
     ]
    }
   ],
   "source": [
    "# array와 index에 이름 부여\n",
    "ser.name = '숫자'\n",
    "print(ser)\n",
    "ser.index.name = '인덱스'\n",
    "# ser.value.name = '값' error\n",
    "print(ser)"
   ]
  },
  {
   "cell_type": "code",
   "execution_count": 7,
   "metadata": {},
   "outputs": [
    {
     "name": "stdout",
     "output_type": "stream",
     "text": [
      "ser2=\n",
      " name    홍길동\n",
      "age      35\n",
      "addr    서울시\n",
      "dtype: object\n"
     ]
    }
   ],
   "source": [
    "# 2) dict 이용\n",
    "\n",
    "person = {'name':'홍길동','age':35, 'addr':'서울시'}\n",
    "ser2 = Series(person) #key가 index 역할을 해줌\n",
    "print('ser2=\\n',ser2)"
   ]
  },
  {
   "cell_type": "code",
   "execution_count": 8,
   "metadata": {},
   "outputs": [
    {
     "name": "stdout",
     "output_type": "stream",
     "text": [
      "Index(['name', 'age', 'addr'], dtype='object')\n",
      "['홍길동' 35 '서울시']\n"
     ]
    }
   ],
   "source": [
    "print(ser2.index) # 색인 정보\n",
    "print(ser2.values) # 값"
   ]
  },
  {
   "cell_type": "code",
   "execution_count": 11,
   "metadata": {},
   "outputs": [
    {
     "name": "stdout",
     "output_type": "stream",
     "text": [
      "35\n"
     ]
    },
    {
     "data": {
      "text/plain": [
       "0    4000\n",
       "2    3500\n",
       "dtype: int64"
      ]
     },
     "execution_count": 11,
     "metadata": {},
     "output_type": "execute_result"
    }
   ],
   "source": [
    "# index 사용 : object['key' or 조건식]\n",
    "\n",
    "print(ser2['age'])\n",
    "\n",
    "# boolean 조건식\n",
    "\n",
    "ser[ser>=3500]"
   ]
  },
  {
   "cell_type": "markdown",
   "metadata": {},
   "source": [
    "# 2. indexing : list 동일"
   ]
  },
  {
   "cell_type": "code",
   "execution_count": 13,
   "metadata": {},
   "outputs": [
    {
     "name": "stdout",
     "output_type": "stream",
     "text": [
      "4.0\n",
      "0    4.0\n",
      "1    4.5\n",
      "2    6.0\n",
      "dtype: float64\n",
      "3     8.0\n",
      "4    10.5\n",
      "dtype: float64\n",
      "<class 'numpy.float64'>\n"
     ]
    }
   ],
   "source": [
    "ser3 = Series([4, 4.5, 6, 8, 10.5]) #생성자\n",
    "print(ser3[0]) # 4.0\n",
    "print(ser3[:3]) # [0]4.0, [1]4.5, [2]6.0\n",
    "print(ser3[3:]) # [3]8.0 [4]10.5\n",
    "# print(ser3[-1]) list에서는 값을 반환하지만 series에서는 오류\n",
    "print(type(ser3[0]))"
   ]
  },
  {
   "cell_type": "markdown",
   "metadata": {},
   "source": [
    "# 3. Series 결합"
   ]
  },
  {
   "cell_type": "code",
   "execution_count": 6,
   "metadata": {},
   "outputs": [
    {
     "name": "stdout",
     "output_type": "stream",
     "text": [
      "a    800.0\n",
      "b      NaN\n",
      "c    500.0\n",
      "d    550.0\n",
      "e      NaN\n",
      "dtype: float64\n"
     ]
    }
   ],
   "source": [
    "# object 생성\n",
    "p1 = Series([400,None,350,200], index = ['a','b','c','d'])\n",
    "p2 = Series([400,150,350,200], index = ['a','c','d','e'])\n",
    "# Series 결합\n",
    "p3 = p1 + p2\n",
    "print(p3) # index가 동일한 데이터끼리 "
   ]
  },
  {
   "cell_type": "markdown",
   "metadata": {},
   "source": [
    "# 4. 결측치 처리 방법\n",
    " - 형식1) 평균, 0 : object.fillna(대체값)\n",
    " - 형식2) 제거 : object[pandas.notnull(object)]\n",
    " "
   ]
  },
  {
   "cell_type": "code",
   "execution_count": 7,
   "metadata": {},
   "outputs": [],
   "source": [
    "import pandas"
   ]
  },
  {
   "cell_type": "code",
   "execution_count": 9,
   "metadata": {},
   "outputs": [
    {
     "name": "stdout",
     "output_type": "stream",
     "text": [
      "a    800.00\n",
      "b    616.67\n",
      "c    500.00\n",
      "d    550.00\n",
      "e    616.67\n",
      "dtype: float64\n",
      "a    800.0\n",
      "b      0.0\n",
      "c    500.0\n",
      "d    550.0\n",
      "e      0.0\n",
      "dtype: float64\n",
      "a    800.0\n",
      "c    500.0\n",
      "d    550.0\n",
      "dtype: float64\n"
     ]
    }
   ],
   "source": [
    "# 1) 평균 대체\n",
    "p4 = p3.fillna(round(p3.mean(),2))\n",
    "\n",
    "print(p4) # 결측치에 평균 616.67값으로 채워짐\n",
    "\n",
    "# 2) 0 대체\n",
    "p5 = p3.fillna(0)\n",
    "print(p5)\n",
    "\n",
    "# 3) 제거 \n",
    "p6 = p3[pandas.notnull(p3)] # subset 생성\n",
    "print(p6)"
   ]
  },
  {
   "cell_type": "code",
   "execution_count": 18,
   "metadata": {},
   "outputs": [
    {
     "name": "stdout",
     "output_type": "stream",
     "text": [
      "a    False\n",
      "b     True\n",
      "c    False\n",
      "d    False\n",
      "e     True\n",
      "dtype: bool\n",
      "a     True\n",
      "b    False\n",
      "c     True\n",
      "d     True\n",
      "e    False\n",
      "dtype: bool\n",
      "Index(['b', 'e'], dtype='object')\n"
     ]
    }
   ],
   "source": [
    "# 결측치 확인\n",
    "print(pandas.isnull(p3)) # True, False로 값 반환\n",
    "print(pandas.notnull(p3)) # 결측치 False로 반환\n",
    "print(p3[pandas.isnull(p3)].index) # 결측치 index 반환 : b, e"
   ]
  },
  {
   "cell_type": "markdown",
   "metadata": {},
   "source": [
    "# 5. 범위 수정, 블럭 연산"
   ]
  },
  {
   "cell_type": "code",
   "execution_count": 22,
   "metadata": {},
   "outputs": [],
   "source": [
    "p2 = Series([400,150,350,200], index=['a','b','d','e'])"
   ]
  },
  {
   "cell_type": "code",
   "execution_count": 24,
   "metadata": {},
   "outputs": [
    {
     "name": "stdout",
     "output_type": "stream",
     "text": [
      "범위 수정 전 : \n",
      " a    400\n",
      "b    300\n",
      "d    300\n",
      "e    200\n",
      "dtype: int64\n",
      "범위 수정 후 : \n",
      " a    400\n",
      "b    300\n",
      "d    300\n",
      "e    200\n",
      "dtype: int64\n"
     ]
    }
   ],
   "source": [
    "# 1) 범위 수정\n",
    "print('범위 수정 전 : \\n',p2)\n",
    "p2[1:3] = 300\n",
    "print('범위 수정 후 : \\n',p2)\n",
    "'''\n",
    "lst = [1,2,3,4]\n",
    "lst[1:3] = 3 # error 범위 수정 불가능\n",
    "'''"
   ]
  },
  {
   "cell_type": "code",
   "execution_count": 25,
   "metadata": {},
   "outputs": [
    {
     "name": "stdout",
     "output_type": "stream",
     "text": [
      "덧셈 : \n",
      " a    800\n",
      "b    600\n",
      "d    600\n",
      "e    400\n",
      "dtype: int64\n",
      "뺄셈 : \n",
      " a    0\n",
      "b    0\n",
      "d    0\n",
      "e    0\n",
      "dtype: int64\n"
     ]
    },
    {
     "data": {
      "text/plain": [
       "'\\nlst = [1,2,3,4]\\nlst + lst =  [1,2,3,4,1,2,3,4] \\n# 연산 불가능 \\n'"
      ]
     },
     "execution_count": 25,
     "metadata": {},
     "output_type": "execute_result"
    }
   ],
   "source": [
    "# 2) 블럭 연산\n",
    "print('덧셈 : \\n',p2 + p2) \n",
    "print('뺄셈 : \\n',p2 - p2)\n",
    "\n",
    "'''\n",
    "lst = [1,2,3,4]\n",
    "lst + lst =  [1,2,3,4,1,2,3,4] \n",
    "# 연산 불가능 \n",
    "'''"
   ]
  },
  {
   "cell_type": "code",
   "execution_count": 26,
   "metadata": {},
   "outputs": [
    {
     "name": "stdout",
     "output_type": "stream",
     "text": [
      "0    0.5\n",
      "1    1.0\n",
      "2    1.5\n",
      "3    2.0\n",
      "dtype: float64\n"
     ]
    },
    {
     "data": {
      "text/plain": [
       "'\\nlst = [1,2,3,4]\\nlst * scala # error 연산을 위해서 for문을 사용해야함\\nex) b = [i*scala for i in lst]\\n'"
      ]
     },
     "execution_count": 26,
     "metadata": {},
     "output_type": "execute_result"
    }
   ],
   "source": [
    "# 3) broadcast 연산 (1차 vs 0차)\n",
    "v1 = Series([1,2,3,4])\n",
    "scala = 0.5\n",
    "b = v1 * scala # vector(1차원)*scala(0차원)\n",
    "print(b) # 각각의 백터값에 0.5씩 곱해짐\n",
    "\n",
    "'''\n",
    "lst = [1,2,3,4]\n",
    "lst * scala # error 연산을 위해서 for문을 사용해야함\n",
    "ex) b = [i*scala for i in lst]\n",
    "'''"
   ]
  },
  {
   "cell_type": "code",
   "execution_count": 27,
   "metadata": {},
   "outputs": [
    {
     "name": "stdout",
     "output_type": "stream",
     "text": [
      "sum= 10\n",
      "mean= 2.5\n",
      "var= 1.6666666666666667\n",
      "std= 1.2909944487358056\n",
      "max= 4\n",
      "429\n",
      "(4,)\n",
      "4\n",
      "4\n"
     ]
    }
   ],
   "source": [
    "# 4) 수학/통계 함수\n",
    "print('sum=',v1.sum())\n",
    "print('mean=',v1.mean())\n",
    "print('var=',v1.var())\n",
    "print('std=',v1.std())\n",
    "print('max=',v1.max())\n",
    "\n",
    "\n",
    "# 호출 가능한 멤버 확인\n",
    "print(len(dir(v1))) # 429개\n",
    "\n",
    "print(v1.shape) # (4,) : 1차원의 자료구조 + 4개의 원소 \n",
    "print(v1.size) # 원소 갯수\n",
    "print(len(v1)) # 원소 갯수\n"
   ]
  }
 ],
 "metadata": {
  "kernelspec": {
   "display_name": "Python 3",
   "language": "python",
   "name": "python3"
  },
  "language_info": {
   "codemirror_mode": {
    "name": "ipython",
    "version": 3
   },
   "file_extension": ".py",
   "mimetype": "text/x-python",
   "name": "python",
   "nbconvert_exporter": "python",
   "pygments_lexer": "ipython3",
   "version": "3.7.6"
  }
 },
 "nbformat": 4,
 "nbformat_minor": 4
}
