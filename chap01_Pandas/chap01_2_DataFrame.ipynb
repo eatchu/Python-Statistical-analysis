{
 "cells": [
  {
   "cell_type": "markdown",
   "metadata": {},
   "source": [
    "# step02_Dataframe.py\n",
    "\n",
    "dataframe 자료구조 특징\n",
    " - 2차원 행렬구조 (table 유사)\n",
    " - 열(칼럼) 단위 데이터 처리 용이\n",
    " - Series(1차)의 모임 -> Dataframe(2차)"
   ]
  },
  {
   "cell_type": "markdown",
   "metadata": {},
   "source": [
    "# 1. DataFrame 생성\n"
   ]
  },
  {
   "cell_type": "code",
   "execution_count": 1,
   "metadata": {},
   "outputs": [],
   "source": [
    "import pandas as pd\n",
    "from pandas import Series, DataFrame"
   ]
  },
  {
   "cell_type": "code",
   "execution_count": 10,
   "metadata": {},
   "outputs": [
    {
     "name": "stdout",
     "output_type": "stream",
     "text": [
      "dictionary : \n",
      " {'name': ['hong', 'lee', 'kang', 'yoo'], 'age': [35, 45, 55, 25], 'pay': [250, 350, 450, 200], 'addr': ['서울시', '부산시', '대전시', '인천시']}\n",
      "dataframe : \n",
      "    name  age  pay addr\n",
      "0  hong   35  250  서울시\n",
      "1   lee   45  350  부산시\n",
      "2  kang   55  450  대전시\n",
      "3   yoo   25  200  인천시\n",
      "칼럼 위치 변경 : \n",
      "    name  age addr  pay\n",
      "0  hong   35  서울시  250\n",
      "1   lee   45  부산시  350\n",
      "2  kang   55  대전시  450\n",
      "3   yoo   25  인천시  200\n",
      "age 칼럼 평균 : \n",
      " 40.0\n",
      "새 칼럼 추가 : \n",
      "    name  age addr  pay gender\n",
      "0  hong   35  서울시  250      남\n",
      "1   lee   45  부산시  350      남\n",
      "2  kang   55  대전시  450      남\n",
      "3   yoo   25  인천시  200      여\n",
      "칼럼삭제 : \n",
      "    name  age addr  pay\n",
      "0  hong   35  서울시  250\n",
      "1   lee   45  부산시  350\n",
      "2  kang   55  대전시  450\n",
      "3   yoo   25  인천시  200\n"
     ]
    }
   ],
   "source": [
    "\n",
    "# 1) 기본 자료구조 (list, dict) 이용\n",
    "name = ['hong','lee','kang','yoo'] # list 생성\n",
    "age = [35, 45, 55, 25]\n",
    "pay = [250, 350, 450, 200]\n",
    "addr = ['서울시', '부산시', '대전시', '인천시']\n",
    "\n",
    "data = {'name':name, 'age':age, 'pay':pay, 'addr':addr}\n",
    "print('dictionary : \\n', data)\n",
    "\n",
    "\n",
    "frame = pd.DataFrame(data)\n",
    "print('dataframe : \\n',frame)\n",
    "\n",
    "\n",
    "frame = pd.DataFrame(data = data, columns = ['name','age','addr','pay'])\n",
    "print('칼럼 위치 변경 : \\n',frame) # 컬럼 위치가 변경됨\n",
    "\n",
    "\n",
    "\n",
    "# 데이터프레임에 칼럼 축출\n",
    "# 형식) object['column'] or object.column\n",
    "age = frame['age'] # or frame.age\n",
    "print('age 칼럼 평균 : \\n',age.mean()) # 40.0\n",
    "\n",
    "\n",
    "# 새 칼럼 추가\n",
    "# 형식) object['new column'] = new values\n",
    "gender = Series(['남','남','남','여'])\n",
    "frame['gender'] = gender\n",
    "print('새 칼럼 추가 : \\n', frame)\n",
    "\n",
    "# 칼럼 삭제\n",
    "del frame['gender']\n",
    "print('칼럼삭제 : \\n',frame)\n"
   ]
  },
  {
   "cell_type": "code",
   "execution_count": 7,
   "metadata": {},
   "outputs": [
    {
     "name": "stdout",
     "output_type": "stream",
     "text": [
      "frame2 : \n",
      "    a  b   c   d\n",
      "0  0  1   2   3\n",
      "1  4  5   6   7\n",
      "2  8  9  10  11\n",
      "a    4.0\n",
      "b    5.0\n",
      "c    6.0\n",
      "d    7.0\n",
      "dtype: float64\n",
      "0    1.5\n",
      "1    5.5\n",
      "2    9.5\n",
      "dtype: float64\n"
     ]
    }
   ],
   "source": [
    "\n",
    "# 2) numpy 이용 : 선형대수 관련 함수\n",
    "import numpy as np\n",
    "# arange(12) : 0~11까지의 12개 값 생성, reshape(3,4) : 3행 4열 구조의 프레임 생성\n",
    "frame2 = DataFrame(np.arange(12).reshape(3,4),\n",
    "                   columns = ['a','b','c','d'])\n",
    "print('frame2 : \\n',frame2)\n",
    "\n",
    "\n",
    "\n",
    "# 행/열 통계 구하기\n",
    "print(frame2.mean(axis = 0)) # 행(0)축 : 열단위 평균\n",
    "print(frame2.mean(axis = 1)) # 열(1)축 : 행단위 평균\n"
   ]
  },
  {
   "cell_type": "markdown",
   "metadata": {},
   "source": [
    "# 2. DataFrame 칼럼 참조"
   ]
  },
  {
   "cell_type": "code",
   "execution_count": 9,
   "metadata": {},
   "outputs": [
    {
     "name": "stdout",
     "output_type": "stream",
     "text": [
      "<class 'pandas.core.frame.DataFrame'>\n",
      "RangeIndex: 5 entries, 0 to 4\n",
      "Data columns (total 3 columns):\n",
      " #   Column  Non-Null Count  Dtype \n",
      "---  ------  --------------  ----- \n",
      " 0   No      5 non-null      int64 \n",
      " 1   Name    5 non-null      object\n",
      " 2   Pay     5 non-null      int64 \n",
      "dtypes: int64(2), object(1)\n",
      "memory usage: 248.0+ bytes\n",
      "emp 테이블 정보: \n",
      " None\n",
      "0    101\n",
      "1    102\n",
      "2    103\n",
      "3    104\n",
      "4    105\n",
      "Name: No, dtype: int64\n",
      "0    101\n",
      "1    102\n",
      "2    103\n",
      "3    104\n",
      "4    105\n",
      "Name: No, dtype: int64\n",
      "102\n",
      "    No  Pay\n",
      "0  101  150\n",
      "1  102  450\n",
      "2  103  500\n",
      "3  104  350\n",
      "4  105  400\n"
     ]
    }
   ],
   "source": [
    "frame2.index # 행 이름 : RangeIndex(start=0, stop=3, step=1)\n",
    "frame2.values # 값 이름 : array([[ 0,  1,  2,  3], [ 4,  5,  6,  7], [ 8,  9, 10, 11]])\n",
    "\n",
    "# emp.csv\n",
    "emp = pd.read_csv(\"C:\\\\IITT\\\\4_Python-II\\\\data\\\\emp.csv\", encoding='utf-8')\n",
    "print('emp 테이블 정보: \\n',emp.info())\n",
    "emp.head() # head(emp)\n",
    "\n",
    "# 1) 단일 칼럼 선택 : object['column'] or object.column\n",
    "print(emp['No'])\n",
    "print(emp.No)\n",
    "print(emp.No[1]) # 특정 칼럼의 특정 원소 선택\n",
    "\n",
    "# 2) 복수 칼럼 선택 : 중첩 list 사용\n",
    "print(emp[['No','Pay']])"
   ]
  },
  {
   "cell_type": "markdown",
   "metadata": {},
   "source": [
    "# 3. subset 만들기"
   ]
  },
  {
   "cell_type": "code",
   "execution_count": 2,
   "metadata": {},
   "outputs": [
    {
     "name": "stdout",
     "output_type": "stream",
     "text": [
      "<class 'pandas.core.frame.DataFrame'>\n",
      "RangeIndex: 5 entries, 0 to 4\n",
      "Data columns (total 3 columns):\n",
      " #   Column  Non-Null Count  Dtype \n",
      "---  ------  --------------  ----- \n",
      " 0   No      5 non-null      int64 \n",
      " 1   Name    5 non-null      object\n",
      " 2   Pay     5 non-null      int64 \n",
      "dtypes: int64(2), object(1)\n",
      "memory usage: 248.0+ bytes\n",
      "\n",
      "\n",
      "subset1\n",
      "  Name  Pay\n",
      "0  홍길동  150\n",
      "1  이순신  450\n",
      "2  강감찬  500\n",
      "3  유관순  350\n",
      "4  김유신  400\n",
      "\n",
      "\n",
      "subset2\n",
      "    No Name  Pay\n",
      "1  102  이순신  450\n",
      "2  103  강감찬  500\n",
      "3  104  유관순  350\n",
      "4  105  김유신  400\n",
      "\n",
      "\n",
      "subset3\n",
      "    No Name  Pay\n",
      "1  102  이순신  450\n",
      "2  103  강감찬  500\n",
      "4  105  김유신  400\n",
      "\n",
      "\n",
      "<class 'pandas.core.frame.DataFrame'>\n",
      "RangeIndex: 150 entries, 0 to 149\n",
      "Data columns (total 5 columns):\n",
      " #   Column        Non-Null Count  Dtype  \n",
      "---  ------        --------------  -----  \n",
      " 0   Sepal.Length  150 non-null    float64\n",
      " 1   Sepal.Width   150 non-null    float64\n",
      " 2   Petal.Length  150 non-null    float64\n",
      " 3   Petal.Width   150 non-null    float64\n",
      " 4   Species       150 non-null    object \n",
      "dtypes: float64(4), object(1)\n",
      "memory usage: 6.0+ KB\n",
      "None\n",
      "\n",
      "\n",
      "iris head \n",
      "    Sepal.Length  Sepal.Width  Petal.Length  Petal.Width Species\n",
      "0           5.1          3.5           1.4          0.2  setosa\n",
      "1           4.9          3.0           1.4          0.2  setosa\n",
      "2           4.7          3.2           1.3          0.2  setosa\n",
      "3           4.6          3.1           1.5          0.2  setosa\n",
      "4           5.0          3.6           1.4          0.2  setosa\n",
      "\n",
      "\n",
      "0      3.5\n",
      "1      3.0\n",
      "2      3.2\n",
      "3      3.1\n",
      "4      3.6\n",
      "      ... \n",
      "145    3.0\n",
      "146    2.5\n",
      "147    3.0\n",
      "148    3.4\n",
      "149    3.0\n",
      "Name: Sepal.Width, Length: 150, dtype: float64\n"
     ]
    },
    {
     "data": {
      "text/plain": [
       "(150,)"
      ]
     },
     "execution_count": 2,
     "metadata": {},
     "output_type": "execute_result"
    }
   ],
   "source": [
    "import pandas as pd\n",
    "emp = pd.read_csv(\"C:\\\\IITT\\\\4_Python-II\\\\data\\\\emp.csv\", encoding='utf-8')\n",
    "\n",
    "# 1) 특정 칼럼 제외 : 칼럼 적은 경우\n",
    "emp.info()\n",
    "print('\\n')\n",
    "subset1 = emp[['Name','Pay']] # del emp[]를 사용하면 기존 테이블이 수정됨\n",
    "print('subset1')\n",
    "print(subset1)\n",
    "print('\\n')\n",
    "\n",
    "# 2) 특정 행 제외\n",
    "subset2 = emp.drop(0) \n",
    "print('subset2')\n",
    "print(subset2)\n",
    "print('\\n')\n",
    "\n",
    "# 3) 조건식으로 행 선택\n",
    "subset3 = emp[emp.Pay>350]\n",
    "print('subset3')\n",
    "print(subset3)\n",
    "print('\\n')\n",
    "\n",
    "# 4) 칼럼 이용 : 칼럼이 많은 경우\n",
    "iris = pd.read_csv('C:\\\\IITT\\\\4_Python-II\\\\data\\\\iris.csv', encoding='utf-8')\n",
    "print(iris.info())\n",
    "print('\\n')\n",
    "print('iris head \\n',iris.head())\n",
    "print('\\n')\n",
    "\n",
    "print(iris['Sepal.Width']) # 칼럼 꺼내오기\n",
    "# iris.Sepal.Width - 칼럼명에 .이 포함된 경우 사용 불가능\n",
    "\n",
    "cols = iris.columns # 칼럼명만 출력\n",
    "iris[cols[1:3]]\n",
    "\n",
    "# x y 변수 생성\n",
    "iris_x = iris[cols[:4]]\n",
    "iris_y = iris[iris.columns[-1]]\n",
    "\n",
    "iris_x.shape # (150, 4) # 2차원\n",
    "iris_y.shape # (150, ) # 1차원"
   ]
  },
  {
   "cell_type": "markdown",
   "metadata": {},
   "source": [
    "# 4. DataFrame 행렬 참조 : DF[row,col]\n",
    " - 1) DF.loc[row,col] : label index \n",
    " - 2) DF.iloc[row,col] : integr index"
   ]
  },
  {
   "cell_type": "code",
   "execution_count": 13,
   "metadata": {},
   "outputs": [
    {
     "name": "stdout",
     "output_type": "stream",
     "text": [
      "1    102\n",
      "2    103\n",
      "3    104\n",
      "Name: No, dtype: int64\n",
      "    No  Pay\n",
      "1  102  450\n",
      "2  103  500\n",
      "45\n",
      "(45, 4)\n",
      "(45,)\n"
     ]
    }
   ],
   "source": [
    "# 행과 열의 label\n",
    "emp.loc[1:3,['No','Pay']] \n",
    "print(emp.loc[1:3,'No']) \n",
    "\n",
    "# 행과 열의 숫자 index\n",
    "emp.iloc[1:3,:2] \n",
    "print(emp.iloc[1:3,[0,2]])\n",
    "\n",
    "from numpy.random import choice\n",
    "\n",
    "# 훈련 데이터 설정\n",
    "row_idx = choice(a=len(iris), size=int(len(iris)*0.7), replace=False)\n",
    "len(row_idx) # 105\n",
    "\n",
    "train_set = iris.iloc[row_idx]\n",
    "train_set.head()\n",
    "\n",
    "\n",
    "# 테스트 데이터 설정 : list + for\n",
    "test_idx = [i for i in range(len(iris)) if not i in row_idx]\n",
    "print(len(test_idx)) # 45\n",
    "\n",
    "\n",
    "# x, y 변수 분리\n",
    "cols = list(iris.columns)\n",
    "x = cols[:4]\n",
    "y = cols[-1]\n",
    "\n",
    "iris_x = iris.loc[test_idx, x]\n",
    "iris_y = iris.loc[test_idx, y]\n",
    "\n",
    "\n",
    "print(iris_x.shape)\n",
    "print(iris_y.shape)"
   ]
  }
 ],
 "metadata": {
  "kernelspec": {
   "display_name": "Python 3",
   "language": "python",
   "name": "python3"
  },
  "language_info": {
   "codemirror_mode": {
    "name": "ipython",
    "version": 3
   },
   "file_extension": ".py",
   "mimetype": "text/x-python",
   "name": "python",
   "nbconvert_exporter": "python",
   "pygments_lexer": "ipython3",
   "version": "3.7.6"
  }
 },
 "nbformat": 4,
 "nbformat_minor": 4
}
