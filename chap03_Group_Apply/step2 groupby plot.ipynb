{
 "cells": [
  {
   "cell_type": "markdown",
   "metadata": {},
   "source": [
    "# 집단변수 기준 자료분석\n",
    " - subset 생성\n",
    " - group 객체 생성\n",
    " - group 객체 시각화"
   ]
  },
  {
   "cell_type": "code",
   "execution_count": 1,
   "metadata": {},
   "outputs": [],
   "source": [
    "import pandas as pd"
   ]
  },
  {
   "cell_type": "markdown",
   "metadata": {},
   "source": [
    "# 1. Dataset load"
   ]
  },
  {
   "cell_type": "code",
   "execution_count": 2,
   "metadata": {
    "scrolled": true
   },
   "outputs": [
    {
     "name": "stdout",
     "output_type": "stream",
     "text": [
      "Index(['type', 'fixed_acidity', 'volatile_acidity', 'citric_acid',\n",
      "       'residual_sugar', 'chlorides', 'free_sulfur_dioxide',\n",
      "       'total_sulfur_dioxide', 'density', 'pH', 'sulphates', 'alcohol',\n",
      "       'quality'],\n",
      "      dtype='object')\n",
      "['red' 'white']\n",
      "[5 6 7 4 8 3 9]\n"
     ]
    }
   ],
   "source": [
    "wine = pd.read_csv('C:\\\\IITT\\\\4_Python-II\\\\workplace\\\\data\\\\winequality-both.csv')\n",
    "wine.info() # 6497 x 13\n",
    "\n",
    "# 칼럼명 변경 : 공백 -> _\n",
    "wine.columns = wine.columns.str.replace(' ','_')\n",
    "print(wine.columns)\n",
    "'''\n",
    "wine = wine.rename({'기존':'변경'}, axis='columns')\n",
    "'''\n",
    "\n",
    "# 집단변수 확인\n",
    "print(wine.type.unique()) # red, white : 2\n",
    "print(wine.quality.unique()) # 5 6 7 4 8 3 9 : 7\n",
    "\n"
   ]
  },
  {
   "cell_type": "markdown",
   "metadata": {},
   "source": [
    "# 2. subset 생성"
   ]
  },
  {
   "cell_type": "code",
   "execution_count": 3,
   "metadata": {},
   "outputs": [
    {
     "name": "stdout",
     "output_type": "stream",
     "text": [
      "<class 'pandas.core.frame.DataFrame'>\n",
      "Int64Index: 1599 entries, 0 to 1598\n",
      "Data columns (total 13 columns):\n",
      " #   Column                Non-Null Count  Dtype  \n",
      "---  ------                --------------  -----  \n",
      " 0   type                  1599 non-null   object \n",
      " 1   fixed_acidity         1599 non-null   float64\n",
      " 2   volatile_acidity      1599 non-null   float64\n",
      " 3   citric_acid           1599 non-null   float64\n",
      " 4   residual_sugar        1599 non-null   float64\n",
      " 5   chlorides             1599 non-null   float64\n",
      " 6   free_sulfur_dioxide   1599 non-null   float64\n",
      " 7   total_sulfur_dioxide  1599 non-null   float64\n",
      " 8   density               1599 non-null   float64\n",
      " 9   pH                    1599 non-null   float64\n",
      " 10  sulphates             1599 non-null   float64\n",
      " 11  alcohol               1599 non-null   float64\n",
      " 12  quality               1599 non-null   int64  \n",
      "dtypes: float64(11), int64(1), object(1)\n",
      "memory usage: 174.9+ KB\n"
     ]
    },
    {
     "data": {
      "text/plain": [
       "(4898,)"
      ]
     },
     "execution_count": 3,
     "metadata": {},
     "output_type": "execute_result"
    }
   ],
   "source": [
    "# 1) type 칼럼 : DataFrame\n",
    "# type 객체가 red wine인 data만 추출\n",
    "red_wine = wine.loc[wine['type']=='red',:]\n",
    "red_wine.info() # 1599 x 13\n",
    "\n",
    "# 2) type(행) vs quality(열)\n",
    "red_quality =  wine.loc[wine['type']=='red','quality']\n",
    "red_quality.shape # (1599,) 1차원의 Series 형태\n",
    "\n",
    "white_quality = wine.loc[wine['type']=='white','quality']\n",
    "white_quality.shape # (4898,)"
   ]
  },
  {
   "cell_type": "markdown",
   "metadata": {},
   "source": [
    "# 3. group 객체 생성 : 집단변수 2개 -> 11변수 그룹화\n",
    " - 형식) DF.groupby(['칼럼1','칼럼2'])"
   ]
  },
  {
   "cell_type": "code",
   "execution_count": 6,
   "metadata": {},
   "outputs": [
    {
     "name": "stdout",
     "output_type": "stream",
     "text": [
      "quality     3      4       5       6      7      8    9\n",
      "type                                                   \n",
      "red      10.0   53.0   681.0   638.0  199.0   18.0  NaN\n",
      "white    20.0  163.0  1457.0  2198.0  880.0  175.0  5.0\n",
      "\n",
      "\n",
      "\n",
      "quality   3    4     5     6    7    8  9\n",
      "type                                     \n",
      "red      10   53   681   638  199   18  0\n",
      "white    20  163  1457  2198  880  175  5\n"
     ]
    }
   ],
   "source": [
    "wine_grp = wine.groupby(['type','quality'])\n",
    "# 각 그룹의 빈도수 확인\n",
    "wine_grp.size() # 14\n",
    "\n",
    "# 1d -> 2d \n",
    "# unstack() : 교차분할표\n",
    "grp_2d = wine_grp.size().unstack()\n",
    "print(grp_2d)\n",
    "\n",
    "\n",
    "# crosstab(행,열) : 교차분할표\n",
    "tab = pd.crosstab(wine['type'],wine['quality'])\n",
    "print('\\n\\n')\n",
    "print(tab)"
   ]
  },
  {
   "cell_type": "markdown",
   "metadata": {},
   "source": [
    "# 5. wine 종류(집단변수) vs 알콜(연속형) 통계량"
   ]
  },
  {
   "cell_type": "code",
   "execution_count": 7,
   "metadata": {},
   "outputs": [
    {
     "data": {
      "text/html": [
       "<div>\n",
       "<style scoped>\n",
       "    .dataframe tbody tr th:only-of-type {\n",
       "        vertical-align: middle;\n",
       "    }\n",
       "\n",
       "    .dataframe tbody tr th {\n",
       "        vertical-align: top;\n",
       "    }\n",
       "\n",
       "    .dataframe thead th {\n",
       "        text-align: right;\n",
       "    }\n",
       "</style>\n",
       "<table border=\"1\" class=\"dataframe\">\n",
       "  <thead>\n",
       "    <tr style=\"text-align: right;\">\n",
       "      <th></th>\n",
       "      <th>count</th>\n",
       "      <th>mean</th>\n",
       "      <th>std</th>\n",
       "      <th>min</th>\n",
       "      <th>25%</th>\n",
       "      <th>50%</th>\n",
       "      <th>75%</th>\n",
       "      <th>max</th>\n",
       "    </tr>\n",
       "    <tr>\n",
       "      <th>type</th>\n",
       "      <th></th>\n",
       "      <th></th>\n",
       "      <th></th>\n",
       "      <th></th>\n",
       "      <th></th>\n",
       "      <th></th>\n",
       "      <th></th>\n",
       "      <th></th>\n",
       "    </tr>\n",
       "  </thead>\n",
       "  <tbody>\n",
       "    <tr>\n",
       "      <th>red</th>\n",
       "      <td>1599.0</td>\n",
       "      <td>10.422983</td>\n",
       "      <td>1.065668</td>\n",
       "      <td>8.4</td>\n",
       "      <td>9.5</td>\n",
       "      <td>10.2</td>\n",
       "      <td>11.1</td>\n",
       "      <td>14.9</td>\n",
       "    </tr>\n",
       "    <tr>\n",
       "      <th>white</th>\n",
       "      <td>4898.0</td>\n",
       "      <td>10.514267</td>\n",
       "      <td>1.230621</td>\n",
       "      <td>8.0</td>\n",
       "      <td>9.5</td>\n",
       "      <td>10.4</td>\n",
       "      <td>11.4</td>\n",
       "      <td>14.2</td>\n",
       "    </tr>\n",
       "  </tbody>\n",
       "</table>\n",
       "</div>"
      ],
      "text/plain": [
       "        count       mean       std  min  25%   50%   75%   max\n",
       "type                                                          \n",
       "red    1599.0  10.422983  1.065668  8.4  9.5  10.2  11.1  14.9\n",
       "white  4898.0  10.514267  1.230621  8.0  9.5  10.4  11.4  14.2"
      ]
     },
     "execution_count": 7,
     "metadata": {},
     "output_type": "execute_result"
    }
   ],
   "source": [
    "wine_grp = wine.groupby('type')\n",
    "# 특정 칼럼의 요약 통계량\n",
    "wine_grp['alcohol'].describe()"
   ]
  }
 ],
 "metadata": {
  "kernelspec": {
   "display_name": "Python 3",
   "language": "python",
   "name": "python3"
  },
  "language_info": {
   "codemirror_mode": {
    "name": "ipython",
    "version": 3
   },
   "file_extension": ".py",
   "mimetype": "text/x-python",
   "name": "python",
   "nbconvert_exporter": "python",
   "pygments_lexer": "ipython3",
   "version": "3.7.6"
  }
 },
 "nbformat": 4,
 "nbformat_minor": 4
}
