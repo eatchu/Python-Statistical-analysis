{
 "cells": [
  {
   "cell_type": "markdown",
   "metadata": {},
   "source": [
    "1. group 객체에 외부 함수 적용\n",
    " - obj.apply(func) : 하나의 함수를 적용\n",
    " - obj.agg([func1,func2]) : 여러개의 함수를 적용\n",
    " \n",
    "2. data 정규화"
   ]
  },
  {
   "cell_type": "code",
   "execution_count": 2,
   "metadata": {},
   "outputs": [],
   "source": [
    "import pandas as pd"
   ]
  },
  {
   "cell_type": "markdown",
   "metadata": {},
   "source": [
    "# 1. group 객체에 외부 함수 적용\n",
    "\n",
    "apply vs agg\n",
    " - 공통점 : 그룹 객체에 외부 함수 적용\n",
    " - 차이점 : 적용할 함수 갯수 "
   ]
  },
  {
   "cell_type": "code",
   "execution_count": 3,
   "metadata": {
    "scrolled": false
   },
   "outputs": [
    {
     "name": "stdout",
     "output_type": "stream",
     "text": [
      "<class 'pandas.core.frame.DataFrame'>\n",
      "RangeIndex: 6 entries, 0 to 5\n",
      "Data columns (total 3 columns):\n",
      " #   Column  Non-Null Count  Dtype \n",
      "---  ------  --------------  ----- \n",
      " 0   key     6 non-null      object\n",
      " 1   data1   6 non-null      int64 \n",
      " 2   data2   6 non-null      int64 \n",
      "dtypes: int64(2), object(1)\n",
      "memory usage: 272.0+ bytes\n",
      "내장함수 적용 : sum\n",
      "key\n",
      "a    300\n",
      "b    500\n",
      "Name: data2, dtype: int64\n",
      "\n",
      " 사용자 정의함수 적용\n",
      "key\n",
      "a      0\n",
      "b    100\n",
      "Name: data2, dtype: int64\n",
      "\n",
      " 여러개 함수 한번에 적용\n",
      "     sum  max  min  diff\n",
      "key                     \n",
      "a    300  100  100     0\n",
      "b    500  200  100   100\n"
     ]
    }
   ],
   "source": [
    "\n",
    "# apply()\n",
    "test = pd.read_csv('C:\\\\IITT\\\\4_Python-II\\\\workplace\\\\data\\\\test.csv')\n",
    "test.info()\n",
    "\n",
    "grp = test.groupby('key')['data2']\n",
    "grp.size() # a=3, b=3\n",
    "grp.sum() # a=300, b=500\n",
    "grp.max() # a=100, b=200\n",
    "grp.min() # a=100, b=100\n",
    "\n",
    "\n",
    "# 내장 함수 적용 : bultin function\n",
    "print('내장함수 적용 : sum')\n",
    "print(grp.apply(sum))\n",
    "\n",
    "\n",
    "# 사용자 정의함수 적용\n",
    "def diff(grp):\n",
    "    result = grp.max() - grp.min()\n",
    "    return result\n",
    "\n",
    "print('\\n 사용자 정의함수 적용')\n",
    "print(grp.apply(diff)) # a=0, b=100\n",
    "\n",
    "\n",
    "\n",
    "# agg()\n",
    "\n",
    "# 내장 함수 + 사용자 정의 함수 적용\n",
    "print('\\n 여러개 함수 한번에 적용')\n",
    "print(grp.agg([sum,max,min,diff]))\n",
    "\n"
   ]
  },
  {
   "cell_type": "markdown",
   "metadata": {},
   "source": [
    "# 2. data 정규화\n",
    "- 다양한 특징을 갖는 변수(x)를 대상으로 일정한 범위로 조정\n",
    "- x(30) -> y\n"
   ]
  },
  {
   "cell_type": "code",
   "execution_count": 4,
   "metadata": {},
   "outputs": [],
   "source": [
    "import numpy as np # max, min, log : numpy 제공 함수"
   ]
  },
  {
   "cell_type": "code",
   "execution_count": 6,
   "metadata": {},
   "outputs": [
    {
     "name": "stdout",
     "output_type": "stream",
     "text": [
      "Index(['Sepal.Length', 'Sepal.Width', 'Petal.Length', 'Petal.Width',\n",
      "       'Species'],\n",
      "      dtype='object')\n"
     ]
    },
    {
     "name": "stderr",
     "output_type": "stream",
     "text": [
      "C:\\Users\\user\\anaconda3\\lib\\site-packages\\ipykernel_launcher.py:23: RuntimeWarning: divide by zero encountered in log\n",
      "C:\\Users\\user\\anaconda3\\lib\\site-packages\\ipykernel_launcher.py:23: RuntimeWarning: invalid value encountered in log\n"
     ]
    },
    {
     "data": {
      "text/html": [
       "<div>\n",
       "<style scoped>\n",
       "    .dataframe tbody tr th:only-of-type {\n",
       "        vertical-align: middle;\n",
       "    }\n",
       "\n",
       "    .dataframe tbody tr th {\n",
       "        vertical-align: top;\n",
       "    }\n",
       "\n",
       "    .dataframe thead th {\n",
       "        text-align: right;\n",
       "    }\n",
       "</style>\n",
       "<table border=\"1\" class=\"dataframe\">\n",
       "  <thead>\n",
       "    <tr style=\"text-align: right;\">\n",
       "      <th></th>\n",
       "      <th>Sepal.Length</th>\n",
       "      <th>Sepal.Width</th>\n",
       "      <th>Petal.Length</th>\n",
       "      <th>Petal.Width</th>\n",
       "    </tr>\n",
       "  </thead>\n",
       "  <tbody>\n",
       "    <tr>\n",
       "      <th>var</th>\n",
       "      <td>0.685694</td>\n",
       "      <td>0.189979</td>\n",
       "      <td>3.116278</td>\n",
       "      <td>0.581006</td>\n",
       "    </tr>\n",
       "    <tr>\n",
       "      <th>mean</th>\n",
       "      <td>5.843333</td>\n",
       "      <td>3.057333</td>\n",
       "      <td>3.758000</td>\n",
       "      <td>1.199333</td>\n",
       "    </tr>\n",
       "    <tr>\n",
       "      <th>max</th>\n",
       "      <td>7.900000</td>\n",
       "      <td>4.400000</td>\n",
       "      <td>6.900000</td>\n",
       "      <td>2.500000</td>\n",
       "    </tr>\n",
       "    <tr>\n",
       "      <th>min</th>\n",
       "      <td>4.300000</td>\n",
       "      <td>2.000000</td>\n",
       "      <td>1.000000</td>\n",
       "      <td>0.100000</td>\n",
       "    </tr>\n",
       "  </tbody>\n",
       "</table>\n",
       "</div>"
      ],
      "text/plain": [
       "      Sepal.Length  Sepal.Width  Petal.Length  Petal.Width\n",
       "var       0.685694     0.189979      3.116278     0.581006\n",
       "mean      5.843333     3.057333      3.758000     1.199333\n",
       "max       7.900000     4.400000      6.900000     2.500000\n",
       "min       4.300000     2.000000      1.000000     0.100000"
      ]
     },
     "execution_count": 6,
     "metadata": {},
     "output_type": "execute_result"
    }
   ],
   "source": [
    "\n",
    "# 1) 사용자 정의 함수 생성 : 정규화\n",
    "# np.func 사용\n",
    "def normal(x) :\n",
    "    n = (x-np.min(x))/(np.max(x)-np.min(x))\n",
    "    return n\n",
    "\n",
    "x = [10,20000,-100,0]\n",
    "normal(x)\n",
    "# ([0.00547264, 1.        , 0.        , 0.00497512])\n",
    "\n",
    "# bultin func 사용\n",
    "n = []\n",
    "def normal2(x) :\n",
    "    for i in x:\n",
    "        n.append((i-min(x))/(max(x)-min(x)))\n",
    "    return n\n",
    "normal2(x)\n",
    "\n",
    "\n",
    "\n",
    "\n",
    "# 2) 자연 log\n",
    "np.log(x) # 밑수 e : 음수, 영 -> 결측치, 무한대\n",
    "# ([2.30258509, 9.90348755,        nan,       -inf]) : 지수값 \n",
    "\n",
    "e = np.exp(1)\n",
    "e # 2.718281828459045\n",
    "\n",
    "\n",
    "'''\n",
    "로그 vs 지수 역함수 관계\n",
    " - 로그log : 지수값 반환\n",
    " - 지수exp : 로그값 반환\n",
    "'''\n",
    "\n",
    "# 로그 -> 지수값 (8 = 2^3 : log(8)=3)\n",
    "np.log(10) # 2.302585092994046\n",
    "e**2.302585092994045 # 10\n",
    "# 지수 -> 로그값\n",
    "np.exp(2.302585092994046) # 10\n",
    "\n",
    "\n",
    "\n",
    "# 3) data 실습\n",
    "iris = pd.read_csv('C:\\\\IITT\\\\4_Python-II\\\\workplace\\\\data\\\\iris.csv')\n",
    "cols = iris.columns\n",
    "print(cols) # 칼럼명 출력\n",
    "\n",
    "# subset (범주형 칼럼 제외)\n",
    "iris_x = iris[cols[:4]]\n",
    "iris_x.shape # (150,4)\n",
    "iris_x\n",
    "\n",
    "# x변수 정규화\n",
    "iris_nor = iris_x.apply(normal)\n",
    "iris_nor.head()\n",
    "\n",
    "iris_x.agg(['var','mean',max,min])\n"
   ]
  }
 ],
 "metadata": {
  "kernelspec": {
   "display_name": "Python 3",
   "language": "python",
   "name": "python3"
  },
  "language_info": {
   "codemirror_mode": {
    "name": "ipython",
    "version": 3
   },
   "file_extension": ".py",
   "mimetype": "text/x-python",
   "name": "python",
   "nbconvert_exporter": "python",
   "pygments_lexer": "ipython3",
   "version": "3.7.6"
  }
 },
 "nbformat": 4,
 "nbformat_minor": 4
}
