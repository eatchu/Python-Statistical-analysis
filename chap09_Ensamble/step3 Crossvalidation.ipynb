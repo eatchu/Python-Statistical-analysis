{
 "cells": [
  {
   "cell_type": "markdown",
   "metadata": {},
   "source": [
    "# 교차검정(Crossvalidation)"
   ]
  },
  {
   "cell_type": "code",
   "execution_count": 1,
   "metadata": {},
   "outputs": [
    {
     "data": {
      "text/plain": [
       "0.9332451253481894"
      ]
     },
     "execution_count": 1,
     "metadata": {},
     "output_type": "execute_result"
    }
   ],
   "source": [
    "\n",
    "from sklearn.datasets import load_digits \n",
    "from sklearn.ensemble import RandomForestClassifier # model\n",
    "from sklearn.model_selection import train_test_split ,cross_validate\n",
    "from sklearn.metrics import accuracy_score\n",
    "\n",
    "    \n",
    "# 1. dataset load\n",
    "digit = load_digits()\n",
    "\n",
    "X = digit.data\n",
    "y = digit.target\n",
    "\n",
    "X.shape # (1797,64)\n",
    "y.shape # (1797,)\n",
    "\n",
    "\n",
    "# 2. model\n",
    "rf =  RandomForestClassifier()\n",
    "model =  rf.fit(X,y)\n",
    "\n",
    "pred = model.predict(X)\n",
    "pred # array([0, 1, 2, ..., 8, 9, 8])\n",
    "pred2 = model.predict_proba(X) # 확률 예측치\n",
    "pred2\n",
    "\n",
    "\n",
    "# 확률 -> index(10진수)\n",
    "pred2_dit = pred2.argmax(axis = 1)\n",
    "pred2_dit # array([0, 1, 2, ..., 8, 9, 8],\n",
    "\n",
    "\n",
    "acc = accuracy_score(y,pred)\n",
    "acc # 1.0\n",
    "acc = accuracy_score(y, pred2_dit)\n",
    "acc # 1.0\n",
    "\n",
    "\n",
    "# 3. CrossValidation\n",
    "score = cross_validate(model, X, y, scoring='accuracy', cv=5)\n",
    "score\n",
    "\n",
    "test_score = score['test_score']\n",
    "\n",
    "# 산술평균 \n",
    "test_score.mean()  # 0.9332420303311668\n"
   ]
  }
 ],
 "metadata": {
  "kernelspec": {
   "display_name": "Python 3",
   "language": "python",
   "name": "python3"
  },
  "language_info": {
   "codemirror_mode": {
    "name": "ipython",
    "version": 3
   },
   "file_extension": ".py",
   "mimetype": "text/x-python",
   "name": "python",
   "nbconvert_exporter": "python",
   "pygments_lexer": "ipython3",
   "version": "3.7.6"
  }
 },
 "nbformat": 4,
 "nbformat_minor": 4
}
