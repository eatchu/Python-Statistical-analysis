{
 "cells": [
  {
   "cell_type": "markdown",
   "metadata": {},
   "source": [
    "# RandomForest Hyperparameter"
   ]
  },
  {
   "cell_type": "code",
   "execution_count": 4,
   "metadata": {},
   "outputs": [
    {
     "data": {
      "text/plain": [
       "1.0"
      ]
     },
     "execution_count": 4,
     "metadata": {},
     "output_type": "execute_result"
    }
   ],
   "source": [
    "\n",
    "from sklearn.ensemble import RandomForestClassifier # model\n",
    "from sklearn.datasets import load_wine # dataset\n",
    "from sklearn.metrics import confusion_matrix, accuracy_score, classification_report\n",
    "\n",
    "# 1. dataset load\n",
    "wine = load_wine()\n",
    "wine.feature_names\n",
    "wine.target_names\n",
    "\n",
    "X = wine.data\n",
    "y = wine.target\n",
    "\n",
    "X.shape # (178,13)\n",
    "\n",
    "\n",
    "# 2. RF model\n",
    "rf = RandomForestClassifier()\n",
    "model = rf.fit(X,y)\n",
    "\n",
    "\n",
    "# 3. Grid Search\n",
    "from sklearn.model_selection import GridSearchCV\n",
    "\n",
    "\n",
    "# 1) params 설정\n",
    "# dict 형식 = {'object__C':params_range}\n",
    "params= [{'n_estimators':[100,200,300,400], \n",
    "          'max_depth':[3,6,8,10],\n",
    "          'min_samples_split':[2,3,4,5],\n",
    "          'min_sample_leaf':[1,3,5,7]}] \n",
    "\n",
    "# 2) GridSearchCV 객체\n",
    "gs = GridSearchCV(estimator = model,param_grid = params,\n",
    "                  scoring = 'accuracy',cv=5, n_jobs=-1)\n",
    "# scoring : 평가방법, cv : 교차검정\n",
    "\n",
    "model = gs.fit(X,y)\n",
    "\n",
    "# best score\n",
    "acc = model.score(X,y)\n",
    "acc # 0.9883040935672515\n",
    "\n",
    "# best parameter\n",
    "model.best_params_\n",
    "# {'svc__C': 10.0, 'svc__gamma': 0.1, 'svc__kernel': 'rbf'}\n",
    "\n",
    "\n"
   ]
  }
 ],
 "metadata": {
  "kernelspec": {
   "display_name": "Python 3",
   "language": "python",
   "name": "python3"
  },
  "language_info": {
   "codemirror_mode": {
    "name": "ipython",
    "version": 3
   },
   "file_extension": ".py",
   "mimetype": "text/x-python",
   "name": "python",
   "nbconvert_exporter": "python",
   "pygments_lexer": "ipython3",
   "version": "3.7.6"
  }
 },
 "nbformat": 4,
 "nbformat_minor": 4
}
