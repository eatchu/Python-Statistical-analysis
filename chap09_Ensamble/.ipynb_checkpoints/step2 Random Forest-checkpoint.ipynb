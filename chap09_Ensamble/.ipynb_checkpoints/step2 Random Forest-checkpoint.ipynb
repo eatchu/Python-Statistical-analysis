{
 "cells": [
  {
   "cell_type": "markdown",
   "metadata": {},
   "source": [
    "# Random Forest Ensemble model"
   ]
  },
  {
   "cell_type": "code",
   "execution_count": 1,
   "metadata": {},
   "outputs": [
    {
     "data": {
      "image/png": "[encoded data removed]",
      "text/plain": [
       "<Figure size 432x288 with 1 Axes>"
      ]
     },
     "metadata": {
      "needs_background": "light"
     },
     "output_type": "display_data"
    }
   ],
   "source": [
    "\n",
    "from sklearn.ensemble import RandomForestClassifier # model\n",
    "from sklearn.datasets import load_wine # dataset\n",
    "from sklearn.metrics import confusion_matrix, accuracy_score, classification_report\n",
    "\n",
    "# 1. dataset load\n",
    "wine = load_wine()\n",
    "wine.feature_names\n",
    "wine.target_names\n",
    "\n",
    "X = wine.data\n",
    "y = wine.target\n",
    "\n",
    "X.shape # (178,13)\n",
    "\n",
    "\n",
    "# 2. RF model\n",
    "rf = RandomForestClassifier()\n",
    "'''\n",
    "n_estimators : integer, optional (default=100) : 트리 수\n",
    "criterion : string, optional (default=\"gini\") or \"entropy\" : 중요변수 선정\n",
    "max_depth : integer or None, optional (default=None) : 트리깊이\n",
    "min_samples_split : int, float, optional (default=2) : 노드 분할 최소 샘플 수\n",
    "min_samples_leaf : int, float, optional (default=1) : 단노드 분할 최소 샘플 수\n",
    "max_features : int, float, string or None, optional (default=\"auto\") : 최대 x변수 사용수\n",
    "n_jobs : int or None, optional (default=None) : CPU 수\n",
    "random_state : int, RandomState instance or None, optional (default=None) : 시드 값 지정\n",
    "'''\n",
    "\n",
    "rf\n",
    "\n",
    "import numpy as np\n",
    "\n",
    "idx = np.random.choice(a=X.shape[0], size=int(X.shape[0]*0.7), replace=False)\n",
    "\n",
    "X_train = X[idx]\n",
    "y_train = y[idx]\n",
    "\n",
    "model = rf.fit(X_train,y_train)\n",
    "\n",
    "idx_test = [i for i in range(len(X)) if not i in idx]\n",
    "len(idx_test) # 54\n",
    "\n",
    "x_test = X[idx_test]\n",
    "y_test = y[idx_test]\n",
    "\n",
    "x_test.shape # (54,13)\n",
    "\n",
    "y_pred = model.predict(x_test)\n",
    "y_true = y_test\n",
    "\n",
    "con_mat = confusion_matrix(y_true,y_pred)\n",
    "acc = accuracy_score(y_true,y_pred)\n",
    "report = classification_report(y_true,y_pred)\n",
    "\n",
    "con_mat\n",
    "acc # 0.9814814814814815\n",
    "report\n",
    "\n",
    "# 중요변수\n",
    "model.feature_importances_\n",
    "len(model.feature_importances_) # 13\n",
    "\n",
    "# 중요변수 시각화\n",
    "import matplotlib.pyplot as plt\n",
    "\n",
    "x_size = X.shape[1]\n",
    "plt.barh(range(x_size), model.feature_importances_) # (y,x)\n",
    "plt.yticks(range(x_size), wine.feature_names)\n",
    "plt.xlabel('importance')\n",
    "plt.show()\n"
   ]
  }
 ],
 "metadata": {
  "kernelspec": {
   "display_name": "Python 3",
   "language": "python",
   "name": "python3"
  },
  "language_info": {
   "codemirror_mode": {
    "name": "ipython",
    "version": 3
   },
   "file_extension": ".py",
   "mimetype": "text/x-python",
   "name": "python",
   "nbconvert_exporter": "python",
   "pygments_lexer": "ipython3",
   "version": "3.7.6"
  }
 },
 "nbformat": 4,
 "nbformat_minor": 4
}
