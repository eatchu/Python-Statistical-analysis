{
 "cells": [
  {
   "cell_type": "markdown",
   "metadata": {},
   "source": [
    "# Pipeline vs Grid search\n",
    " 1. SVM model\n",
    " 2. Pipeline : model workflow (dataset 전처리 -> model -> test)\n",
    " 3. Grid Search : model turning"
   ]
  },
  {
   "cell_type": "code",
   "execution_count": 1,
   "metadata": {},
   "outputs": [],
   "source": [
    "# 패키지설치\n",
    "from sklearn.svm import SVC # model class\n",
    "from sklearn.datasets import load_breast_cancer # dataset\n",
    "from sklearn.model_selection import train_test_split \n",
    "from sklearn.preprocessing import MinMaxScaler # scaling(0-1)\n",
    "from sklearn.pipeline import Pipeline # model workflow\n",
    "import numpy as np"
   ]
  },
  {
   "cell_type": "markdown",
   "metadata": {},
   "source": [
    "# 1. SVM model"
   ]
  },
  {
   "cell_type": "code",
   "execution_count": 2,
   "metadata": {},
   "outputs": [
    {
     "data": {
      "text/plain": [
       "0.9649122807017544"
      ]
     },
     "execution_count": 2,
     "metadata": {},
     "output_type": "execute_result"
    }
   ],
   "source": [
    "X,y = load_breast_cancer(return_X_y=True)\n",
    "X.shape # (569,30)\n",
    "\n",
    "# 1) 열 평균\n",
    "X.mean(axis=0)\n",
    "X.min() # 0.0\n",
    "X.max() # 4254.0\n",
    "\n",
    "# 2) X변수 정규화 : 전처리\n",
    "scaler = MinMaxScaler().fit(X)\n",
    "X_nor = scaler.transform(X)\n",
    "X_nor.mean(axis=0)\n",
    "X_nor.max() # 1.0\n",
    "\n",
    "x_train, x_test, y_train, y_test = train_test_split(X_nor,y,test_size=0.3)\n",
    "\n",
    "# 3) SVM model생성\n",
    "svc = SVC(gamma='auto')\n",
    "model = svc.fit(x_train, y_train)\n",
    "\n",
    "# 4) model 평가\n",
    "score = model.score(x_test,y_test)\n",
    "score # 0.9590643274853801\n"
   ]
  },
  {
   "cell_type": "markdown",
   "metadata": {},
   "source": [
    "# 2. Pipeline : model workflow"
   ]
  },
  {
   "cell_type": "code",
   "execution_count": 3,
   "metadata": {},
   "outputs": [
    {
     "data": {
      "text/plain": [
       "0.9649122807017544"
      ]
     },
     "execution_count": 3,
     "metadata": {},
     "output_type": "execute_result"
    }
   ],
   "source": [
    "# 1) pipeline step : [(step1),(step2),...]\n",
    "pipe_svc = Pipeline([('scaler',MinMaxScaler()),('svc',SVC(gamma='auto'))])\n",
    "\n",
    "# 2) pipeline model\n",
    "model = pipe_svc.fit(x_train,y_train)\n",
    "\n",
    "# 3) pipeline model test\n",
    "score = model.score(x_test,y_test)\n",
    "score # 0.9590643274853801\n",
    "\n"
   ]
  },
  {
   "cell_type": "markdown",
   "metadata": {},
   "source": [
    "# 3. Grid Search : model turning"
   ]
  },
  {
   "cell_type": "code",
   "execution_count": 5,
   "metadata": {},
   "outputs": [
    {
     "data": {
      "text/plain": [
       "{'svc__C': 1.0, 'svc__kernel': 'linear'}"
      ]
     },
     "execution_count": 5,
     "metadata": {},
     "output_type": "execute_result"
    }
   ],
   "source": [
    "# pipeline -> Grid search -> model turning\n",
    "from sklearn.model_selection import GridSearchCV\n",
    "\n",
    "# help(SVC)\n",
    "# C=1.0, kernel='rbf', degree=3, gamma='auto'\n",
    "\n",
    "# 1) params 설정\n",
    "params = [0.001,0.01,0.1,1.0,10.0,100.0,1000.0]\n",
    "\n",
    "# dict 형식 = {'object__C':params_range}\n",
    "params_grid = [{'svc__C':params, 'svc__kernel':['linear']}, # 선형\n",
    "               {'svc__C':params, 'svc__gamma':params, 'svc__kernel':['rbf']}] # 비선형\n",
    "\n",
    "# 2) GridSearchCV 객체\n",
    "gs = GridSearchCV(estimator = pipe_svc,param_grid = params_grid, scoring = 'accuracy',cv=10)\n",
    "# scoring : 평가방법, cv : 교차검정\n",
    "\n",
    "model = gs.fit(x_train,y_train)\n",
    "\n",
    "# best score\n",
    "acc = model.score(x_test,y_test)\n",
    "acc # 0.9883040935672515\n",
    "\n",
    "# best parameter\n",
    "model.best_params_\n",
    "# {'svc__C': 10.0, 'svc__gamma': 0.1, 'svc__kernel': 'rbf'}\n"
   ]
  }
 ],
 "metadata": {
  "kernelspec": {
   "display_name": "Python 3",
   "language": "python",
   "name": "python3"
  },
  "language_info": {
   "codemirror_mode": {
    "name": "ipython",
    "version": 3
   },
   "file_extension": ".py",
   "mimetype": "text/x-python",
   "name": "python",
   "nbconvert_exporter": "python",
   "pygments_lexer": "ipython3",
   "version": "3.7.6"
  }
 },
 "nbformat": 4,
 "nbformat_minor": 4
}
