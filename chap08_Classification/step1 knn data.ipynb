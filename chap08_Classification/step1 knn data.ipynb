{
 "cells": [
  {
   "cell_type": "code",
   "execution_count": 1,
   "metadata": {},
   "outputs": [
    {
     "data": {
      "image/png": "[encoded data removed]",
      "text/plain": [
       "<Figure size 432x288 with 1 Axes>"
      ]
     },
     "metadata": {
      "needs_background": "light"
     },
     "output_type": "display_data"
    },
    {
     "data": {
      "text/plain": [
       "(4,)"
      ]
     },
     "execution_count": 1,
     "metadata": {},
     "output_type": "execute_result"
    }
   ],
   "source": [
    "import numpy as np # 다차원배열, 선형대수 연산 \n",
    "import matplotlib.pyplot as plt\n",
    "\n",
    "# 1. 알려진 두 집단 x,y 산점도 시각화 \n",
    "plt.scatter(1.2, 1.1) # A 집단\n",
    "plt.scatter(1.0, 1.0)\n",
    "plt.scatter(1.8, 0.8) # B 집단 \n",
    "plt.scatter(2, 0.9)\n",
    "\n",
    "plt.scatter(1.6, 0.85, color='r') # 분류대상 \n",
    "plt.show()\n",
    "\n",
    "# 2. DATA 생성과 함수 정의 \n",
    "p1 = [1.2, 1.1] # A 집단 \n",
    "p2 = [1.0, 1.0]\n",
    "p3 = [1.8, 0.8] # B 집단\n",
    "p4 = [2, 0.9]\n",
    "category = ['A','A','B','B'] # 알려진 집단 분류범주(Y변수)\n",
    "p5 = [1.6, 0.85] # 분류대상 \n",
    "\n",
    "# data 생성 함수 정의\n",
    "def data_set():\n",
    "    # 선형대수 연산 : numpy형 변환 \n",
    "    know_group = np.array([p1, p2, p3, p4]) # 알려진 집단 \n",
    "    not_know_group = np.array(p5) # 알려지지 않은 집단\n",
    "    class_category = np.array(category) # 정답(분류범주)\n",
    "    return know_group,not_know_group,class_category \n",
    "\n",
    "know,unknow,category = data_set()\n",
    "know.shape # (4,2)\n",
    "unknow.shape # (2,)\n",
    "category.shape # (4,)\n"
   ]
  }
 ],
 "metadata": {
  "kernelspec": {
   "display_name": "Python 3",
   "language": "python",
   "name": "python3"
  },
  "language_info": {
   "codemirror_mode": {
    "name": "ipython",
    "version": 3
   },
   "file_extension": ".py",
   "mimetype": "text/x-python",
   "name": "python",
   "nbconvert_exporter": "python",
   "pygments_lexer": "ipython3",
   "version": "3.7.6"
  }
 },
 "nbformat": 4,
 "nbformat_minor": 4
}
