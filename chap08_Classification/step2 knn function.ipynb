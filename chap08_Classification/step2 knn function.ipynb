{
 "cells": [
  {
   "cell_type": "code",
   "execution_count": 3,
   "metadata": {},
   "outputs": [
    {
     "name": "stdout",
     "output_type": "stream",
     "text": [
      "분류결과: B\n"
     ]
    },
    {
     "data": {
      "text/plain": [
       "'B'"
      ]
     },
     "execution_count": 3,
     "metadata": {},
     "output_type": "execute_result"
    }
   ],
   "source": [
    "\n",
    "\n",
    "import numpy as np\n",
    "\n",
    "# dataset 생성\n",
    "p1 = [1.2, 1.1] # A 집단 \n",
    "p2 = [1.0, 1.0]\n",
    "p3 = [1.8, 0.8] # B 집단\n",
    "p4 = [2, 0.9]\n",
    "category = ['A','A','B','B'] # 알려진 집단 분류범주(Y변수)\n",
    "p5 = [1.6, 0.85] # 분류대상 \n",
    "def data_set():\n",
    "    # 선형대수 연산 : numpy형 변환 \n",
    "    know_group = np.array([p1, p2, p3, p4]) # 알려진 집단 \n",
    "    not_know_group = np.array(p5) # 알려지지 않은 집단\n",
    "    class_category = np.array(category) # 정답(분류범주)\n",
    "    return know_group,not_know_group,class_category \n",
    "know, unknow, cate = data_set()\n",
    "know.shape # (4,2)\n",
    "unknow # array([1.6 , 0.85])\n",
    "cate # array(['A', 'A', 'B', 'B'])\n",
    "\n",
    "\n",
    "# 거리계산식 : 차 > 제곱 > 합 > 제곱근\n",
    "diff = know - unknow\n",
    "diff\n",
    "\n",
    "square_diff = diff ** 2\n",
    "square_diff\n",
    "\n",
    "sum_square = square_diff.sum(axis=1) # 행 단위 합계\n",
    "sum_square # array([0.2225, 0.3825, 0.0425, 0.1625])\n",
    "\n",
    "distance = np.sqrt(sum_square)\n",
    "distance # array([0.47169906, 0.61846584, 0.20615528, 0.40311289])\n",
    "\n",
    "sortDist = distance.argsort()\n",
    "sortDist # [2, 3, 0, 1]\n",
    "\n",
    "result = cate[sortDist]\n",
    "result # ['B', 'B', 'A', 'A']\n",
    "\n",
    "# k = 3 최근접 이웃 3개\n",
    "k3 = result[:3]\n",
    "k3 # ['B', 'B', 'A']\n",
    "\n",
    "# dict\n",
    "classify_re = {}\n",
    "for key in k3:\n",
    "    classify_re[key] = classify_re.get(key,0) + 1\n",
    "classify_re  # {'B': 2, 'A': 1}\n",
    "\n",
    "vote_re = max(classify_re)\n",
    "print('분류결과:',vote_re)\n",
    "\n",
    "\n",
    "\n",
    "def knn_classfy(know, unknow, cate, k):\n",
    "    # 단계1 : 거리식 계산\n",
    "    square_diff = (know-unknow)**2\n",
    "    sum_square = square_diff.sum(axis=1)\n",
    "    distance = np.sqrt(sum_square)\n",
    "    # 단계2 : 오름차순 정렬\n",
    "    sortDist = distance.argsort()\n",
    "    # 단계3 : 최근접 이웃\n",
    "    classify_re = {}\n",
    "    for i in range(k):\n",
    "        key = cate[sortDist[i]] \n",
    "        classify_re[key] = classify_re.get(key,0) + 1\n",
    "    return classify_re \n",
    "    \n",
    "    \n",
    "classify = knn_classfy(know,unknow,cate,3)    \n",
    "classify    \n",
    "max(classify)\n"
   ]
  }
 ],
 "metadata": {
  "kernelspec": {
   "display_name": "Python 3",
   "language": "python",
   "name": "python3"
  },
  "language_info": {
   "codemirror_mode": {
    "name": "ipython",
    "version": 3
   },
   "file_extension": ".py",
   "mimetype": "text/x-python",
   "name": "python",
   "nbconvert_exporter": "python",
   "pygments_lexer": "ipython3",
   "version": "3.7.6"
  }
 },
 "nbformat": 4,
 "nbformat_minor": 4
}
