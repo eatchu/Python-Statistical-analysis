{
 "cells": [
  {
   "cell_type": "markdown",
   "metadata": {},
   "source": [
    "# Gini 불순도(Impurity), Entropy\n",
    " - tree model에서 중요번수 선정기준\n",
    " - 정보이득 = base지수 - Gini 불순도 or entropy\n",
    " - 정보이득이 클 수록 중요변수로 본다\n",
    " - Gini impurity = sum(p * (1-p))\n",
    " - Entropy = -sum(p*log(p))"
   ]
  },
  {
   "cell_type": "code",
   "execution_count": 1,
   "metadata": {},
   "outputs": [
    {
     "name": "stdout",
     "output_type": "stream",
     "text": [
      "gini= 0.5\n",
      "entropy= 1.0\n",
      "cost= 1.0\n",
      "gini= 0.18\n",
      "entropy = 0.4689955935892812\n",
      "cost = 0.4689955935892812\n"
     ]
    }
   ],
   "source": [
    "\n",
    "import numpy as np\n",
    "\n",
    "# 1. 불확실성 큰 경우\n",
    "x1 = 0.5; x2 = 0.5 # 전체확률 = 1\n",
    "\n",
    "gini = sum([x1 * (1-x1),x2 * (1-x2)])\n",
    "print('gini=',gini)\n",
    "\n",
    "entropy = -sum([x1 * np.log2(x1),x2 * np.log2(x2)])\n",
    "print('entropy=',entropy)\n",
    "\n",
    "'''\n",
    "cost(loss) function : 정답과 예측치 -> 오차 반환 함수\n",
    "x1 -> y_true, x2 -> y_pred\n",
    "y_true = x1 * np.log2(x1)\n",
    "y_pred = x2 * np.log2(x2)\n",
    "'''\n",
    "\n",
    "y_true = x1 * np.log2(x1)\n",
    "y_pred = x2 * np.log2(x2)\n",
    "cost = -sum([y_true, y_pred])\n",
    "print('cost=',cost) # 1.0\n",
    "\n",
    "\n",
    "\n",
    "\n",
    "# 2. 불확실성 작은 경우 \n",
    "x1 = 0.9; x2 = 0.1 # 전체 확률 = 1\n",
    "\n",
    "gini = sum([x1 * (1-x1), x2 * (1-x2)])\n",
    "print('gini=', gini) # gini = 0.18\n",
    "\n",
    "entropy = -sum([x1 * np.log2(x1), x2 * np.log2(x2)])\n",
    "print('entropy =',entropy) # entropy = 0.4689955935892812\n",
    "\n",
    "y_true = x1 * np.log2(x1)\n",
    "y_pred = x2 * np.log2(x2)\n",
    "cost = -sum([y_true, y_pred])\n",
    "print('cost =', cost) # cost = 0.4689955935892812\n"
   ]
  },
  {
   "cell_type": "code",
   "execution_count": 2,
   "metadata": {},
   "outputs": [
    {
     "data": {
      "text/plain": [
       "[Text(133.92000000000002, 181.2, 'X[0] <= 0.5\\ngini = 0.48\\nsamples = 5\\nvalue = [3, 2]'),\n",
       " Text(66.96000000000001, 108.72, 'gini = 0.0\\nsamples = 2\\nvalue = [2, 0]'),\n",
       " Text(200.88000000000002, 108.72, 'X[1] <= 0.5\\ngini = 0.444\\nsamples = 3\\nvalue = [1, 2]'),\n",
       " Text(133.92000000000002, 36.23999999999998, 'gini = 0.0\\nsamples = 1\\nvalue = [1, 0]'),\n",
       " Text(267.84000000000003, 36.23999999999998, 'gini = 0.0\\nsamples = 2\\nvalue = [0, 2]')]"
      ]
     },
     "execution_count": 2,
     "metadata": {},
     "output_type": "execute_result"
    },
    {
     "data": {
      "image/png": "[encoded data removed]",
      "text/plain": [
       "<Figure size 432x288 with 1 Axes>"
      ]
     },
     "metadata": {
      "needs_background": "light"
     },
     "output_type": "display_data"
    }
   ],
   "source": [
    "\n",
    "\n",
    "##########################\n",
    "### dataset 적용 \n",
    "##########################\n",
    "\n",
    "def createDataSet(): \n",
    "    dataSet = [[1, 1, 'yes'], \n",
    "               [1, 1, 'yes'], \n",
    "               [1, 0, 'no'], \n",
    "               [0, 1, 'no'], \n",
    "               [0, 1, 'no']] \n",
    "    columns = ['dark_clouds','gust'] # X1,X2,label return dataSet, columns\n",
    "    return dataSet, columns\n",
    "    \n",
    "dataSet, columns = createDataSet() \n",
    "type(dataSet) # list\n",
    "\n",
    "import numpy as np\n",
    "dataSet = np.array(dataSet)\n",
    "dataSet.shape # (5,3)\n",
    "\n",
    "X = dataSet[:,:2]\n",
    "X\n",
    "y = dataSet[:,2]\n",
    "y # ['yes', 'yes', 'no', 'no', 'no']\n",
    " \n",
    "# dummy \n",
    "y = [1 if i=='yes' else 0 for i in y]\n",
    "y # [1, 1, 0, 0, 0]\n",
    "\n",
    "from sklearn.tree import DecisionTreeClassifier, export_graphviz\n",
    "from sklearn.metrics import accuracy_score\n",
    "from sklearn import tree\n",
    "\n",
    "dt = DecisionTreeClassifier()\n",
    "model = dt.fit(X,y)\n",
    "pred = model.predict(X)\n",
    "\n",
    "acc = accuracy_score(y,pred)\n",
    "acc # 1.0\n",
    "\n",
    "# 중요변수\n",
    "tree.plot_tree(model)\n"
   ]
  }
 ],
 "metadata": {
  "kernelspec": {
   "display_name": "Python 3",
   "language": "python",
   "name": "python3"
  },
  "language_info": {
   "codemirror_mode": {
    "name": "ipython",
    "version": 3
   },
   "file_extension": ".py",
   "mimetype": "text/x-python",
   "name": "python",
   "nbconvert_exporter": "python",
   "pygments_lexer": "ipython3",
   "version": "3.7.6"
  }
 },
 "nbformat": 4,
 "nbformat_minor": 4
}
