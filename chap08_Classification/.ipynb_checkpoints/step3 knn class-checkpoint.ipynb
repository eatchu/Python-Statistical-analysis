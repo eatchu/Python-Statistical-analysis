{
 "cells": [
  {
   "cell_type": "code",
   "execution_count": 3,
   "metadata": {},
   "outputs": [
    {
     "data": {
      "text/plain": [
       "'B'"
      ]
     },
     "execution_count": 3,
     "metadata": {},
     "output_type": "execute_result"
    }
   ],
   "source": [
    "\n",
    "import numpy as np\n",
    "\n",
    "# dataset\n",
    "p1 = [1.2, 1.1] # A 집단 \n",
    "p2 = [1.0, 1.0]\n",
    "p3 = [1.8, 0.8] # B 집단\n",
    "p4 = [2, 0.9]\n",
    "category = ['A','A','B','B'] # 알려진 집단 분류범주(Y변수)\n",
    "p5 = [1.6, 0.85] # 분류대상 \n",
    "def data_set():\n",
    "    # 선형대수 연산 : numpy형 변환 \n",
    "    know_group = np.array([p1, p2, p3, p4]) # 알려진 집단 \n",
    "    not_know_group = np.array(p5) # 알려지지 않은 집단\n",
    "    class_category = np.array(category) # 정답(분류범주)\n",
    "    return know_group,not_know_group,class_category \n",
    "know,unknow,cate = data_set()\n",
    "\n",
    "class KNNClassify:\n",
    "    # 생성자, 멤버(메서드, 변수)\n",
    "    def classfy(self, know, unknow, cate, k):\n",
    "        # 단계1 : 거리식 계산\n",
    "        square_diff = (know-unknow)**2\n",
    "        sum_square = square_diff.sum(axis=1)\n",
    "        distance = np.sqrt(sum_square)\n",
    "        # 단계2 : 오름차순 정렬\n",
    "        sortDist = distance.argsort()\n",
    "        # 단계3 : 최근접 이웃\n",
    "        self.classify_re = {}\n",
    "        for i in range(k):\n",
    "            key = cate[sortDist[i]] \n",
    "            self.classify_re[key] = self.classify_re.get(key,0) + 1\n",
    "        return self.classify_re\n",
    "        \n",
    "    def vote(self):\n",
    "        self.vote_re = max(self.classify_re)\n",
    "        return self.vote_re\n",
    "    \n",
    "\n",
    "# 객체 생성 : 생성자 이용\n",
    "knn = KNNClassify()\n",
    "knn.classfy(know,unknow,cate,3) # {'B': 2, 'A': 1}\n",
    "knn.vote() # 'B'\n",
    "\n",
    "\n"
   ]
  }
 ],
 "metadata": {
  "kernelspec": {
   "display_name": "Python 3",
   "language": "python",
   "name": "python3"
  },
  "language_info": {
   "codemirror_mode": {
    "name": "ipython",
    "version": 3
   },
   "file_extension": ".py",
   "mimetype": "text/x-python",
   "name": "python",
   "nbconvert_exporter": "python",
   "pygments_lexer": "ipython3",
   "version": "3.7.6"
  }
 },
 "nbformat": 4,
 "nbformat_minor": 4
}
