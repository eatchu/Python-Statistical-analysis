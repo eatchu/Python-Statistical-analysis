{
 "cells": [
  {
   "cell_type": "markdown",
   "metadata": {},
   "source": [
    "# SMS spam classification\n",
    "\n",
    "NB vs SVM : 희소행렬 (고차원)\n",
    " - 가중치 적용 : Tfidf"
   ]
  },
  {
   "cell_type": "code",
   "execution_count": 1,
   "metadata": {},
   "outputs": [],
   "source": [
    "# 패키지 설치\n",
    "\n",
    "from sklearn.naive_bayes import MultinomialNB # nb model\n",
    "from sklearn.svm import SVC #svm model\n",
    "from sklearn.model_selection import train_test_split # dataset split\n",
    "from sklearn.metrics import accuracy_score, confusion_matrix\n",
    "import numpy as np # np file load -> chap07/data/spam_data.npy\n"
   ]
  },
  {
   "cell_type": "code",
   "execution_count": null,
   "metadata": {},
   "outputs": [
    {
     "name": "stdout",
     "output_type": "stream",
     "text": [
      "0.976688583383144\n",
      "[[1446    1]\n",
      " [  38  188]]\n",
      "0.831858407079646\n"
     ]
    }
   ],
   "source": [
    "\n",
    "# 1. dataset load\n",
    "# file load\n",
    "x_train, x_test, y_train, y_test = np.load('C:/IITT/4_Python-II/workplace/chap07_Textmining/data/spam_data.npy',\n",
    "                                           allow_pickle=True)\n",
    "x_train.shape # (3901, 4000)\n",
    "x_test.shape # (1673, 4000)\n",
    "# y_train.shape # list error\n",
    "\n",
    "# list -> numpy\n",
    "y_train = np.array(y_train)\n",
    "y_test = np.array(y_test)\n",
    "y_train.shape # (3901,)\n",
    "y_test.shape # (1673,)\n",
    "\n",
    "\n",
    "# 2. NB model\n",
    "nb = MultinomialNB()\n",
    "model = nb.fit(x_train, y_train)\n",
    "\n",
    "y_pred = model.predict(x_test)\n",
    "y_true = y_test\n",
    "\n",
    "acc = accuracy_score(y_true,y_pred)\n",
    "print(acc) # 0.976688583383144\n",
    "con_mat = confusion_matrix(y_true,y_pred)\n",
    "print(con_mat)\n",
    "'''\n",
    "[[1446    1]\n",
    " [  38  188]]\n",
    "'''\n",
    "print(188/(38+188)) # 0.831858407079646\n",
    "\n",
    "\n",
    "# 3. SVM model\n",
    "# 비선형 모델\n",
    "svc = SVC(gamma='auto')\n",
    "model_svc = svc.fit(x_train,y_train)\n",
    "\n",
    "y_pred2 = model_svc.predict(x_test)\n",
    "y_true2 = y_test\n",
    "\n",
    "acc2 = accuracy_score(y_true2,y_pred2)\n",
    "acc2 # 0.8649133293484758\n",
    "con_max = confusion_matrix(y_true2, y_pred2)\n",
    "con_max\n",
    "'''\n",
    "[[1447,    0],\n",
    " [ 226,    0]]\n",
    "'''\n",
    "\n",
    "# 선형 모델\n",
    "svc = SVC(kernel='linear')\n",
    "model_svc = svc.fit(x_train,y_train)\n",
    "\n",
    "y_pred2 = model_svc.predict(x_test)\n",
    "y_true2 = y_test\n",
    "\n",
    "acc2 = accuracy_score(y_true2,y_pred2)\n",
    "acc2 # 0.9814704124327556\n",
    "con_max = confusion_matrix(y_true2, y_pred2)\n",
    "con_max\n",
    "'''\n",
    "[[1442,    5],\n",
    " [  26,  200]]\n",
    "'''"
   ]
  }
 ],
 "metadata": {
  "kernelspec": {
   "display_name": "Python 3",
   "language": "python",
   "name": "python3"
  },
  "language_info": {
   "codemirror_mode": {
    "name": "ipython",
    "version": 3
   },
   "file_extension": ".py",
   "mimetype": "text/x-python",
   "name": "python",
   "nbconvert_exporter": "python",
   "pygments_lexer": "ipython3",
   "version": "3.7.6"
  }
 },
 "nbformat": 4,
 "nbformat_minor": 4
}
