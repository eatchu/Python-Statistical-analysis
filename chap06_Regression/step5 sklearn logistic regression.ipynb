{
 "cells": [
  {
   "cell_type": "markdown",
   "metadata": {},
   "source": [
    "# sklearn 로지스틱 회귀모델\n",
    " - y변수가 범주형인 경우"
   ]
  },
  {
   "cell_type": "code",
   "execution_count": 1,
   "metadata": {},
   "outputs": [],
   "source": [
    "# 패키지설치\n",
    "from sklearn.datasets import load_breast_cancer, load_iris\n",
    "from sklearn.linear_model import LogisticRegression # 모델 생성\n",
    "from sklearn.metrics import accuracy_score, confusion_matrix\n"
   ]
  },
  {
   "cell_type": "code",
   "execution_count": 3,
   "metadata": {},
   "outputs": [
    {
     "name": "stderr",
     "output_type": "stream",
     "text": [
      "C:\\Users\\user\\anaconda3\\lib\\site-packages\\sklearn\\linear_model\\_logistic.py:940: ConvergenceWarning: lbfgs failed to converge (status=1):\n",
      "STOP: TOTAL NO. of ITERATIONS REACHED LIMIT.\n",
      "\n",
      "Increase the number of iterations (max_iter) or scale the data as shown in:\n",
      "    https://scikit-learn.org/stable/modules/preprocessing.html\n",
      "Please also refer to the documentation for alternative solver options:\n",
      "    https://scikit-learn.org/stable/modules/linear_model.html#logistic-regression\n",
      "  extra_warning_msg=_LOGISTIC_SOLVER_CONVERGENCE_MSG)\n"
     ]
    },
    {
     "data": {
      "text/plain": [
       "0.9472759226713533"
      ]
     },
     "execution_count": 3,
     "metadata": {},
     "output_type": "execute_result"
    }
   ],
   "source": [
    "\n",
    "######################\n",
    "#### 1. 이항분류 #####\n",
    "######################\n",
    "\n",
    "# 1. dataset load 변수 선택\n",
    "breast = load_breast_cancer()\n",
    "\n",
    "x = breast.data # x변수\n",
    "y = breast.target # y변수\n",
    "\n",
    "x.shape # (569,30)\n",
    "y.shape # (569,)\n",
    "y # 0,1 이항분류\n",
    "\n",
    "# 2. model 생성\n",
    "# help(LogisticRegression)\n",
    "'''\n",
    "random_state=None : 난수 seed값 지정\n",
    "solver='lbfgs' : 알고리즘\n",
    " - solver : {'newton-cg', '1bfgs', 'liblinear', 'sag', 'saga'}\n",
    "max_iter=100 : 반복학습 횟수 \n",
    "multi_class='auto' : 다항분류\n",
    " - multi_class : {'auto', 'ovr', 'multinomial'}, default = 'auto'\n",
    " \n",
    "적용 예)\n",
    "일반 데이터, 이항분류 : default\n",
    "일반 데이터, 다항분류 : solver='lbfgs', multi_class='multinomial'\n",
    "빅 데이터, 이항분류 : solver='sag'\n",
    "빅 데이터, 다항분류 : solber='sag' or 'saga', multi_class='multinomial'\n",
    "'''\n",
    "\n",
    "lr = LogisticRegression(random_state=123)\n",
    "model = lr.fit(x,y)\n",
    "model # multi_class='auto' -> sigmoid 활용함수 -> 이항분류\n",
    "\n",
    "\n",
    "# 3. model 평가\n",
    "acc = model.score(x,y)\n",
    "acc # 0.9472759226713533\n",
    "\n",
    "y_pred = model.predict(x)\n",
    "\n",
    "acc = accuracy_score(y,y_pred)\n",
    "acc # 0.9472759226713533\n",
    "\n",
    "con_max = confusion_matrix(y,y_pred)\n",
    "con_max \n",
    "type(con_max) # numpy.ndarray\n",
    "'''\n",
    "    0     1\n",
    "0[[193,  19]\n",
    "1 [ 11, 346]]\n",
    "'''\n",
    "\n",
    "acc = (con_max[0,0] + con_max[1,1]) / con_max.sum()\n",
    "acc # 0.9472759226713533\n",
    "\n",
    "\n",
    "import pandas as pd\n",
    "pd.crosstab(y,y_pred) # confusion_matrix\n",
    "tab = pd.crosstab(y,y_pred,rownames=['관측치'],colnames=['예측치'])\n",
    "type(tab)\n",
    "\n",
    "acc = (tab.loc[0,0] + tab.loc[1,1]) / tab.sum().sum()\n",
    "acc # 0.9472759226713533\n"
   ]
  },
  {
   "cell_type": "code",
   "execution_count": 4,
   "metadata": {},
   "outputs": [
    {
     "name": "stderr",
     "output_type": "stream",
     "text": [
      "C:\\Users\\user\\anaconda3\\lib\\site-packages\\sklearn\\linear_model\\_logistic.py:940: ConvergenceWarning: lbfgs failed to converge (status=1):\n",
      "STOP: TOTAL NO. of ITERATIONS REACHED LIMIT.\n",
      "\n",
      "Increase the number of iterations (max_iter) or scale the data as shown in:\n",
      "    https://scikit-learn.org/stable/modules/preprocessing.html\n",
      "Please also refer to the documentation for alternative solver options:\n",
      "    https://scikit-learn.org/stable/modules/linear_model.html#logistic-regression\n",
      "  extra_warning_msg=_LOGISTIC_SOLVER_CONVERGENCE_MSG)\n"
     ]
    },
    {
     "data": {
      "image/png": "[encoded data removed]",
      "text/plain": [
       "<Figure size 432x432 with 2 Axes>"
      ]
     },
     "metadata": {
      "needs_background": "light"
     },
     "output_type": "display_data"
    }
   ],
   "source": [
    "\n",
    "\n",
    "######################\n",
    "#### 2. 다항분류 #####\n",
    "######################\n",
    "\n",
    "\n",
    "# 1. dataset load\n",
    "iris = load_iris()\n",
    "iris.target_names # ['setosa', 'versicolor', 'virginica']\n",
    "\n",
    "X,y = load_iris(return_X_y=True)\n",
    "\n",
    "X.shape # (150, 4)\n",
    "y.shape # (150,)\n",
    "y # 0,1,2 다향분류\n",
    "\n",
    "\n",
    "# 2. model 생성\n",
    "# 일반데이터, 다항분류 : solver='lbfgs', multi_class='multinomial'\n",
    "lr = LogisticRegression(solver='lbfgs', multi_class='multinomial', random_state=123)\n",
    "model = lr.fit(X,y)\n",
    "model # multi_class='multinomial' -> softmax 활용함수 -> 다항분류\n",
    "'''\n",
    "sigmoid function : 0 ~ 1 확률값 -> cutoff=0.5 -> 이항분류\n",
    "softmax function : 0 ~ 1 확률값 -> 전체합 = 1(c1:0.1, c2:0.1m, c3:0.8) -> 다항분류\n",
    "'''\n",
    "\n",
    "y_pred = model.predict(X) # class\n",
    "y_pred2 = model.predict_proba(X) # 확률값\n",
    "y_pred # 0,1,2\n",
    "y_pred2.shape # (150,3)\n",
    "\n",
    "# ['setosa', 'versicolor', 'virginica'] = 1\n",
    "# [9.81797141e-01, 1.82028445e-02, 1.44269293e-08]\n",
    "import numpy as np\n",
    "arr = np.array([9.81797141e-01, 1.82028445e-02, 1.44269293e-08])\n",
    "arr.max() # 0.981797141\n",
    "arr.min() # 1.44269293e-08 -> 0\n",
    "arr.sum() # 0.9999999999269293 -> 1\n",
    "\n",
    "\n",
    "# 3. model 평가\n",
    "acc = accuracy_score(y,y_pred)\n",
    "acc # 0.9733333333333334\n",
    "\n",
    "con_max = confusion_matrix(y,y_pred)\n",
    "con_max \n",
    "type(con_max) # numpy.ndarray\n",
    "'''\n",
    "[[50,  0,  0]\n",
    " [ 0, 47,  3]\n",
    " [ 0,  1, 49]]\n",
    "'''\n",
    "\n",
    "acc = (con_max[0,0]+con_max[1,1]+con_max[2,2])/con_max.sum()\n",
    "acc # 0.9733333333333334\n",
    "\n",
    "\n",
    "# 하트맵 : 시각화\n",
    "import seaborn as sn # heatmap - Accuracy Score\n",
    "import matplotlib.pyplot as plt\n",
    "\n",
    "# confusion matirx heatmap\n",
    "plt.figure(figsize=(6,6)) # chart size\n",
    "sn.heatmap(con_max, annot=True, fmt='.1f', linewidths=.5, square=True)\n",
    "plt.ylabel('Actual label')\n",
    "plt.xlabel('Predicted label')\n",
    "all_sample_title = 'Accuracy Score: {0}'.format(acc)\n",
    "plt.title(all_sample_title,size=10)\n",
    "plt.show()\n"
   ]
  },
  {
   "cell_type": "code",
   "execution_count": 6,
   "metadata": {},
   "outputs": [
    {
     "data": {
      "text/plain": [
       "<matplotlib.image.AxesImage at 0x2304b02b108>"
      ]
     },
     "execution_count": 6,
     "metadata": {},
     "output_type": "execute_result"
    },
    {
     "data": {
      "image/png": "[encoded data removed]",
      "text/plain": [
       "<Figure size 432x288 with 1 Axes>"
      ]
     },
     "metadata": {
      "needs_background": "light"
     },
     "output_type": "display_data"
    }
   ],
   "source": [
    "\n",
    "\n",
    "##################################\n",
    "###### digits : multi class ######\n",
    "##################################\n",
    "\n",
    "from sklearn.datasets import load_digits\n",
    "\n",
    "# 1. dataset load\n",
    "digits = load_digits()\n",
    "digits.target_names\n",
    "\n",
    "X = digits.data\n",
    "y = digits.target\n",
    "X.shape # (1797,64) -> 1797장 image\n",
    "y.shape # (1797,)\n",
    "\n",
    "# 2. split\n",
    "from sklearn.model_selection import train_test_split\n",
    "img_train, img_test, label_train, label_test = train_test_split(X,y)\n",
    " \n",
    "import matplotlib.pyplot as plt\n",
    "\n",
    "img2d = img_train.reshape(-1,8,8)\n",
    "img2d.shape # (1347, 8, 8)\n",
    "plt.imshow(img2d[0])\n",
    "\n",
    "\n",
    "\n"
   ]
  }
 ],
 "metadata": {
  "kernelspec": {
   "display_name": "Python 3",
   "language": "python",
   "name": "python3"
  },
  "language_info": {
   "codemirror_mode": {
    "name": "ipython",
    "version": 3
   },
   "file_extension": ".py",
   "mimetype": "text/x-python",
   "name": "python",
   "nbconvert_exporter": "python",
   "pygments_lexer": "ipython3",
   "version": "3.7.6"
  }
 },
 "nbformat": 4,
 "nbformat_minor": 4
}
