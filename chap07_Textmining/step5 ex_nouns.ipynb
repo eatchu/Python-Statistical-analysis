{
 "cells": [
  {
   "cell_type": "markdown",
   "metadata": {},
   "source": [
    "# 형태소 분석\n",
    " 1. text file 읽기\n",
    " 2. 명사 추출 Kkma\n",
    " 3. 전처리 단어길이 제한 숫자 제외\n",
    " 4. Wordcloud"
   ]
  },
  {
   "cell_type": "code",
   "execution_count": 5,
   "metadata": {},
   "outputs": [],
   "source": [
    "# 패키지 설치\n",
    "\n",
    "from konlpy.tag import Kkma # class\n",
    "from wordcloud import WordCloud\n",
    "\n",
    "# object 생성 : 형테소 분석이 가능한 객체를 생성\n",
    "kkma = Kkma()\n"
   ]
  },
  {
   "cell_type": "markdown",
   "metadata": {},
   "source": [
    "# 1. text file 읽기 : text_data.txt"
   ]
  },
  {
   "cell_type": "code",
   "execution_count": 4,
   "metadata": {},
   "outputs": [
    {
     "name": "stdout",
     "output_type": "stream",
     "text": [
      "text file 읽기\n",
      "형태소 분석을 시작합니다. 나는 데이터 분석을 좋아합니다. \n",
      "직업은 데이터 분석 전문가 입니다. Text mining 기법은 2000대 초반에 개발된 기술이다.\n",
      "\n",
      " text file -> 문장 나누기 \n",
      "['형태소 분석을 시작합니다.', '나는 데이터 분석을 좋아합니다.', '직업은 데이터 분석 전문가 입니다.', 'Text mining 기법은 2000대 초반에 개발된 기술이다.'] \n",
      "\n",
      "\n",
      " text file -> 단어 나누기\n",
      "['형태소', '분석', '나', '데이터', '직업', '전문가', '기법', '2000', '2000대', '대', '초반', '개발', '기술']\n"
     ]
    },
    {
     "data": {
      "text/plain": [
       "13"
      ]
     },
     "execution_count": 4,
     "metadata": {},
     "output_type": "execute_result"
    }
   ],
   "source": [
    "file = open('C:/IITT/4_Python-II/workplace/chap07_Textmining/data/text_data.txt', mode='r', encoding='utf-8')\n",
    "docs = file.read()\n",
    "print('text file 읽기')\n",
    "print(docs)\n",
    "len(docs) # 89\n",
    "\n",
    "# docs -> sentence\n",
    "ex_sent = kkma.sentences(docs)\n",
    "print('\\n text file -> 문장 나누기 ')\n",
    "print(ex_sent,'\\n')\n",
    "len(ex_sent) # 4\n",
    "\n",
    "# docs -> nouns\n",
    "ex_nouns = kkma.nouns(docs)\n",
    "print('\\n text file -> 단어 나누기')\n",
    "print(ex_nouns)\n",
    "len(ex_nouns) # 13"
   ]
  },
  {
   "cell_type": "markdown",
   "metadata": {},
   "source": [
    "# 2. 명사 추출 : kkma"
   ]
  },
  {
   "cell_type": "code",
   "execution_count": 6,
   "metadata": {},
   "outputs": [
    {
     "name": "stdout",
     "output_type": "stream",
     "text": [
      "['형태소', '분석', '데이터', '분석', '직업', '데이터', '분석', '전문가', '기법', '2000', '2000대', '대', '초반', '개발', '기술']\n"
     ]
    },
    {
     "data": {
      "text/plain": [
       "15"
      ]
     },
     "execution_count": 6,
     "metadata": {},
     "output_type": "execute_result"
    }
   ],
   "source": [
    "nouns_word = [] # 명사 저장\n",
    "\n",
    "for sent in ex_sent: # '형태소 분석을 시작합니다.'\n",
    "    for noun in kkma.nouns(sent): # 문장 -> 명사\n",
    "        nouns_word.append(noun)\n",
    "\n",
    "print(nouns_word)\n",
    "len(nouns_word) # 15"
   ]
  },
  {
   "cell_type": "markdown",
   "metadata": {},
   "source": [
    "# 3. 전처리 : 단어 수 세기\n",
    "- 단어 길이 제한 (1음절 이상), 숫자 제외"
   ]
  },
  {
   "cell_type": "code",
   "execution_count": 11,
   "metadata": {},
   "outputs": [
    {
     "name": "stdout",
     "output_type": "stream",
     "text": [
      "{'형태소': 1, '분석': 3, '데이터': 2, '직업': 1, '전문가': 1, '기법': 1, '초반': 1, '개발': 1, '기술': 1}\n",
      "\n",
      " top5 word !!!\n",
      "('분석', 3)\n",
      "('데이터', 2)\n",
      "('형태소', 1)\n",
      "('직업', 1)\n",
      "('전문가', 1)\n"
     ]
    }
   ],
   "source": [
    "from re import match\n",
    "\n",
    "nouns_count = {} # 단어 카운트\n",
    "for word in nouns_word:\n",
    "    if len(word) > 1 and not(match('^[0-9]',word)) :\n",
    "        nouns_count[word] = nouns_count.get(word,0) + 1\n",
    "\n",
    "print(nouns_count)\n",
    "len(nouns_count)\n",
    "\n",
    "\n",
    "# top5 word\n",
    "from collections import Counter # class\n",
    "\n",
    "counter = Counter(nouns_count)\n",
    "top5_word = counter.most_common(5)\n",
    "print('\\n top5 word !!!')\n",
    "for word in top5_word:\n",
    "    print(word)\n"
   ]
  },
  {
   "cell_type": "markdown",
   "metadata": {},
   "source": [
    "# 4. WordCloud"
   ]
  },
  {
   "cell_type": "code",
   "execution_count": 12,
   "metadata": {},
   "outputs": [
    {
     "data": {
      "text/plain": [
       "<matplotlib.image.AxesImage at 0x123294dcfc8>"
      ]
     },
     "execution_count": 12,
     "metadata": {},
     "output_type": "execute_result"
    },
    {
     "data": {
      "image/png": "[encoded data removed]",
      "text/plain": [
       "<Figure size 432x288 with 1 Axes>"
      ]
     },
     "metadata": {
      "needs_background": "light"
     },
     "output_type": "display_data"
    }
   ],
   "source": [
    "\n",
    "wc= WordCloud(font_path='C:/Windows/Fonts/malgun.ttf',\n",
    "              width=500, height=400,\n",
    "              max_words=100, max_font_size=150,\n",
    "              background_color='white')\n",
    "wc_result = wc.generate_from_frequencies(dict(top5_word)) # dict\n",
    "\n",
    "import matplotlib.pyplot as plt\n",
    "plt.imshow(wc_result)"
   ]
  }
 ],
 "metadata": {
  "kernelspec": {
   "display_name": "Python 3",
   "language": "python",
   "name": "python3"
  },
  "language_info": {
   "codemirror_mode": {
    "name": "ipython",
    "version": 3
   },
   "file_extension": ".py",
   "mimetype": "text/x-python",
   "name": "python",
   "nbconvert_exporter": "python",
   "pygments_lexer": "ipython3",
   "version": "3.7.6"
  }
 },
 "nbformat": 4,
 "nbformat_minor": 4
}
