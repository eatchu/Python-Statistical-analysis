{
 "cells": [
  {
   "cell_type": "markdown",
   "metadata": {},
   "source": [
    "\n",
    "1. pickle file 읽기 : news crawling data\n",
    "2. 명사 추출 : kkma\n",
    "3. 전처리 : 단어길이 제한, 숫자 제외\n",
    "4. Wordcloud\n"
   ]
  },
  {
   "cell_type": "code",
   "execution_count": 2,
   "metadata": {},
   "outputs": [],
   "source": [
    "# 패키지 설치\n",
    "from konlpy.tag import Kkma # class\n",
    "from wordcloud import WordCloud\n",
    "import pickle\n",
    "\n",
    "# object 생성\n",
    "kkma = Kkma()"
   ]
  },
  {
   "cell_type": "markdown",
   "metadata": {},
   "source": [
    "# 1. pickle file 읽기 : news_data.pck"
   ]
  },
  {
   "cell_type": "code",
   "execution_count": 5,
   "metadata": {
    "scrolled": false
   },
   "outputs": [
    {
     "name": "stdout",
     "output_type": "stream",
     "text": [
      "['의협 \"감염병 위기경보 상향 제안..환자 혐오 멈춰야\"', \"'신종코로나 진원' 중국 후베이성 춘제연휴 13일까지 재연장\", '높아진 국가청렴도..제도개혁이 관건', '\"독일 공군기, 중국 우한서 100여명 태우고 본국으로\"', '이견 여전한 방위비 협상..이달 타결될까', '의사협회 \"감염위기 \\'심각\\'으로 상향을..위험국가 입국 제한도\"', '6년 만의 시진핑 방한에도 영향..\"3~4월은 어렵다\"', '진천군, 우한 교민 임시생활 국가인재개발원 일대 방역 강화(종합)', \"무사증 제주입국 중국인, 귀국 후 신종코로나 확진..'방역비상'\", '31년 한우물 판 \\'젊은 노포\\' \"전통만큼 중요한 건 변화\" [\\'창간 31\\' - 세계일보와 \\'동갑내기\\' 가게들]']\n"
     ]
    },
    {
     "data": {
      "text/plain": [
       "list"
      ]
     },
     "execution_count": 5,
     "metadata": {},
     "output_type": "execute_result"
    }
   ],
   "source": [
    "file = open('C:/IITT/4_Python-II/workplace/chap07_Textmining/data/news_data.pck', mode='rb')\n",
    "news_data = pickle.load(file)\n",
    "file.close()\n",
    "print(news_data[:10])\n",
    "len(news_data) # 11600\n",
    "type(news_data) # list\n"
   ]
  },
  {
   "cell_type": "markdown",
   "metadata": {},
   "source": [
    "# 2. file -> sentence"
   ]
  },
  {
   "cell_type": "code",
   "execution_count": 7,
   "metadata": {},
   "outputs": [
    {
     "name": "stdout",
     "output_type": "stream",
     "text": [
      "['의협 \" 감염병 위기 경보 상향 제안.. 환자 혐오 멈춰야\"', \"' 신종 코로나 진원' 중국 후 베이성 춘 제 연휴 13일까지 재연장\", '높아 진 국가 청렴도.. 제도 개혁이 관건', '\" 독일 공군기, 중국 우 한서 100여명 태우고 본국으로\"', '이견 여전한 방위비 협상.. 이 달 타결될까', '의사협회 \" 감염위기 \\' 심각 \\'으로 상향을.. 위험국가 입국 제한도\"', '6년 만의 시진 핑 방한에도 영향.. \"3 ~4 월은 어렵다\"', '진천군, 우한 교민 임시생활 국가 인재 개발원 일대 방역 강화( 종합)', \"무사 증 제주 입국 중국인, 귀국 후 신종 코로나 확 진..' 방 역 비상'\", '31년 한 우물 판 \\' 젊은 노포\\' \" 전통만큼 중요한 건 변화\" [\\' 창간 31\\' - 세계 일보와 \\' 동갑 내기\\' 가게들]']\n"
     ]
    },
    {
     "data": {
      "text/plain": [
       "11600"
      ]
     },
     "execution_count": 7,
     "metadata": {},
     "output_type": "execute_result"
    }
   ],
   "source": [
    "# news_data -> sentence\n",
    "ex_sent = [kkma.sentences(sent)[0] for sent in news_data]\n",
    "print(ex_sent[:10])\n",
    "len(ex_sent) # 4\n",
    "\n"
   ]
  },
  {
   "cell_type": "markdown",
   "metadata": {},
   "source": [
    "# 3. 명사 추출 : kkma"
   ]
  },
  {
   "cell_type": "code",
   "execution_count": 8,
   "metadata": {
    "scrolled": true
   },
   "outputs": [
    {
     "name": "stdout",
     "output_type": "stream",
     "text": [
      "['의협', '감염병', '위기', '경보', '상향', '제안', '환자', '혐오', '신', '신종']\n"
     ]
    },
    {
     "data": {
      "text/plain": [
       "120736"
      ]
     },
     "execution_count": 8,
     "metadata": {},
     "output_type": "execute_result"
    }
   ],
   "source": [
    "nouns_word = [] # 명사 저장\n",
    "\n",
    "for sent in ex_sent: \n",
    "    for noun in kkma.nouns(sent): # 문장 -> 명사\n",
    "        nouns_word.append(noun)\n",
    "\n",
    "print(nouns_word[:10])\n",
    "len(nouns_word) # 120736\n"
   ]
  },
  {
   "cell_type": "markdown",
   "metadata": {},
   "source": [
    "# 4. 단어 카운트"
   ]
  },
  {
   "cell_type": "code",
   "execution_count": 13,
   "metadata": {},
   "outputs": [
    {
     "name": "stdout",
     "output_type": "stream",
     "text": [
      "[('코로나', 2544), ('종합', 2008), ('신종', 659), ('진자', 644), ('중국', 568), ('환자', 536), ('정부', 412), ('한국', 379), ('감염', 370), ('대구', 365), ('격리', 360), ('마스크', 329), ('신천지', 322), ('추가', 311), ('병원', 302), ('확산', 295), ('단독', 278), ('통합', 246), ('입국', 244), ('사망', 228), ('번째', 219), ('검사', 214), ('대통령', 206), ('발생', 203), ('서울', 202), ('지역', 198), ('조사', 196), ('우려', 190), ('일본', 188), ('국내', 184), ('크루즈', 180), ('트럼프', 177), ('방문', 164), ('교민', 161), ('금지', 159), ('공천', 158), ('대응', 158), ('미래', 156), ('미국', 151), ('제주', 149), ('중단', 148), ('경찰', 147), ('검토', 147), ('전국', 145), ('논란', 143), ('총선', 143), ('수사', 141), ('날씨', 138), ('사망자', 137), ('비상', 136)]\n"
     ]
    }
   ],
   "source": [
    "from re import match\n",
    "\n",
    "nouns_count = {} # 단어 카운트\n",
    "for word in nouns_word:\n",
    "    if len(word) > 1 and not(match('^[0-9]',word)) :\n",
    "        nouns_count[word] = nouns_count.get(word,0) + 1\n",
    "\n",
    "len(nouns_count) # 12186\n",
    "\n",
    "# top50 word\n",
    "from collections import Counter # class\n",
    "\n",
    "counter = Counter(nouns_count)\n",
    "top50_word = counter.most_common(50)\n",
    "print(top50_word)\n",
    "\n"
   ]
  },
  {
   "cell_type": "markdown",
   "metadata": {},
   "source": [
    "# 5. wordcloud"
   ]
  },
  {
   "cell_type": "code",
   "execution_count": 14,
   "metadata": {},
   "outputs": [
    {
     "data": {
      "text/plain": [
       "<matplotlib.image.AxesImage at 0x22f2782b208>"
      ]
     },
     "execution_count": 14,
     "metadata": {},
     "output_type": "execute_result"
    },
    {
     "data": {
      "image/png": "[encoded data removed]",
      "text/plain": [
       "<Figure size 432x288 with 1 Axes>"
      ]
     },
     "metadata": {
      "needs_background": "light"
     },
     "output_type": "display_data"
    }
   ],
   "source": [
    "wc= WordCloud(font_path='C:/Windows/Fonts/malgun.ttf',\n",
    "              width=500, height=400,\n",
    "              max_words=100, max_font_size=150,\n",
    "              background_color='white')\n",
    "wc_result = wc.generate_from_frequencies(dict(top50_word)) # dict\n",
    "\n",
    "import matplotlib.pyplot as plt\n",
    "plt.imshow(wc_result)\n"
   ]
  }
 ],
 "metadata": {
  "kernelspec": {
   "display_name": "Python 3",
   "language": "python",
   "name": "python3"
  },
  "language_info": {
   "codemirror_mode": {
    "name": "ipython",
    "version": 3
   },
   "file_extension": ".py",
   "mimetype": "text/x-python",
   "name": "python",
   "nbconvert_exporter": "python",
   "pygments_lexer": "ipython3",
   "version": "3.7.6"
  }
 },
 "nbformat": 4,
 "nbformat_minor": 4
}
