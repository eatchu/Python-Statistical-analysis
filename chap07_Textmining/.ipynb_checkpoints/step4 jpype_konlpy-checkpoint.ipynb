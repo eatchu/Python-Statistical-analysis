{
 "cells": [
  {
   "cell_type": "markdown",
   "metadata": {},
   "source": [
    "# # 형태소 분석을 위한 Library"
   ]
  },
  {
   "cell_type": "markdown",
   "metadata": {},
   "source": [
    "# 1. JAVA 가상머신 사용을 위한 패키지 설치와 테스트"
   ]
  },
  {
   "cell_type": "code",
   "execution_count": 1,
   "metadata": {},
   "outputs": [
    {
     "name": "stdout",
     "output_type": "stream",
     "text": [
      "C:\\Program Files\\Java\\jre1.8.0_151\\bin\\server\\jvm.dll\n"
     ]
    }
   ],
   "source": [
    "import jpype\n",
    "\n",
    "path = jpype.getDefaultJVMPath()\n",
    "print(path) # C:\\Program Files\\Java\\jre1.8.0_151\\bin\\server\\jvm.dll\n"
   ]
  },
  {
   "cell_type": "markdown",
   "metadata": {},
   "source": [
    "# 2. Konlpy 한글 형태소 분석을 제공"
   ]
  },
  {
   "cell_type": "code",
   "execution_count": 3,
   "metadata": {},
   "outputs": [],
   "source": [
    "# 패키지 설치\n",
    "import konlpy\n",
    "from konlpy.tag import Kkma # class"
   ]
  },
  {
   "cell_type": "markdown",
   "metadata": {},
   "source": [
    "형태소 : 언어에 있어서 분해 가능한 최소한의 의미를 가진 단위 \n",
    "- NNG 일반 명사 \n",
    "- NNP 고유 명사 \n",
    "- NNB 의존 명사 \n",
    "- NR 수사 \n",
    "- NP 대명사 \n",
    "- VV 동사 \n",
    "- VA 형용사 \n",
    "- VX 보조 용언 \n",
    "- VCP 긍정 지정사 \n",
    "- VCN 부정 지정사 \n",
    "- MM 관형사 \n",
    "- MAG 일반 부사 \n",
    "- MAJ 접속 부사 \n",
    "- IC 감탄사 \n",
    "- JKS 주격 조사 \n",
    "- JKC 보격 조사 \n",
    "- JKG 관형격 조사 \n",
    "- JKO 목적격 조사 \n",
    "- JKB 부사격 조사 \n",
    "- JKV 호격 조사 \n",
    "- JKQ 인용격 조사 \n",
    "- JC 접속 조사 \n",
    "- JX 보조사 \n",
    "- EP 선어말어미 \n",
    "- EF 종결 어미 \n",
    "- EC 연결 어미 \n",
    "- ETN 명사형 전성 어미 \n",
    "- ETM 관형형 전성 어미 \n",
    "- XPN 체언 접두사 \n",
    "- XSN 명사파생 접미사 \n",
    "- XSV 동사 파생 접미사 \n",
    "- XSA 형용사 파생 접미사 \n",
    "- XR 어근 \n",
    "- SF 마침표, 물음표, 느낌표 \n",
    "- SE 줄임표 \n",
    "- SS 따옴표,괄호표,줄표 \n",
    "- SP 쉼표,가운뎃점,콜론,빗금 \n",
    "- SO 붙임표(물결,숨김,빠짐) \n",
    "- SW 기타기호 (논리수학기호,화폐기호) \n",
    "- SH 한자 \n",
    "- SL 외국어 \n",
    "- SN 숫자 \n",
    "- NF 명사추정범주 \n",
    "- NV 용언추정범주 \n",
    "- NA 분석불능범"
   ]
  },
  {
   "cell_type": "code",
   "execution_count": 6,
   "metadata": {},
   "outputs": [
    {
     "name": "stdout",
     "output_type": "stream",
     "text": [
      "[('나', 'NP'), ('는', 'JX'), ('홍길동', 'NNG'), ('이', 'VCP'), ('ㅂ니다', 'EFN'), ('.', 'SF'), ('나이', 'NNG'), ('는', 'JX'), ('23', 'NR'), ('세', 'NNM'), ('이', 'VCP'), ('ㅂ니다', 'EFN'), ('.', 'SF'), ('대한민국', 'NNG'), ('만세', 'NNG'), ('이', 'VCP'), ('ㅂ니다', 'EFN'), ('.', 'SF')]\n",
      "************************************************** \n",
      "\n",
      "형태소 분석 결과 : 일반명사, 고유명사, 대명사\n",
      "['나', '홍길동', '나이', '대한민국', '만세']\n"
     ]
    }
   ],
   "source": [
    "\n",
    "kkma = Kkma() # 생성자 -> object 생성\n",
    "\n",
    "\n",
    "# 문단 -> 문장\n",
    "para = \"나는 홍길동 입니다. 나이는 23세 입니다. 대한민국 만세 입니다.\"\n",
    "ex_sent = kkma.sentences(para)\n",
    "ex_sent #  ['나는 홍길동 입니다.', '나이는 23세 입니다.', '대한민국 만세 입니다.']\n",
    "\n",
    "# 문장 -> 단어(명사)\n",
    "ex_nouns = kkma.nouns(para)\n",
    "ex_nouns # ['나', '홍길동', '나이', '23', '23세', '세', '대한', '대한민국', '민국', '만세']\n",
    "\n",
    "# 문단 -> 품사(형태소)\n",
    "ex_pos = kkma.pos(para)\n",
    "print(ex_pos) \n",
    "type(ex_pos) # list [(word, 품사),(word,품사)]\n",
    "\n",
    "\n",
    "\n",
    "\n",
    "# NNG 일반명사 NNP 고유명사 NP 대명사\n",
    "nouns = [] # 명사저장\n",
    "\n",
    "for word, wclass in ex_pos :\n",
    "    if wclass == 'NNG' or wclass =='NNP' or wclass =='NP':\n",
    "        nouns.append(word)\n",
    "    \n",
    "print('*'*50,'\\n')\n",
    "print('형태소 분석 결과 : 일반명사, 고유명사, 대명사')\n",
    "print(nouns) # ['나', '홍길동', '나이', '대한민국', '만세']\n",
    "\n"
   ]
  }
 ],
 "metadata": {
  "kernelspec": {
   "display_name": "Python 3",
   "language": "python",
   "name": "python3"
  },
  "language_info": {
   "codemirror_mode": {
    "name": "ipython",
    "version": 3
   },
   "file_extension": ".py",
   "mimetype": "text/x-python",
   "name": "python",
   "nbconvert_exporter": "python",
   "pygments_lexer": "ipython3",
   "version": "3.7.6"
  }
 },
 "nbformat": 4,
 "nbformat_minor": 4
}
