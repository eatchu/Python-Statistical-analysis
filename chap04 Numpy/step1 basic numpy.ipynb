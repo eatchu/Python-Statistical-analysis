{
 "cells": [
  {
   "cell_type": "markdown",
   "metadata": {},
   "source": [
    "# Numpy 패키지 특징\n",
    "\n",
    " - 선형대수(백터,행렬) 연산 관련 함수 제공\n",
    " - list 보다 이점 : N차원 배열 생성, 선형대수 연산, 고속 처리\n",
    " - Series 공통점\n",
    "   -> 수학/통계 함수 지원\n",
    "      ex) obj.수학/통계()\n",
    "   -> 범위수정, 블럭연산\n",
    "   -> indexing/slicing\n",
    " - 주요 모듈과 함수\n",
    "   1. random : 난수 생성 함수\n",
    "   2. array : N차원 배열 생성 (arrayt([[list]]))\n",
    "   3. sampling 함수\n",
    "   4. arrange : range() 유사형"
   ]
  },
  {
   "cell_type": "code",
   "execution_count": 1,
   "metadata": {},
   "outputs": [
    {
     "name": "stdout",
     "output_type": "stream",
     "text": [
      "1\n",
      "4\n",
      "9\n"
     ]
    },
    {
     "data": {
      "text/plain": [
       "(1, 3)"
      ]
     },
     "execution_count": 1,
     "metadata": {},
     "output_type": "execute_result"
    }
   ],
   "source": [
    "import numpy as np\n",
    "\n",
    "# list 자료 구조\n",
    "lst = [1,2,3]\n",
    "lst #  [1, 2, 3]\n",
    "# lst**2 : type error\n",
    "\n",
    "for i in lst:\n",
    "    print(i**2)\n",
    "    \n",
    "    \n",
    "# list -> numpy\n",
    "arr = np.array(lst)\n",
    "arr # [1 2 3]\n",
    "arr**2 # array([1, 4, 9], dtype=int32)\n",
    "\n",
    "\n",
    "# 동일 type\n",
    "# [] : 1차원  [[]] : 2차원\n",
    "arr = np.array([[1,'two',3]])\n",
    "arr # array([['1', 'two', '3']], dtype='<U11')\n",
    "arr.shape # (1,3)\n",
    "\n"
   ]
  },
  {
   "cell_type": "markdown",
   "metadata": {},
   "source": [
    "# 1. random : 난수 생성 함수"
   ]
  },
  {
   "cell_type": "code",
   "execution_count": 2,
   "metadata": {},
   "outputs": [
    {
     "name": "stdout",
     "output_type": "stream",
     "text": [
      "행 단위 합계 : 0.7906316586795108\n",
      "행 단위 평균 : 0.1976579146698777\n",
      "행 단위 합계 : 0.06430108011034052\n",
      "행 단위 평균 : 0.01607527002758513\n",
      "행 단위 합계 : -0.8057706847810725\n",
      "행 단위 평균 : -0.20144267119526812\n",
      "전체 합계 :  0.04916205400877882\n",
      "전체 평균 :  0.004096837834064902\n",
      "전체 분산 :  0.49357293754314413\n",
      "전체 표준편차 :  0.7025474628401587\n"
     ]
    },
    {
     "data": {
      "text/plain": [
       "array([ 0.86925784,  0.76375606, -0.99504746])"
      ]
     },
     "execution_count": 2,
     "metadata": {},
     "output_type": "execute_result"
    }
   ],
   "source": [
    "\n",
    "# 1. random : 난수 생성 함수\n",
    "data = np.random.randn(3,4) # module.module.func(행,열)\n",
    "data # 12개의 난수를 2차원의 형태로 생성\n",
    "'''\n",
    "array([[-0.17325173,  0.71266666, -0.46621441,  0.10595129],\n",
    "       [-1.52417232, -0.18707051,  0.52128906, -1.0693616 ],\n",
    "       [ 0.5320931 , -0.34287133, -1.04108414, -0.35820974]])\n",
    "'''\n",
    "\n",
    "for row in data:\n",
    "    print('행 단위 합계 :', row.sum())\n",
    "    print('행 단위 평균 :', row.mean())\n",
    "\n",
    "\n",
    "# 1) 수학/통계 함수 지원\n",
    "type(data) # numpy.ndarray\n",
    "print('전체 합계 : ', data.sum())\n",
    "print('전체 평균 : ', data.mean())\n",
    "print('전체 분산 : ', data.var())\n",
    "print('전체 표준편차 : ', data.std())\n",
    "\n",
    "len(dir(data)) # 162\n",
    "\n",
    "\n",
    "# 2) 범위 수정, 블럭 연산\n",
    "data + data \n",
    "'''\n",
    "array([[-0.34650346,  1.42533331, -0.93242881,  0.21190259],\n",
    "       [-3.04834464, -0.37414102,  1.04257811, -2.1387232 ],\n",
    "       [ 1.06418619, -0.68574265, -2.08216827, -0.71641947]])\n",
    "'''\n",
    "data - data\n",
    "'''\n",
    "array([[0., 0., 0., 0.],\n",
    "       [0., 0., 0., 0.],\n",
    "       [0., 0., 0., 0.]])\n",
    "'''\n",
    "\n",
    "# 3) indexing\n",
    "data[0,0] # 1행1열\n",
    "data[0,:] # 1행 전체\n",
    "data[:,1] # 2열 전체\n",
    "\n",
    "\n"
   ]
  },
  {
   "cell_type": "markdown",
   "metadata": {},
   "source": [
    "# 2. array 함수 : N차원 배열 생성"
   ]
  },
  {
   "cell_type": "code",
   "execution_count": 3,
   "metadata": {
    "scrolled": true
   },
   "outputs": [
    {
     "name": "stdout",
     "output_type": "stream",
     "text": [
      "(5,) (2, 5)\n",
      "[[ 4.   7.6  7.  11.  13. ]\n",
      " [ 5.   8.6  8.  12.  14. ]]\n"
     ]
    }
   ],
   "source": [
    "\n",
    "# 1) 단일 list\n",
    "lst1 = [3,5.6,4,7,8]\n",
    "\n",
    "arr1 = np.array(lst1)\n",
    "arr1 # array([3.,5.6,4.,7.,8.])\n",
    "\n",
    "arr1.var()\n",
    "arr1.std()\n",
    "\n",
    "# 2) 중첩 list\n",
    "lst2 = [[1,2,3,4,5],[2,3,4,5,6]]\n",
    "\n",
    "arr2 = np.array(lst2)\n",
    "arr2\n",
    "# array([[1, 2, 3, 4, 5],\n",
    "#       [2, 3, 4, 5, 6]])\n",
    "\n",
    "arr2.shape # (2,5)\n",
    "\n",
    "# index : obj[index,column]\n",
    "arr2[1,:]\n",
    "arr2[:, 1]\n",
    "arr2[:, 2:4]\n",
    "\n",
    "\n",
    "# 3) broadcast 연산\n",
    "# - 작은 차원이 큰 차원으로 늘어난 후 연산\n",
    "\n",
    "# (1) scala(0) vs vector(1)\n",
    "arr1 # array([3. , 5.6, 4. , 7. , 8. ])\n",
    "0.5 * arr1 # array([1.5, 2.8, 2. , 3.5, 4. ])\n",
    "\n",
    "# (2) scala(0) vs matrix(2)\n",
    "arr2 \n",
    "0.5 * arr2\n",
    "# array([[0.5, 1. , 1.5, 2. , 2.5],\n",
    "#        [1. , 1.5, 2. , 2.5, 3. ]])\n",
    "\n",
    "\n",
    "# (3) vector(1) vs matrix(2)\n",
    "print(arr1.shape, arr2.shape)\n",
    "\n",
    "arr3 = arr1 + arr2\n",
    "print(arr3)\n",
    "\n",
    "\n",
    "\n"
   ]
  },
  {
   "cell_type": "markdown",
   "metadata": {},
   "source": [
    "# 3. sampling 함수"
   ]
  },
  {
   "cell_type": "code",
   "execution_count": 7,
   "metadata": {},
   "outputs": [
    {
     "name": "stdout",
     "output_type": "stream",
     "text": [
      "<class 'pandas.core.frame.DataFrame'>\n",
      "RangeIndex: 150 entries, 0 to 149\n",
      "Data columns (total 6 columns):\n",
      " #   Column   Non-Null Count  Dtype\n",
      "---  ------   --------------  -----\n",
      " 0   sid      150 non-null    int64\n",
      " 1   score    150 non-null    int64\n",
      " 2   iq       150 non-null    int64\n",
      " 3   academy  150 non-null    int64\n",
      " 4   game     150 non-null    int64\n",
      " 5   tv       150 non-null    int64\n",
      "dtypes: int64(6)\n",
      "memory usage: 7.2 KB\n"
     ]
    },
    {
     "data": {
      "text/plain": [
       "(45, 6)"
      ]
     },
     "execution_count": 7,
     "metadata": {},
     "output_type": "execute_result"
    }
   ],
   "source": [
    "num = list(range(1,11))\n",
    "num # 1~10\n",
    "#help(np.random.choice)\n",
    "# a, size=None, replace=True, p=None\n",
    "\n",
    "'''\n",
    "a : 관측치 길이\n",
    "size : 임의 추출 크기\n",
    "replace : 복원(T) or 비복원(F)\n",
    "p : 확률\n",
    "'''\n",
    "idx = np.random.choice(a=len(num), size=5, replace=False) # 비복원으로 5개의 값을 추출\n",
    "idx # array([1, 4, 9, 8, 0])\n",
    "\n",
    "import pandas as pd\n",
    "score = pd.read_csv('C:/IITT/4_Python-II/workplace/data/score_iq.csv')\n",
    "score.info() # 150 x 6\n",
    "\n",
    "idx = np.random.choice(a=len(score), size=int(len(score)*0.3), replace=False)\n",
    "idx # 0~149의 숫자에서 랜덤 비복원으로 45개 숫자 출력\n",
    "len(idx) # 45\n",
    "\n",
    "# DataFrame index\n",
    "score_train = score.iloc[idx,:]\n",
    "score_train.shape # (45,6)\n",
    "'''\n",
    "score_train = score.sample(45)\n",
    "score_train.shape # (45,6)\n",
    "'''\n",
    "\n",
    "# pandas(DF) -> numpy(array)\n",
    "# - 행/열 구조의 array로 변경 : 칼럼명,인덱스 x\n",
    "score_arr = np.array(score)\n",
    "score_arr.shape # (150, 6)\n",
    "score_train2 = score_arr[idx,:]\n",
    "score_train2.shape # (45, 6)\n",
    "\n"
   ]
  },
  {
   "cell_type": "markdown",
   "metadata": {},
   "source": [
    "# 4. arange 함수"
   ]
  },
  {
   "cell_type": "code",
   "execution_count": 8,
   "metadata": {},
   "outputs": [
    {
     "data": {
      "text/plain": [
       "array([-1.00000000e+00, -9.00000000e-01, -8.00000000e-01, -7.00000000e-01,\n",
       "       -6.00000000e-01, -5.00000000e-01, -4.00000000e-01, -3.00000000e-01,\n",
       "       -2.00000000e-01, -1.00000000e-01, -2.22044605e-16,  1.00000000e-01,\n",
       "        2.00000000e-01,  3.00000000e-01,  4.00000000e-01,  5.00000000e-01,\n",
       "        6.00000000e-01,  7.00000000e-01,  8.00000000e-01,  9.00000000e-01,\n",
       "        1.00000000e+00,  1.10000000e+00,  1.20000000e+00,  1.30000000e+00,\n",
       "        1.40000000e+00,  1.50000000e+00,  1.60000000e+00,  1.70000000e+00,\n",
       "        1.80000000e+00,  1.90000000e+00])"
      ]
     },
     "execution_count": 8,
     "metadata": {},
     "output_type": "execute_result"
    }
   ],
   "source": [
    "zero_arr = np.zeros((3,5)) # 영 행렬\n",
    "zero_arr # 3행 5열의 15개의 0값을 가짐\n",
    "\n",
    "\n",
    "cnt = 1\n",
    "for i in range(3):\n",
    "    for j in range(5):\n",
    "        zero_arr[i,j] = cnt\n",
    "        cnt += 1\n",
    "zero_arr\n",
    "'''\n",
    "array([[ 1.,  2.,  3.,  4.,  5.],\n",
    "       [ 6.,  7.,  8.,  9., 10.],\n",
    "       [11., 12., 13., 14., 15.]])\n",
    "'''\n",
    "\n",
    "# range(-1,2,0.1) 과 같음 음수 불가능\n",
    "np.arange(-1,2,0.1) # 가능\n"
   ]
  }
 ],
 "metadata": {
  "kernelspec": {
   "display_name": "Python 3",
   "language": "python",
   "name": "python3"
  },
  "language_info": {
   "codemirror_mode": {
    "name": "ipython",
    "version": 3
   },
   "file_extension": ".py",
   "mimetype": "text/x-python",
   "name": "python",
   "nbconvert_exporter": "python",
   "pygments_lexer": "ipython3",
   "version": "3.7.6"
  }
 },
 "nbformat": 4,
 "nbformat_minor": 4
}
