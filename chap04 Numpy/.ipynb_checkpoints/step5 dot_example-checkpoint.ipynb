{
 "cells": [
  {
   "cell_type": "code",
   "execution_count": 1,
   "metadata": {},
   "outputs": [
    {
     "data": {
      "text/plain": [
       "(28, 32)"
      ]
     },
     "execution_count": 1,
     "metadata": {},
     "output_type": "execute_result"
    }
   ],
   "source": [
    "\"\"\"\n",
    "신경망에서 행렬곱 적용 예\n",
    " - 은닉층(h) = [입력(x) * 가중치(w)] + 편형(b)\n",
    "\"\"\"\n",
    "\n",
    "import numpy as np\n",
    "\n",
    "\n",
    "# 1. ANN model\n",
    "# input : image(28x28), hidden node : 32개 -> weight[?,?] \n",
    "\n",
    "\n",
    "# 2. input data : image data\n",
    "x_img = np.random.randint(0,256,size=784) # 28x28=784\n",
    "x_img.shape # (784,)\n",
    "x_img.max() # 255\n",
    "\n",
    "# 정규화 0~1 : obj/obj.max()\n",
    "x_img = x_img/255\n",
    "x_img.max() # 1\n",
    "\n",
    "# 1차원 -> 2차원 reshape\n",
    "x_img2d = x_img.reshape(28,28)\n",
    "x_img2d.shape # (28,28)\n",
    "\n",
    "\n",
    "\n",
    "# 3. weight data\n",
    "weight = np.random.randn(28,32)\n",
    "weight\n",
    "\n",
    "# 4. hidden Layer\n",
    "hidden = np.dot(x_img2d, weight)\n",
    "hidden.shape # (28,32)\n"
   ]
  }
 ],
 "metadata": {
  "kernelspec": {
   "display_name": "Python 3",
   "language": "python",
   "name": "python3"
  },
  "language_info": {
   "codemirror_mode": {
    "name": "ipython",
    "version": 3
   },
   "file_extension": ".py",
   "mimetype": "text/x-python",
   "name": "python",
   "nbconvert_exporter": "python",
   "pygments_lexer": "ipython3",
   "version": "3.7.6"
  }
 },
 "nbformat": 4,
 "nbformat_minor": 4
}
