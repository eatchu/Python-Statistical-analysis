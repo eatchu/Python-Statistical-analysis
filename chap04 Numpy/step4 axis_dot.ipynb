{
 "cells": [
  {
   "cell_type": "markdown",
   "metadata": {},
   "source": [
    "1. 축(axis) : 행축, 열축\n",
    "2. 행렬곱 연산 : np.dot()\n",
    "   회귀방정식 = [X * a] + b\n",
    "   X1, X2 -> a1, a2\n",
    "   model = [X1 * a1 + X2 * a2] + b\n",
    "   model = np.dot(X,a) + b\n",
    "   \n",
    "   - 신경망에서 행렬곱 예\n",
    "     [X * w] + b"
   ]
  },
  {
   "cell_type": "code",
   "execution_count": 2,
   "metadata": {},
   "outputs": [
    {
     "name": "stdout",
     "output_type": "stream",
     "text": [
      "전체 원소 합계 : -2.27861988753581\n",
      "행 단위 합계 : [ 1.95638536  0.84386023  0.38503093 -2.82276384 -2.64113257]\n",
      "열 단위 합계 : [ 3.57851022 -0.84961791 -1.19524652 -3.81226568]\n"
     ]
    },
    {
     "data": {
      "text/plain": [
       "'\\narray([[0.5, 0.8, 1.1],\\n       [1.1, 1.8, 2.5]])\\n'"
      ]
     },
     "execution_count": 2,
     "metadata": {},
     "output_type": "execute_result"
    }
   ],
   "source": [
    "import numpy as np\n",
    "\n",
    "\n",
    "# 1. 축(axis) : 행축, 열축\n",
    "'''\n",
    "행 축 : 동일한 열의 모음(axis=0) -> 열 단위\n",
    "열 축 : 동일한 행의 모음(axis=1) -> 행 단위\n",
    "'''\n",
    "\n",
    "arr2d = np.random.randn(5,4)\n",
    "arr2d\n",
    "\n",
    "print('전체 원소 합계 :', arr2d.sum( ))\n",
    "print('행 단위 합계 :', arr2d.sum(axis=1))\n",
    "print('열 단위 합계 :', arr2d.sum(axis=0))\n",
    "      \n",
    "\n",
    "# 2. 행렬곱 연산 : np.dot()\n",
    "X = np.array([[2,3],[2.5,3]])\n",
    "X \n",
    "# array([[2. , 3. ],\n",
    "#       [2.5, 3. ]])\n",
    "\n",
    "\n",
    "\n",
    "a = np.array([[0.1],[0.05]]) # (2,1) : 기울기\n",
    "a\n",
    "\n",
    "b = 0.1 # 절편\n",
    "y_pred = np.dot(X, a) \n",
    "'''\n",
    "np.dot(X,a) 전제조건\n",
    "1. X,a : 행렬구조\n",
    "2. 수 일치 : X의 열 차수 = a의 행 차수\n",
    "'''\n",
    "y_pred # ([[0.35],[0.4]])\n",
    "'''\n",
    "X[0,0]*a[0] + X[0,1]*a[1] = 0.35\n",
    "X[1,0]*a[0] + X[1,1]*a[1] = 0.4\n",
    "'''\n",
    "\n",
    "y_pred = np.dot(X, a) + b\n",
    "\n",
    "\n",
    "# [실습] p.60\n",
    "X = np.array([[0.1,0.2],[0.3,0.4]])\n",
    "X.shape # (2,2)\n",
    "X\n",
    "'''\n",
    "array([[0.1, 0.2],\n",
    "       [0.3, 0.4]])\n",
    "'''\n",
    "w=np.array([[1,2,3],[2,3,4]])\n",
    "w.shape # (2,3) \n",
    "w\n",
    "'''\n",
    "array([[1, 2, 3],\n",
    "       [2, 3, 4]])\n",
    "'''\n",
    "\n",
    "# X (2,2) w (2,3) -> X(1,2) = w(1,1) 수가 만족하면 행렬곱이 가능한 전제조건\n",
    "# X (2,2) w (2,3) -> X(1,1) x w(1,2) 행렬기 만들어짐\n",
    "\n",
    "# 행렬곱\n",
    "h = np.dot(X,w) # or X.dot(w)\n",
    "h.shape # (2,3)\n",
    "h\n",
    "'''\n",
    "array([[0.5, 0.8, 1.1],\n",
    "       [1.1, 1.8, 2.5]])\n",
    "'''\n"
   ]
  }
 ],
 "metadata": {
  "kernelspec": {
   "display_name": "Python 3",
   "language": "python",
   "name": "python3"
  },
  "language_info": {
   "codemirror_mode": {
    "name": "ipython",
    "version": 3
   },
   "file_extension": ".py",
   "mimetype": "text/x-python",
   "name": "python",
   "nbconvert_exporter": "python",
   "pygments_lexer": "ipython3",
   "version": "3.7.6"
  }
 },
 "nbformat": 4,
 "nbformat_minor": 4
}
