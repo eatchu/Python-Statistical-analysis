{
 "cells": [
  {
   "cell_type": "markdown",
   "metadata": {},
   "source": [
    "# 카이제곱검정 (chisquare test)\n",
    "- 일원 카이제곱, 이원 카이제곱"
   ]
  },
  {
   "cell_type": "code",
   "execution_count": 1,
   "metadata": {},
   "outputs": [],
   "source": [
    "# 패키지 설치\n",
    "from scipy import stats\n",
    "import numpy as np"
   ]
  },
  {
   "cell_type": "markdown",
   "metadata": {},
   "source": [
    "# 1. 일원 카이제곱 검정\n",
    "- 귀무가설 : 관측치와 기대치는 차이가 없다.\n",
    "- 대립가설 : 관측치와 기대치는 차이가 있다."
   ]
  },
  {
   "cell_type": "code",
   "execution_count": 3,
   "metadata": {},
   "outputs": [
    {
     "name": "stdout",
     "output_type": "stream",
     "text": [
      "statistic = 14.200, pvalue= 0.014\n",
      "카이제곱 :  14.200000000000001\n"
     ]
    }
   ],
   "source": [
    "real_data = [4, 6, 17, 16, 8, 9] # 관측치 \n",
    "exp_data = [10,10,10,10,10,10] # 기대치 \n",
    "chis = stats.chisquare(real_data, exp_data) \n",
    "print('statistic = %.3f, pvalue= %.3f'%(chis)) # statistic = 14.200, pvalue = 0.014\n",
    "\n",
    "# list -> numpy\n",
    "real_arr = np.array(real_data) # 관측치\n",
    "exp_arr = np.array(exp_data) # 기대치\n",
    "\n",
    "# χ2 = Σ (관측값 - 기댓값)2 / 기댓값\n",
    "chis2 = sum((real_arr - exp_arr)**2 / exp_arr)\n",
    "print('카이제곱 : ',chis2)"
   ]
  },
  {
   "cell_type": "markdown",
   "metadata": {},
   "source": [
    "# 2. 이원 카이제곱 검정"
   ]
  },
  {
   "cell_type": "code",
   "execution_count": 11,
   "metadata": {},
   "outputs": [
    {
     "name": "stdout",
     "output_type": "stream",
     "text": [
      "<class 'pandas.core.frame.DataFrame'>\n",
      "RangeIndex: 355 entries, 0 to 354\n",
      "Data columns (total 2 columns):\n",
      " #   Column     Non-Null Count  Dtype\n",
      "---  ------     --------------  -----\n",
      " 0   education  355 non-null    int64\n",
      " 1   smoking    355 non-null    int64\n",
      "dtypes: int64(2)\n",
      "memory usage: 5.7 KB\n",
      "**************************************************\n",
      "education vs smoking cross tab \n",
      "smoking     1   2   3\n",
      "education            \n",
      "1          51  92  68\n",
      "2          22  21   9\n",
      "3          43  28  21\n"
     ]
    },
    {
     "data": {
      "text/plain": [
       "Power_divergenceResult(statistic=347.66666666666663, pvalue=0.5848667941187113)"
      ]
     },
     "execution_count": 11,
     "metadata": {},
     "output_type": "execute_result"
    }
   ],
   "source": [
    "\n",
    "import pandas as pd\n",
    "smoke = pd.read_csv('C:/IITT/4_Python-II/workplace/data/smoke.csv')\n",
    "smoke.info() # 355x2\n",
    "\n",
    "# DF -> vector\n",
    "education = smoke.education\n",
    "smoking = smoke.smoking\n",
    "\n",
    "# cross table\n",
    "table = pd.crosstab(education, smoking)\n",
    "print('*'*50)\n",
    "print('education vs smoking cross tab \\n',table, sep='')\n",
    "\n",
    "\n",
    "chis = stats.chisquare(education, smoking)\n",
    "chis\n",
    "# statistic=347.66666666666663, pvalue=0.5848667941187113\n",
    "# pvalue=0.5848667941187113 >= 0.05 : 귀무가설 채택\n",
    "# [해석] 교육수준과 흡연유무에는 관계가 없다\n",
    "\n"
   ]
  },
  {
   "cell_type": "code",
   "execution_count": 13,
   "metadata": {},
   "outputs": [
    {
     "name": "stdout",
     "output_type": "stream",
     "text": [
      "<class 'pandas.core.frame.DataFrame'>\n",
      "RangeIndex: 244 entries, 0 to 243\n",
      "Data columns (total 7 columns):\n",
      " #   Column      Non-Null Count  Dtype  \n",
      "---  ------      --------------  -----  \n",
      " 0   total_bill  244 non-null    float64\n",
      " 1   tip         244 non-null    float64\n",
      " 2   sex         244 non-null    object \n",
      " 3   smoker      244 non-null    object \n",
      " 4   day         244 non-null    object \n",
      " 5   time        244 non-null    object \n",
      " 6   size        244 non-null    int64  \n",
      "dtypes: float64(2), int64(1), object(4)\n",
      "memory usage: 13.5+ KB\n"
     ]
    },
    {
     "data": {
      "text/plain": [
       "Power_divergenceResult(statistic=84.0, pvalue=1.0)"
      ]
     },
     "execution_count": 13,
     "metadata": {},
     "output_type": "execute_result"
    }
   ],
   "source": [
    "'''\n",
    "성별 vs 흡연유무 독립성 검정\n",
    "'''\n",
    "tips = pd.read_csv('C:/IITT/4_Python-II/workplace/data/tips.csv')\n",
    "tips.info()\n",
    "table = pd.crosstab(tips.sex, tips.smoker)\n",
    "table\n",
    "'''\n",
    "smoker  No  Yes\n",
    "sex            \n",
    "Female  54   33\n",
    "Male    97   60\n",
    "'''\n",
    "gender = tips.sex\n",
    "smoker = tips.smoker\n",
    "\n",
    "# 범주형 칼럼으로 변경\n",
    "gender_dummy = [1 if g =='Male' else 2 for g in gender]\n",
    "smoker_dummy = [1 if s =='No' else 2 for s in smoker]\n",
    "\n",
    "\n",
    "chis = stats.chisquare(gender_dummy, smoker_dummy)\n",
    "chis # statistic=84.0, pvalue=1.0\n"
   ]
  }
 ],
 "metadata": {
  "kernelspec": {
   "display_name": "Python 3",
   "language": "python",
   "name": "python3"
  },
  "language_info": {
   "codemirror_mode": {
    "name": "ipython",
    "version": 3
   },
   "file_extension": ".py",
   "mimetype": "text/x-python",
   "name": "python",
   "nbconvert_exporter": "python",
   "pygments_lexer": "ipython3",
   "version": "3.7.6"
  }
 },
 "nbformat": 4,
 "nbformat_minor": 4
}
