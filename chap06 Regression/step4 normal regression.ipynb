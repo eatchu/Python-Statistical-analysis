{
 "cells": [
  {
   "cell_type": "markdown",
   "metadata": {},
   "source": [
    "# data scailing (정규화, 표준화) : 이물질 제거\n",
    " - 용도 : 특정 변수의 값에 따라서 model에 영향을 미치는 경우\n",
    "   ex) 범죄율(-0.1~0.99), 주택가격(99~999)\n",
    " - 정규화 X : 변수의 값을 일정한 범위로 조정(0~1, -1~1)\n",
    " - 표준화 Y : 평균(0)과 표준편차(1)를 이용\n",
    "           z = (x - mu) / sd"
   ]
  },
  {
   "cell_type": "code",
   "execution_count": 1,
   "metadata": {},
   "outputs": [],
   "source": [
    "# 패키지설치\n",
    "from sklearn.datasets import load_boston # 실습용 dataset\n",
    "from sklearn.linear_model import LinearRegression # model 생성 \n",
    "from sklearn.model_selection import train_test_split # data split\n",
    "from sklearn.metrics import mean_squared_error, r2_score # 평가 도구\n",
    "import numpy as np # min/max\n"
   ]
  },
  {
   "cell_type": "code",
   "execution_count": 2,
   "metadata": {},
   "outputs": [
    {
     "data": {
      "text/plain": [
       "0.6862448857295773"
      ]
     },
     "execution_count": 2,
     "metadata": {},
     "output_type": "execute_result"
    }
   ],
   "source": [
    "\n",
    "# 1. dataset load\n",
    "X,y = load_boston(return_X_y=True)\n",
    "X.shape # (506,13)\n",
    "y.shape # (506,)\n",
    "\n",
    "\n",
    "# 2. data scailing\n",
    "'''\n",
    "X : 정규화 (0~1)\n",
    "y : 표준화 (mu=0, sd=1)\n",
    "'''\n",
    "X.max() # 711.0 \n",
    "X.mean() # 70.074\n",
    "y.max() # 50.0\n",
    "y.mean() # 22.533\n",
    "\n",
    "\n",
    "# 정규화 / 표준화 함수\n",
    "def normal_zscore(X,y):\n",
    "    nor = (X-np.min(X)) / (np.max(X)-np.min(X)) # 정규화\n",
    "    mu = y.mean()\n",
    "    z = (y - mu) / y.std() # 표준화\n",
    "    return nor, z\n",
    "\n",
    "# 정규화 / 표준화\n",
    "x_nor, y_nor = normal_zscore(X,y)\n",
    "\n",
    "# x 변수 정규화\n",
    "x_nor.max() # 1.0\n",
    "x_nor.min() # 0.0\n",
    "\n",
    "# y 변수 표준화\n",
    "y_nor.mean() # -5.1956e-16 -> 0 수렴\n",
    "y_nor.std() # 0.9999 -> 1 수렴\n",
    "\n",
    "\n",
    "\n",
    "# 3. data split (75:25) -> test_size(default=0.25)\n",
    "x_train,x_test,y_train,y_test = train_test_split(x_nor,y_nor,random_state=123)\n",
    "x_train.shape # (379, 13) 75%\n",
    "x_test.shape # (127, 13) 25%\n",
    "\n",
    "# 비정규화 데이터 split\n",
    "x_train2, x_test2, y_train2, y_test2 = train_test_split(X,y,random_state=123)\n",
    "\n",
    "\n",
    "# 4. model 생성\n",
    "def model_rg(x_train,y_train,x_test):\n",
    "    obj = LinearRegression()\n",
    "    model = obj.fit(x_train,y_train)\n",
    "    y_pred = model.predict(x_test)\n",
    "    return y_pred\n",
    "y_pred = model_rg(x_train,y_train,x_test)\n",
    "\n",
    "# 비정규화 model 생성\n",
    "y_pred2 = model_rg(x_train2,y_train2,x_test2)\n",
    "\n",
    "\n",
    "# 5. model 평가\n",
    "mse = mean_squared_error(y_test,y_pred)\n",
    "r2 = r2_score(y_test,y_pred)\n",
    "mse # 0.2933980240643525 : 오차수치 30%\n",
    "r2 # 0.6862448857295749 : 정확률수치 68% \n",
    "\n",
    "# 비정규화 model 평가\n",
    "mse = mean_squared_error(y_test2, y_pred2)\n",
    "r2 = r2_score(y_test2,y_pred2)\n",
    "mse # 24.768530968608427 -> 의미없는 값\n",
    "r2 # 0.6862448857295773 : 정확률수치 68%\n",
    "\n",
    "\n"
   ]
  }
 ],
 "metadata": {
  "kernelspec": {
   "display_name": "Python 3",
   "language": "python",
   "name": "python3"
  },
  "language_info": {
   "codemirror_mode": {
    "name": "ipython",
    "version": 3
   },
   "file_extension": ".py",
   "mimetype": "text/x-python",
   "name": "python",
   "nbconvert_exporter": "python",
   "pygments_lexer": "ipython3",
   "version": "3.7.6"
  }
 },
 "nbformat": 4,
 "nbformat_minor": 4
}
