{
 "cells": [
  {
   "cell_type": "markdown",
   "metadata": {},
   "source": [
    "# 회귀방정식에서 기울기(slope)와 절편(intercept)식 \n",
    " - 기울기(slope) = Cov(x,y) / Sxx(x의 편차 제곱)\n",
    " - 절편(intercept) = y_mu - (slope * x_mu)"
   ]
  },
  {
   "cell_type": "code",
   "execution_count": 2,
   "metadata": {},
   "outputs": [
    {
     "name": "stdout",
     "output_type": "stream",
     "text": [
      "<class 'pandas.core.frame.DataFrame'>\n",
      "RangeIndex: 928 entries, 0 to 927\n",
      "Data columns (total 2 columns):\n",
      " #   Column  Non-Null Count  Dtype  \n",
      "---  ------  --------------  -----  \n",
      " 0   child   928 non-null    float64\n",
      " 1   parent  928 non-null    float64\n",
      "dtypes: float64(2)\n",
      "memory usage: 14.6 KB\n"
     ]
    },
    {
     "data": {
      "text/plain": [
       "68.08846982758423"
      ]
     },
     "execution_count": 2,
     "metadata": {},
     "output_type": "execute_result"
    }
   ],
   "source": [
    "\n",
    "from scipy import stats # 회귀모델\n",
    "import pandas as pd # csv file read\n",
    "import numpy as np\n",
    "\n",
    "galton = pd.read_csv('C:/IITT/4_Python-II/workplace/data/galton.csv')\n",
    "galton.info() # 928 x 2\n",
    "\n",
    "\n",
    "# x,y 변수 선택\n",
    "x = galton['parent'] ; y = galton['child']\n",
    "model = stats.linregress(x,y)\n",
    "model\n",
    "'''\n",
    "slope=0.6462905819936423 \n",
    "intercept=23.941530180412748 \n",
    "rvalue=0.4587623682928238\n",
    "pvalue=1.7325092920142867e-49 \n",
    "stderr=0.04113588223793335\n",
    "'''\n",
    "\n",
    "# Y = x * a + b\n",
    "y_pred = x * model.slope + model.intercept\n",
    "y_true = y\n",
    "\n",
    "# 예측치 vs 관측치(정답)\n",
    "y_pred.mean()\n",
    "y_true.mean()\n",
    "\n",
    "\n",
    "\n",
    "# 1. 기울기 계산식\n",
    "# slope=0.6462905819936423 \n",
    "# 기울기(slope) = Cov(x,y) / Sxx(x의 편차 제곱)\n",
    "Cov_xy = sum((x-x.mean())*(y-y.mean()))/len(x)\n",
    "Cov_xy # 2.062389686756837\n",
    "\n",
    "Sxx = np.mean((x-x.mean())**2)\n",
    "Sxx # 3.1911182743757336\n",
    "\n",
    "slope = Cov_xy / Sxx\n",
    "slope # 0.6462905819936413\n",
    "\n",
    "\n",
    "# 2. 절편 계산식\n",
    "# intercept=23.941530180412748 \n",
    "# 절편(intercept) = y_mu - (slope * x_mu)\n",
    "intercept = y.mean() - (slope * x.mean())\n",
    "intercept # 23.94153018041171\n",
    "\n",
    "\n",
    "# 3. 설명력 (상관계수)\n",
    "# rvalue=0.4587623682928238\n",
    "# [해석] 설명력이 낮은걸로 보아 부모 자식 키의 상관관계가 크진 않다고 볼 수 있음\n",
    "galton.corr()\n",
    "'''\n",
    "           child    parent\n",
    "child   1.000000  0.458762\n",
    "parent  0.458762  1.000000\n",
    "'''\n",
    "\n",
    "\n",
    "# 수식을 근거로 예측치 구하기\n",
    "y_pred = x * slope + intercept\n",
    "y_pred.mean() # 68.08846982758423\n"
   ]
  }
 ],
 "metadata": {
  "kernelspec": {
   "display_name": "Python 3",
   "language": "python",
   "name": "python3"
  },
  "language_info": {
   "codemirror_mode": {
    "name": "ipython",
    "version": 3
   },
   "file_extension": ".py",
   "mimetype": "text/x-python",
   "name": "python",
   "nbconvert_exporter": "python",
   "pygments_lexer": "ipython3",
   "version": "3.7.6"
  }
 },
 "nbformat": 4,
 "nbformat_minor": 4
}
