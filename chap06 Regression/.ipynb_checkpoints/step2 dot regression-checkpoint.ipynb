{
 "cells": [
  {
   "cell_type": "markdown",
   "metadata": {},
   "source": [
    "# 행렬곱 함수(np.dot) 이용 y 예측치 구하기\n",
    " - y_pred = np.dot(X, a) + b\n",
    "\n",
    "# np.dot(X, a) 전제조건\n",
    " 1. X, a   : 행렬구조\n",
    " 2. 수일치 : X열 차수 = a행 차수"
   ]
  },
  {
   "cell_type": "code",
   "execution_count": 1,
   "metadata": {},
   "outputs": [
    {
     "name": "stdout",
     "output_type": "stream",
     "text": [
      "<class 'pandas.core.frame.DataFrame'>\n",
      "RangeIndex: 150 entries, 0 to 149\n",
      "Data columns (total 6 columns):\n",
      " #   Column   Non-Null Count  Dtype\n",
      "---  ------   --------------  -----\n",
      " 0   sid      150 non-null    int64\n",
      " 1   score    150 non-null    int64\n",
      " 2   iq       150 non-null    int64\n",
      " 3   academy  150 non-null    int64\n",
      " 4   game     150 non-null    int64\n",
      " 5   tv       150 non-null    int64\n",
      "dtypes: int64(6)\n",
      "memory usage: 7.2 KB\n"
     ]
    },
    {
     "data": {
      "text/plain": [
       "0.9727792069594754"
      ]
     },
     "execution_count": 1,
     "metadata": {},
     "output_type": "execute_result"
    }
   ],
   "source": [
    "\n",
    "from scipy import stats #단순회귀모델\n",
    "from statsmodels.formula.api import ols #다중회귀모델\n",
    "import pandas as pd\n",
    "import numpy as np\n",
    "\n",
    "# 1. dataset load\n",
    "score = pd.read_csv('C:/IITT/4_Python-II/workplace/data/score_iq.csv')\n",
    "score.info()\n",
    "'''\n",
    " #   Column   Non-Null Count  Dtype\n",
    "---  ------   --------------  -----\n",
    " 0   sid      150 non-null    int64\n",
    " 1   score    150 non-null    int64 -> Y\n",
    " 2   iq       150 non-null    int64 -> X1\n",
    " 3   academy  150 non-null    int64 -> X2\n",
    " 4   game     150 non-null    int64\n",
    " 5   tv       150 non-null    int64\n",
    "'''\n",
    "\n",
    "formula = \"score ~ iq + academy\"\n",
    "model = ols(formula, data=score).fit()\n",
    "\n",
    "\n",
    "# 회귀계수 : 기울기, 절편\n",
    "model.params \n",
    "'''\n",
    "Intercept    25.229141 : 절편\n",
    "iq            0.376966 : 기울기1\n",
    "academy       2.992800 : 기울기2\n",
    "'''\n",
    "\n",
    "# model 결과 확인\n",
    "model.summary()\n",
    "\n",
    "# model 예측치\n",
    "model.fittedvalues\n",
    "\n",
    "# y_pred = np.dot(X, a) + b\n",
    "# 1. X, a   : 행렬구조\n",
    "# 2. 수일치 : X열 차수 = a행 차수\n",
    "X = score[['iq','academy']]\n",
    "X.shape # (150,2)\n",
    "\n",
    "a = np.array([[0.376966],[2.992800]]) # (2,1)\n",
    "a.shape # (2,1)\n",
    "\n",
    "matmul = np.dot(X,a) # 행렬곱\n",
    "matmul.shape # (150,1) = X(150,2) , a(2,1)\n",
    "\n",
    "b = 25.229141 # 절편\n",
    "y_pred = matmul + b\n",
    "y_pred.shape\n",
    "\n",
    "# 2차원 -> 1차원\n",
    "ypred1d = y_pred.reshape(150)\n",
    "ypred1d.shape # (150,)\n",
    "\n",
    "y_true = score['score']\n",
    "y_true.shape # (150,)\n",
    "\n",
    "err = y_true - ypred1d\n",
    "\n",
    "df = pd.DataFrame({'y_true':y_true, 'y_pred':ypred1d, 'err':abs(err)})\n",
    "df.head()\n",
    "df.tail()\n",
    "\n",
    "cor = df['y_true'].corr(df['y_pred'])\n",
    "cor # 0.9727792069594754\n"
   ]
  }
 ],
 "metadata": {
  "kernelspec": {
   "display_name": "Python 3",
   "language": "python",
   "name": "python3"
  },
  "language_info": {
   "codemirror_mode": {
    "name": "ipython",
    "version": 3
   },
   "file_extension": ".py",
   "mimetype": "text/x-python",
   "name": "python",
   "nbconvert_exporter": "python",
   "pygments_lexer": "ipython3",
   "version": "3.7.6"
  }
 },
 "nbformat": 4,
 "nbformat_minor": 4
}
